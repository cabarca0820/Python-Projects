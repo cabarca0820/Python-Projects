{
 "cells": [
  {
   "cell_type": "markdown",
   "metadata": {},
   "source": [
    "# Creating a Sentiment Analysis Web App\n",
    "## Using PyTorch and SageMaker\n",
    "\n",
    "_Deep Learning Nanodegree Program | Deployment_\n",
    "\n",
    "---\n",
    "\n",
    "Now that we have a basic understanding of how SageMaker works we will try to use it to construct a complete project from end to end. Our goal will be to have a simple web page which a user can use to enter a movie review. The web page will then send the review off to our deployed model which will predict the sentiment of the entered review.\n",
    "\n",
    "## Instructions\n",
    "\n",
    "Some template code has already been provided for you, and you will need to implement additional functionality to successfully complete this notebook. You will not need to modify the included code beyond what is requested. Sections that begin with '**TODO**' in the header indicate that you need to complete or implement some portion within them. Instructions will be provided for each section and the specifics of the implementation are marked in the code block with a `# TODO: ...` comment. Please be sure to read the instructions carefully!\n",
    "\n",
    "In addition to implementing code, there will be questions for you to answer which relate to the task and your implementation. Each section where you will answer a question is preceded by a '**Question:**' header. Carefully read each question and provide your answer below the '**Answer:**' header by editing the Markdown cell.\n",
    "\n",
    "> **Note**: Code and Markdown cells can be executed using the **Shift+Enter** keyboard shortcut. In addition, a cell can be edited by typically clicking it (double-click for Markdown cells) or by pressing **Enter** while it is highlighted.\n",
    "\n",
    "## General Outline\n",
    "\n",
    "Recall the general outline for SageMaker projects using a notebook instance.\n",
    "\n",
    "1. Download or otherwise retrieve the data.\n",
    "2. Process / Prepare the data.\n",
    "3. Upload the processed data to S3.\n",
    "4. Train a chosen model.\n",
    "5. Test the trained model (typically using a batch transform job).\n",
    "6. Deploy the trained model.\n",
    "7. Use the deployed model.\n",
    "\n",
    "For this project, you will be following the steps in the general outline with some modifications. \n",
    "\n",
    "First, you will not be testing the model in its own step. You will still be testing the model, however, you will do it by deploying your model and then using the deployed model by sending the test data to it. One of the reasons for doing this is so that you can make sure that your deployed model is working correctly before moving forward.\n",
    "\n",
    "In addition, you will deploy and use your trained model a second time. In the second iteration you will customize the way that your trained model is deployed by including some of your own code. In addition, your newly deployed model will be used in the sentiment analysis web app."
   ]
  },
  {
   "cell_type": "markdown",
   "metadata": {},
   "source": [
    "## Step 1: Downloading the data\n",
    "\n",
    "As in the XGBoost in SageMaker notebook, we will be using the [IMDb dataset](http://ai.stanford.edu/~amaas/data/sentiment/)\n",
    "\n",
    "> Maas, Andrew L., et al. [Learning Word Vectors for Sentiment Analysis](http://ai.stanford.edu/~amaas/data/sentiment/). In _Proceedings of the 49th Annual Meeting of the Association for Computational Linguistics: Human Language Technologies_. Association for Computational Linguistics, 2011."
   ]
  },
  {
   "cell_type": "code",
   "execution_count": 1,
   "metadata": {},
   "outputs": [
    {
     "name": "stdout",
     "output_type": "stream",
     "text": [
      "mkdir: cannot create directory ‘../data’: File exists\n",
      "--2020-09-10 22:29:54--  http://ai.stanford.edu/~amaas/data/sentiment/aclImdb_v1.tar.gz\n",
      "Resolving ai.stanford.edu (ai.stanford.edu)... 171.64.68.10\n",
      "Connecting to ai.stanford.edu (ai.stanford.edu)|171.64.68.10|:80... connected.\n",
      "HTTP request sent, awaiting response... 200 OK\n",
      "Length: 84125825 (80M) [application/x-gzip]\n",
      "Saving to: ‘../data/aclImdb_v1.tar.gz’\n",
      "\n",
      "../data/aclImdb_v1. 100%[===================>]  80.23M  10.1MB/s    in 11s     \n",
      "\n",
      "2020-09-10 22:30:06 (7.12 MB/s) - ‘../data/aclImdb_v1.tar.gz’ saved [84125825/84125825]\n",
      "\n"
     ]
    }
   ],
   "source": [
    "%mkdir ../data\n",
    "!wget -O ../data/aclImdb_v1.tar.gz http://ai.stanford.edu/~amaas/data/sentiment/aclImdb_v1.tar.gz\n",
    "!tar -zxf ../data/aclImdb_v1.tar.gz -C ../data"
   ]
  },
  {
   "cell_type": "markdown",
   "metadata": {},
   "source": [
    "## Step 2: Preparing and Processing the data\n",
    "\n",
    "Also, as in the XGBoost notebook, we will be doing some initial data processing. The first few steps are the same as in the XGBoost example. To begin with, we will read in each of the reviews and combine them into a single input structure. Then, we will split the dataset into a training set and a testing set."
   ]
  },
  {
   "cell_type": "code",
   "execution_count": 4,
   "metadata": {},
   "outputs": [],
   "source": [
    "import os\n",
    "import glob\n",
    "\n",
    "def read_imdb_data(data_dir='../data/aclImdb'):\n",
    "    data = {}\n",
    "    labels = {}\n",
    "    \n",
    "    for data_type in ['train', 'test']:\n",
    "        data[data_type] = {}\n",
    "        labels[data_type] = {}\n",
    "        \n",
    "        for sentiment in ['pos', 'neg']:\n",
    "            data[data_type][sentiment] = []\n",
    "            labels[data_type][sentiment] = []\n",
    "            \n",
    "            path = os.path.join(data_dir, data_type, sentiment, '*.txt')\n",
    "            files = glob.glob(path)\n",
    "            \n",
    "            for f in files:\n",
    "                with open(f) as review:\n",
    "                    data[data_type][sentiment].append(review.read())\n",
    "                    # Here we represent a positive review by '1' and a negative review by '0'\n",
    "                    labels[data_type][sentiment].append(1 if sentiment == 'pos' else 0)\n",
    "                    \n",
    "            assert len(data[data_type][sentiment]) == len(labels[data_type][sentiment]), \\\n",
    "                    \"{}/{} data size does not match labels size\".format(data_type, sentiment)\n",
    "                \n",
    "    return data, labels"
   ]
  },
  {
   "cell_type": "code",
   "execution_count": 5,
   "metadata": {},
   "outputs": [
    {
     "name": "stdout",
     "output_type": "stream",
     "text": [
      "IMDB reviews: train = 12500 pos / 12500 neg, test = 12500 pos / 12500 neg\n"
     ]
    }
   ],
   "source": [
    "data, labels = read_imdb_data()\n",
    "print(\"IMDB reviews: train = {} pos / {} neg, test = {} pos / {} neg\".format(\n",
    "            len(data['train']['pos']), len(data['train']['neg']),\n",
    "            len(data['test']['pos']), len(data['test']['neg'])))"
   ]
  },
  {
   "cell_type": "markdown",
   "metadata": {},
   "source": [
    "Now that we've read the raw training and testing data from the downloaded dataset, we will combine the positive and negative reviews and shuffle the resulting records."
   ]
  },
  {
   "cell_type": "code",
   "execution_count": 6,
   "metadata": {},
   "outputs": [],
   "source": [
    "from sklearn.utils import shuffle\n",
    "\n",
    "def prepare_imdb_data(data, labels):\n",
    "    \"\"\"Prepare training and test sets from IMDb movie reviews.\"\"\"\n",
    "    \n",
    "    #Combine positive and negative reviews and labels\n",
    "    data_train = data['train']['pos'] + data['train']['neg']\n",
    "    data_test = data['test']['pos'] + data['test']['neg']\n",
    "    labels_train = labels['train']['pos'] + labels['train']['neg']\n",
    "    labels_test = labels['test']['pos'] + labels['test']['neg']\n",
    "    \n",
    "    #Shuffle reviews and corresponding labels within training and test sets\n",
    "    data_train, labels_train = shuffle(data_train, labels_train)\n",
    "    data_test, labels_test = shuffle(data_test, labels_test)\n",
    "    \n",
    "    # Return a unified training data, test data, training labels, test labets\n",
    "    return data_train, data_test, labels_train, labels_test"
   ]
  },
  {
   "cell_type": "code",
   "execution_count": 7,
   "metadata": {},
   "outputs": [
    {
     "name": "stdout",
     "output_type": "stream",
     "text": [
      "IMDb reviews (combined): train = 25000, test = 25000\n"
     ]
    }
   ],
   "source": [
    "train_X, test_X, train_y, test_y = prepare_imdb_data(data, labels)\n",
    "print(\"IMDb reviews (combined): train = {}, test = {}\".format(len(train_X), len(test_X)))"
   ]
  },
  {
   "cell_type": "markdown",
   "metadata": {},
   "source": [
    "Now that we have our training and testing sets unified and prepared, we should do a quick check and see an example of the data our model will be trained on. This is generally a good idea as it allows you to see how each of the further processing steps affects the reviews and it also ensures that the data has been loaded correctly."
   ]
  },
  {
   "cell_type": "code",
   "execution_count": 8,
   "metadata": {},
   "outputs": [
    {
     "name": "stdout",
     "output_type": "stream",
     "text": [
      "Truly this is a 'heart-warming' film. It won the George Peobody Award, winning over \"Roots\", so that may tell you something of the essence of this film. I am looking on the Internet how to order this movie since my former father-in-law, Eugene Logan, the co-writer of this film has been deceased for a few years now so I no longer have the opportunity to receive information from him. I would love to have his only grand-daughters, my daughters, see this film, as well as to pass this wonderful story on to his great-grandsons. My oldest daughter was seven years old at the time it was aired on television and I since have been looking forward to seeing it again. One of my friends said it was her favorite movie. I won't 'spoil' this movie for you.\n",
      "1\n"
     ]
    }
   ],
   "source": [
    "print(train_X[100])\n",
    "print(train_y[100])"
   ]
  },
  {
   "cell_type": "markdown",
   "metadata": {},
   "source": [
    "The first step in processing the reviews is to make sure that any html tags that appear should be removed. In addition we wish to tokenize our input, that way words such as *entertained* and *entertaining* are considered the same with regard to sentiment analysis."
   ]
  },
  {
   "cell_type": "code",
   "execution_count": 9,
   "metadata": {},
   "outputs": [],
   "source": [
    "import nltk\n",
    "from nltk.corpus import stopwords\n",
    "from nltk.stem.porter import *\n",
    "\n",
    "import re\n",
    "from bs4 import BeautifulSoup\n",
    "\n",
    "def review_to_words(review):\n",
    "    nltk.download(\"stopwords\", quiet=True)\n",
    "    stemmer = PorterStemmer()\n",
    "    \n",
    "    text = BeautifulSoup(review, \"html.parser\").get_text() # Remove HTML tags\n",
    "    text = re.sub(r\"[^a-zA-Z0-9]\", \" \", text.lower()) # Convert to lower case\n",
    "    words = text.split() # Split string into words\n",
    "    words = [w for w in words if w not in stopwords.words(\"english\")] # Remove stopwords\n",
    "    words = [PorterStemmer().stem(w) for w in words] # stem\n",
    "    \n",
    "    return words"
   ]
  },
  {
   "cell_type": "markdown",
   "metadata": {},
   "source": [
    "The `review_to_words` method defined above uses `BeautifulSoup` to remove any html tags that appear and uses the `nltk` package to tokenize the reviews. As a check to ensure we know how everything is working, try applying `review_to_words` to one of the reviews in the training set."
   ]
  },
  {
   "cell_type": "code",
   "execution_count": 10,
   "metadata": {},
   "outputs": [
    {
     "data": {
      "text/plain": [
       "['truli',\n",
       " 'heart',\n",
       " 'warm',\n",
       " 'film',\n",
       " 'georg',\n",
       " 'peobodi',\n",
       " 'award',\n",
       " 'win',\n",
       " 'root',\n",
       " 'may',\n",
       " 'tell',\n",
       " 'someth',\n",
       " 'essenc',\n",
       " 'film',\n",
       " 'look',\n",
       " 'internet',\n",
       " 'order',\n",
       " 'movi',\n",
       " 'sinc',\n",
       " 'former',\n",
       " 'father',\n",
       " 'law',\n",
       " 'eugen',\n",
       " 'logan',\n",
       " 'co',\n",
       " 'writer',\n",
       " 'film',\n",
       " 'deceas',\n",
       " 'year',\n",
       " 'longer',\n",
       " 'opportun',\n",
       " 'receiv',\n",
       " 'inform',\n",
       " 'would',\n",
       " 'love',\n",
       " 'grand',\n",
       " 'daughter',\n",
       " 'daughter',\n",
       " 'see',\n",
       " 'film',\n",
       " 'well',\n",
       " 'pass',\n",
       " 'wonder',\n",
       " 'stori',\n",
       " 'great',\n",
       " 'grandson',\n",
       " 'oldest',\n",
       " 'daughter',\n",
       " 'seven',\n",
       " 'year',\n",
       " 'old',\n",
       " 'time',\n",
       " 'air',\n",
       " 'televis',\n",
       " 'sinc',\n",
       " 'look',\n",
       " 'forward',\n",
       " 'see',\n",
       " 'one',\n",
       " 'friend',\n",
       " 'said',\n",
       " 'favorit',\n",
       " 'movi',\n",
       " 'spoil',\n",
       " 'movi']"
      ]
     },
     "execution_count": 10,
     "metadata": {},
     "output_type": "execute_result"
    }
   ],
   "source": [
    "# TODO: Apply review_to_words to a review (train_X[100] or any other review)\n",
    "review_to_words(train_X[100])"
   ]
  },
  {
   "cell_type": "markdown",
   "metadata": {},
   "source": [
    "**Question:** Above we mentioned that `review_to_words` method removes html formatting and allows us to tokenize the words found in a review, for example, converting *entertained* and *entertaining* into *entertain* so that they are treated as though they are the same word. What else, if anything, does this method do to the input?"
   ]
  },
  {
   "cell_type": "markdown",
   "metadata": {},
   "source": [
    "**Answer:**\n",
    "\n",
    "Aside from removing HTML tags, this method also performs:\n",
    "- convert the characters to lowercase\n",
    "- remove stop words\n",
    "- apply Porter Stemmer algorithm to remove suffixes"
   ]
  },
  {
   "cell_type": "markdown",
   "metadata": {},
   "source": [
    "The method below applies the `review_to_words` method to each of the reviews in the training and testing datasets. In addition it caches the results. This is because performing this processing step can take a long time. This way if you are unable to complete the notebook in the current session, you can come back without needing to process the data a second time."
   ]
  },
  {
   "cell_type": "code",
   "execution_count": 11,
   "metadata": {},
   "outputs": [],
   "source": [
    "import pickle\n",
    "\n",
    "cache_dir = os.path.join(\"../cache\", \"sentiment_analysis\")  # where to store cache files\n",
    "os.makedirs(cache_dir, exist_ok=True)  # ensure cache directory exists\n",
    "\n",
    "def preprocess_data(data_train, data_test, labels_train, labels_test,\n",
    "                    cache_dir=cache_dir, cache_file=\"preprocessed_data.pkl\"):\n",
    "    \"\"\"Convert each review to words; read from cache if available.\"\"\"\n",
    "\n",
    "    # If cache_file is not None, try to read from it first\n",
    "    cache_data = None\n",
    "    if cache_file is not None:\n",
    "        try:\n",
    "            with open(os.path.join(cache_dir, cache_file), \"rb\") as f:\n",
    "                cache_data = pickle.load(f)\n",
    "            print(\"Read preprocessed data from cache file:\", cache_file)\n",
    "        except:\n",
    "            pass  # unable to read from cache, but that's okay\n",
    "    \n",
    "    # If cache is missing, then do the heavy lifting\n",
    "    if cache_data is None:\n",
    "        # Preprocess training and test data to obtain words for each review\n",
    "        #words_train = list(map(review_to_words, data_train))\n",
    "        #words_test = list(map(review_to_words, data_test))\n",
    "        words_train = [review_to_words(review) for review in data_train]\n",
    "        words_test = [review_to_words(review) for review in data_test]\n",
    "        \n",
    "        # Write to cache file for future runs\n",
    "        if cache_file is not None:\n",
    "            cache_data = dict(words_train=words_train, words_test=words_test,\n",
    "                              labels_train=labels_train, labels_test=labels_test)\n",
    "            with open(os.path.join(cache_dir, cache_file), \"wb\") as f:\n",
    "                pickle.dump(cache_data, f)\n",
    "            print(\"Wrote preprocessed data to cache file:\", cache_file)\n",
    "    else:\n",
    "        # Unpack data loaded from cache file\n",
    "        words_train, words_test, labels_train, labels_test = (cache_data['words_train'],\n",
    "                cache_data['words_test'], cache_data['labels_train'], cache_data['labels_test'])\n",
    "    \n",
    "    return words_train, words_test, labels_train, labels_test"
   ]
  },
  {
   "cell_type": "code",
   "execution_count": 12,
   "metadata": {},
   "outputs": [
    {
     "name": "stdout",
     "output_type": "stream",
     "text": [
      "Read preprocessed data from cache file: preprocessed_data.pkl\n"
     ]
    }
   ],
   "source": [
    "# Preprocess data\n",
    "train_X, test_X, train_y, test_y = preprocess_data(train_X, test_X, train_y, test_y)"
   ]
  },
  {
   "cell_type": "markdown",
   "metadata": {},
   "source": [
    "## Transform the data\n",
    "\n",
    "In the XGBoost notebook we transformed the data from its word representation to a bag-of-words feature representation. For the model we are going to construct in this notebook we will construct a feature representation which is very similar. To start, we will represent each word as an integer. Of course, some of the words that appear in the reviews occur very infrequently and so likely don't contain much information for the purposes of sentiment analysis. The way we will deal with this problem is that we will fix the size of our working vocabulary and we will only include the words that appear most frequently. We will then combine all of the infrequent words into a single category and, in our case, we will label it as `1`.\n",
    "\n",
    "Since we will be using a recurrent neural network, it will be convenient if the length of each review is the same. To do this, we will fix a size for our reviews and then pad short reviews with the category 'no word' (which we will label `0`) and truncate long reviews."
   ]
  },
  {
   "cell_type": "markdown",
   "metadata": {},
   "source": [
    "### (TODO) Create a word dictionary\n",
    "\n",
    "To begin with, we need to construct a way to map words that appear in the reviews to integers. Here we fix the size of our vocabulary (including the 'no word' and 'infrequent' categories) to be `5000` but you may wish to change this to see how it affects the model.\n",
    "\n",
    "> **TODO:** Complete the implementation for the `build_dict()` method below. Note that even though the vocab_size is set to `5000`, we only want to construct a mapping for the most frequently appearing `4998` words. This is because we want to reserve the special labels `0` for 'no word' and `1` for 'infrequent word'."
   ]
  },
  {
   "cell_type": "code",
   "execution_count": 13,
   "metadata": {},
   "outputs": [],
   "source": [
    "import numpy as np\n",
    "from collections import Counter\n",
    "\n",
    "def build_dict(data, vocab_size = 5000):\n",
    "    \"\"\"Construct and return a dictionary mapping each of the most frequently appearing words to a unique integer.\"\"\"\n",
    "    \n",
    "    # TODO: Determine how often each word appears in `data`. Note that `data` is a list of sentences and that a\n",
    "    #       sentence is a list of words.\n",
    "    \n",
    "    word_count = {} # A dict storing the words that appear in the reviews along with how often they occur\n",
    "    \n",
    "    # TODO: Sort the words found in `data` so that sorted_words[0] is the most frequently appearing word and\n",
    "    #       sorted_words[-1] is the least frequently appearing word.\n",
    "    \n",
    "    counts = Counter(np.concatenate( data, axis=0 ))\n",
    "    sorted_words = sorted(counts, key=counts.get, reverse=True)\n",
    "    \n",
    "    word_dict = {} # This is what we are building, a dictionary that translates words into integers\n",
    "    for idx, word in enumerate(sorted_words[:vocab_size - 2]): # The -2 is so that we save room for the 'no word'\n",
    "        word_dict[word] = idx + 2                              # 'infrequent' labels\n",
    "        \n",
    "    return word_dict"
   ]
  },
  {
   "cell_type": "code",
   "execution_count": 14,
   "metadata": {},
   "outputs": [],
   "source": [
    "word_dict = build_dict(train_X)"
   ]
  },
  {
   "cell_type": "markdown",
   "metadata": {},
   "source": [
    "**Question:** What are the five most frequently appearing (tokenized) words in the training set? Does it makes sense that these words appear frequently in the training set?"
   ]
  },
  {
   "cell_type": "markdown",
   "metadata": {},
   "source": [
    "**Answer:**\n",
    "The five most frequently appearing (tokenized) words are: ['movi', 'film', 'one', 'like', 'time']\n",
    "Yes, it makes sense that these words appear frequently in the training set."
   ]
  },
  {
   "cell_type": "code",
   "execution_count": 15,
   "metadata": {},
   "outputs": [
    {
     "name": "stdout",
     "output_type": "stream",
     "text": [
      "['movi', 'film', 'one', 'like', 'time']\n",
      "51695\n",
      "{'movi': 2, 'film': 3, 'one': 4, 'like': 5, 'time': 6, 'good': 7, 'make': 8, 'charact': 9, 'get': 10, 'see': 11, 'watch': 12, 'stori': 13, 'even': 14, 'would': 15, 'realli': 16, 'well': 17, 'scene': 18, 'look': 19, 'show': 20, 'much': 21, 'end': 22, 'peopl': 23, 'bad': 24, 'go': 25, 'great': 26, 'also': 27, 'first': 28, 'love': 29, 'think': 30, 'way': 31, 'act': 32, 'play': 33, 'made': 34, 'thing': 35, 'could': 36, 'know': 37, 'say': 38, 'seem': 39, 'work': 40, 'plot': 41, 'two': 42, 'actor': 43, 'year': 44, 'come': 45, 'mani': 46, 'seen': 47, 'take': 48, 'life': 49, 'want': 50, 'never': 51, 'littl': 52, 'best': 53, 'tri': 54, 'man': 55, 'ever': 56, 'give': 57, 'better': 58, 'still': 59, 'perform': 60, 'find': 61, 'feel': 62, 'part': 63, 'back': 64, 'use': 65, 'someth': 66, 'director': 67, 'actual': 68, 'interest': 69, 'lot': 70, 'real': 71, 'old': 72, 'cast': 73, 'though': 74, 'live': 75, 'star': 76, 'enjoy': 77, 'guy': 78, 'anoth': 79, 'new': 80, 'role': 81, 'noth': 82, '10': 83, 'funni': 84, 'music': 85, 'point': 86, 'start': 87, 'set': 88, 'girl': 89, 'origin': 90, 'day': 91, 'world': 92, 'everi': 93, 'believ': 94, 'turn': 95, 'quit': 96, 'us': 97, 'direct': 98, 'thought': 99, 'fact': 100, 'minut': 101, 'horror': 102, 'kill': 103, 'action': 104, 'comedi': 105, 'pretti': 106, 'young': 107, 'wonder': 108, 'happen': 109, 'around': 110, 'got': 111, 'effect': 112, 'right': 113, 'long': 114, 'howev': 115, 'big': 116, 'line': 117, 'famili': 118, 'enough': 119, 'seri': 120, 'may': 121, 'need': 122, 'fan': 123, 'bit': 124, 'script': 125, 'beauti': 126, 'person': 127, 'becom': 128, 'without': 129, 'must': 130, 'alway': 131, 'friend': 132, 'tell': 133, 'reason': 134, 'saw': 135, 'last': 136, 'final': 137, 'kid': 138, 'almost': 139, 'put': 140, 'least': 141, 'sure': 142, 'done': 143, 'whole': 144, 'place': 145, 'complet': 146, 'kind': 147, 'differ': 148, 'expect': 149, 'shot': 150, 'far': 151, 'mean': 152, 'anyth': 153, 'book': 154, 'laugh': 155, 'might': 156, 'name': 157, 'sinc': 158, 'begin': 159, '2': 160, 'probabl': 161, 'woman': 162, 'help': 163, 'entertain': 164, 'let': 165, 'screen': 166, 'call': 167, 'tv': 168, 'moment': 169, 'away': 170, 'read': 171, 'yet': 172, 'rather': 173, 'worst': 174, 'run': 175, 'fun': 176, 'lead': 177, 'hard': 178, 'audienc': 179, 'idea': 180, 'anyon': 181, 'episod': 182, 'american': 183, 'found': 184, 'appear': 185, 'bore': 186, 'especi': 187, 'although': 188, 'hope': 189, 'cours': 190, 'keep': 191, 'anim': 192, 'job': 193, 'goe': 194, 'move': 195, 'sens': 196, 'dvd': 197, 'version': 198, 'war': 199, 'money': 200, 'someon': 201, 'mind': 202, 'mayb': 203, 'problem': 204, 'true': 205, 'hous': 206, 'everyth': 207, 'nice': 208, 'second': 209, 'rate': 210, 'three': 211, 'night': 212, 'follow': 213, 'face': 214, 'recommend': 215, 'product': 216, 'main': 217, 'worth': 218, 'leav': 219, 'human': 220, 'special': 221, 'excel': 222, 'togeth': 223, 'wast': 224, 'sound': 225, 'everyon': 226, 'john': 227, 'hand': 228, '1': 229, 'father': 230, 'later': 231, 'eye': 232, 'said': 233, 'view': 234, 'instead': 235, 'review': 236, 'boy': 237, 'high': 238, 'hour': 239, 'miss': 240, 'talk': 241, 'classic': 242, 'wife': 243, 'understand': 244, 'left': 245, 'care': 246, 'black': 247, 'death': 248, 'open': 249, 'murder': 250, 'write': 251, 'half': 252, 'head': 253, 'rememb': 254, 'chang': 255, 'viewer': 256, 'fight': 257, 'gener': 258, 'surpris': 259, 'includ': 260, 'short': 261, 'die': 262, 'fall': 263, 'less': 264, 'els': 265, 'entir': 266, 'piec': 267, 'involv': 268, 'pictur': 269, 'simpli': 270, 'home': 271, 'top': 272, 'power': 273, 'total': 274, 'usual': 275, 'budget': 276, 'attempt': 277, 'suppos': 278, 'releas': 279, 'hollywood': 280, 'terribl': 281, 'song': 282, 'men': 283, 'possibl': 284, 'featur': 285, 'portray': 286, 'disappoint': 287, '3': 288, 'poor': 289, 'coupl': 290, 'stupid': 291, 'camera': 292, 'dead': 293, 'wrong': 294, 'produc': 295, 'low': 296, 'video': 297, 'either': 298, 'aw': 299, 'definit': 300, 'except': 301, 'rest': 302, 'given': 303, 'absolut': 304, 'women': 305, 'lack': 306, 'word': 307, 'writer': 308, 'titl': 309, 'talent': 310, 'decid': 311, 'full': 312, 'perfect': 313, 'along': 314, 'style': 315, 'close': 316, 'truli': 317, 'school': 318, 'save': 319, 'emot': 320, 'sex': 321, 'age': 322, 'next': 323, 'bring': 324, 'mr': 325, 'case': 326, 'killer': 327, 'heart': 328, 'comment': 329, 'sort': 330, 'creat': 331, 'perhap': 332, 'came': 333, 'brother': 334, 'sever': 335, 'joke': 336, 'art': 337, 'dialogu': 338, 'game': 339, 'small': 340, 'base': 341, 'flick': 342, 'written': 343, 'sequenc': 344, 'meet': 345, 'earli': 346, 'often': 347, 'other': 348, 'mother': 349, 'develop': 350, 'humor': 351, 'actress': 352, 'consid': 353, 'dark': 354, 'guess': 355, 'amaz': 356, 'unfortun': 357, 'lost': 358, 'light': 359, 'exampl': 360, 'cinema': 361, 'drama': 362, 'ye': 363, 'white': 364, 'experi': 365, 'imagin': 366, 'mention': 367, 'stop': 368, 'natur': 369, 'forc': 370, 'manag': 371, 'felt': 372, 'present': 373, 'cut': 374, 'children': 375, 'fail': 376, 'son': 377, 'car': 378, 'qualiti': 379, 'support': 380, 'ask': 381, 'hit': 382, 'side': 383, 'voic': 384, 'extrem': 385, 'impress': 386, 'wors': 387, 'evil': 388, 'went': 389, 'stand': 390, 'certainli': 391, 'basic': 392, 'oh': 393, 'overal': 394, 'favorit': 395, 'horribl': 396, 'mysteri': 397, 'number': 398, 'type': 399, 'danc': 400, 'wait': 401, 'hero': 402, '5': 403, 'alreadi': 404, 'learn': 405, 'matter': 406, '4': 407, 'michael': 408, 'genr': 409, 'fine': 410, 'despit': 411, 'throughout': 412, 'walk': 413, 'success': 414, 'histori': 415, 'question': 416, 'zombi': 417, 'town': 418, 'relationship': 419, 'realiz': 420, 'past': 421, 'child': 422, 'daughter': 423, 'late': 424, 'b': 425, 'wish': 426, 'hate': 427, 'credit': 428, 'event': 429, 'theme': 430, 'touch': 431, 'citi': 432, 'today': 433, 'sometim': 434, 'behind': 435, 'god': 436, 'twist': 437, 'sit': 438, 'stay': 439, 'annoy': 440, 'deal': 441, 'abl': 442, 'rent': 443, 'pleas': 444, 'edit': 445, 'blood': 446, 'deserv': 447, 'comic': 448, 'anyway': 449, 'appar': 450, 'soon': 451, 'gave': 452, 'etc': 453, 'level': 454, 'slow': 455, 'chanc': 456, 'score': 457, 'bodi': 458, 'brilliant': 459, 'incred': 460, 'figur': 461, 'situat': 462, 'self': 463, 'major': 464, 'stuff': 465, 'decent': 466, 'element': 467, 'dream': 468, 'return': 469, 'obvious': 470, 'order': 471, 'continu': 472, 'pace': 473, 'ridicul': 474, 'happi': 475, 'highli': 476, 'add': 477, 'group': 478, 'thank': 479, 'ladi': 480, 'novel': 481, 'speak': 482, 'pain': 483, 'career': 484, 'shoot': 485, 'strang': 486, 'heard': 487, 'sad': 488, 'husband': 489, 'polic': 490, 'import': 491, 'break': 492, 'took': 493, 'cannot': 494, 'strong': 495, 'robert': 496, 'predict': 497, 'violenc': 498, 'hilari': 499, 'recent': 500, 'countri': 501, 'known': 502, 'particularli': 503, 'pick': 504, 'documentari': 505, 'season': 506, 'critic': 507, 'jame': 508, 'compar': 509, 'obviou': 510, 'alon': 511, 'told': 512, 'state': 513, 'visual': 514, 'rock': 515, 'exist': 516, 'offer': 517, 'theater': 518, 'opinion': 519, 'gore': 520, 'hold': 521, 'crap': 522, 'result': 523, 'hear': 524, 'room': 525, 'realiti': 526, 'clich': 527, 'effort': 528, 'thriller': 529, 'caus': 530, 'serious': 531, 'sequel': 532, 'explain': 533, 'king': 534, 'local': 535, 'ago': 536, 'hell': 537, 'none': 538, 'note': 539, 'allow': 540, 'sister': 541, 'david': 542, 'simpl': 543, 'femal': 544, 'deliv': 545, 'ok': 546, 'convinc': 547, 'class': 548, 'check': 549, 'suspens': 550, 'win': 551, 'oscar': 552, 'buy': 553, 'huge': 554, 'valu': 555, 'sexual': 556, 'scari': 557, 'cool': 558, 'excit': 559, 'similar': 560, 'apart': 561, 'exactli': 562, 'provid': 563, 'avoid': 564, 'shown': 565, 'seriou': 566, 'english': 567, 'whose': 568, 'taken': 569, 'cinematographi': 570, 'shock': 571, 'polit': 572, 'spoiler': 573, 'offic': 574, 'across': 575, 'middl': 576, 'pass': 577, 'street': 578, 'messag': 579, 'somewhat': 580, 'charm': 581, 'silli': 582, 'modern': 583, 'confus': 584, 'filmmak': 585, 'form': 586, 'tale': 587, 'singl': 588, 'jack': 589, 'mostli': 590, 'william': 591, 'attent': 592, 'carri': 593, 'sing': 594, 'five': 595, 'subject': 596, 'prove': 597, 'richard': 598, 'team': 599, 'stage': 600, 'unlik': 601, 'cop': 602, 'georg': 603, 'televis': 604, 'monster': 605, 'earth': 606, 'cover': 607, 'villain': 608, 'pay': 609, 'marri': 610, 'toward': 611, 'build': 612, 'pull': 613, 'parent': 614, 'due': 615, 'fill': 616, 'respect': 617, 'four': 618, 'dialog': 619, 'remind': 620, 'futur': 621, 'weak': 622, 'typic': 623, '7': 624, 'cheap': 625, 'intellig': 626, 'british': 627, 'atmospher': 628, 'clearli': 629, '80': 630, 'non': 631, 'dog': 632, 'paul': 633, 'knew': 634, 'fast': 635, 'artist': 636, '8': 637, 'crime': 638, 'easili': 639, 'escap': 640, 'doubt': 641, 'adult': 642, 'detail': 643, 'date': 644, 'fire': 645, 'romant': 646, 'member': 647, 'drive': 648, 'gun': 649, 'straight': 650, 'fit': 651, 'beyond': 652, 'attack': 653, 'imag': 654, 'upon': 655, 'posit': 656, 'whether': 657, 'peter': 658, 'fantast': 659, 'captur': 660, 'appreci': 661, 'aspect': 662, 'ten': 663, 'plan': 664, 'discov': 665, 'remain': 666, 'near': 667, 'period': 668, 'air': 669, 'realist': 670, 'mark': 671, 'red': 672, 'dull': 673, 'adapt': 674, 'within': 675, 'spend': 676, 'lose': 677, 'materi': 678, 'color': 679, 'chase': 680, 'mari': 681, 'storylin': 682, 'forget': 683, 'bunch': 684, 'clear': 685, 'lee': 686, 'victim': 687, 'nearli': 688, 'box': 689, 'york': 690, 'match': 691, 'inspir': 692, 'finish': 693, 'mess': 694, 'standard': 695, 'easi': 696, 'truth': 697, 'busi': 698, 'suffer': 699, 'dramat': 700, 'space': 701, 'bill': 702, 'western': 703, 'e': 704, 'list': 705, 'battl': 706, 'notic': 707, 'de': 708, 'french': 709, 'ad': 710, '9': 711, 'tom': 712, 'larg': 713, 'among': 714, 'eventu': 715, 'accept': 716, 'train': 717, 'agre': 718, 'spirit': 719, 'soundtrack': 720, 'third': 721, 'teenag': 722, 'adventur': 723, 'soldier': 724, 'sorri': 725, 'drug': 726, 'famou': 727, 'suggest': 728, 'normal': 729, 'babi': 730, 'cri': 731, 'troubl': 732, 'ultim': 733, 'contain': 734, 'certain': 735, 'cultur': 736, 'romanc': 737, 'rare': 738, 'lame': 739, 'somehow': 740, 'mix': 741, 'disney': 742, 'gone': 743, 'cartoon': 744, 'student': 745, 'fear': 746, 'reveal': 747, 'suck': 748, 'kept': 749, 'attract': 750, 'appeal': 751, 'premis': 752, 'design': 753, 'greatest': 754, 'secret': 755, 'shame': 756, 'throw': 757, 'scare': 758, 'copi': 759, 'wit': 760, 'america': 761, 'admit': 762, 'brought': 763, 'particular': 764, 'relat': 765, 'screenplay': 766, 'whatev': 767, 'pure': 768, '70': 769, 'averag': 770, 'harri': 771, 'master': 772, 'describ': 773, 'male': 774, 'treat': 775, '20': 776, 'fantasi': 777, 'issu': 778, 'warn': 779, 'inde': 780, 'background': 781, 'forward': 782, 'free': 783, 'project': 784, 'japanes': 785, 'memor': 786, 'poorli': 787, 'award': 788, 'locat': 789, 'amus': 790, 'potenti': 791, 'struggl': 792, 'weird': 793, 'magic': 794, 'societi': 795, 'okay': 796, 'imdb': 797, 'accent': 798, 'doctor': 799, 'hot': 800, 'water': 801, '30': 802, 'alien': 803, 'dr': 804, 'express': 805, 'odd': 806, 'choic': 807, 'crazi': 808, 'fiction': 809, 'studio': 810, 'becam': 811, 'control': 812, 'masterpiec': 813, 'difficult': 814, 'fli': 815, 'joe': 816, 'scream': 817, 'costum': 818, 'lover': 819, 'refer': 820, 'uniqu': 821, 'remak': 822, 'girlfriend': 823, 'vampir': 824, 'prison': 825, 'execut': 826, 'wear': 827, 'jump': 828, 'wood': 829, 'unless': 830, 'creepi': 831, 'cheesi': 832, 'superb': 833, 'otherwis': 834, 'parti': 835, 'ghost': 836, 'roll': 837, 'mad': 838, 'public': 839, 'depict': 840, 'moral': 841, 'earlier': 842, 'jane': 843, 'week': 844, 'badli': 845, 'dumb': 846, 'fi': 847, 'flaw': 848, 'grow': 849, 'sci': 850, 'deep': 851, 'maker': 852, 'cat': 853, 'connect': 854, 'footag': 855, 'older': 856, 'bother': 857, 'plenti': 858, 'outsid': 859, 'stick': 860, 'gay': 861, 'catch': 862, 'plu': 863, 'co': 864, 'popular': 865, 'equal': 866, 'social': 867, 'quickli': 868, 'disturb': 869, 'perfectli': 870, 'dress': 871, 'era': 872, '90': 873, 'mistak': 874, 'lie': 875, 'ride': 876, 'previou': 877, 'combin': 878, 'concept': 879, 'band': 880, 'rich': 881, 'surviv': 882, 'answer': 883, 'front': 884, 'christma': 885, 'sweet': 886, 'insid': 887, 'bare': 888, 'eat': 889, 'concern': 890, 'beat': 891, 'ben': 892, 'listen': 893, 'c': 894, 'term': 895, 'serv': 896, 'meant': 897, 'german': 898, 'la': 899, 'stereotyp': 900, 'hardli': 901, 'innoc': 902, 'law': 903, 'desper': 904, 'memori': 905, 'promis': 906, 'intent': 907, 'cute': 908, 'steal': 909, 'variou': 910, 'inform': 911, 'brain': 912, 'post': 913, 'tone': 914, 'island': 915, 'amount': 916, 'track': 917, 'nuditi': 918, 'compani': 919, 'store': 920, 'claim': 921, 'flat': 922, '50': 923, 'hair': 924, 'land': 925, 'univers': 926, 'scott': 927, 'kick': 928, 'danger': 929, 'fairli': 930, 'player': 931, 'crew': 932, 'plain': 933, 'step': 934, 'toni': 935, 'share': 936, 'tast': 937, 'centuri': 938, 'achiev': 939, 'engag': 940, 'cold': 941, 'travel': 942, 'suit': 943, 'record': 944, 'rip': 945, 'manner': 946, 'sadli': 947, 'tension': 948, 'spot': 949, 'wrote': 950, 'fascin': 951, 'intens': 952, 'familiar': 953, 'depth': 954, 'burn': 955, 'remark': 956, 'destroy': 957, 'histor': 958, 'sleep': 959, 'purpos': 960, 'languag': 961, 'ignor': 962, 'ruin': 963, 'delight': 964, 'italian': 965, 'unbeliev': 966, 'soul': 967, 'collect': 968, 'abil': 969, 'detect': 970, 'clever': 971, 'violent': 972, 'rape': 973, 'reach': 974, 'door': 975, 'scienc': 976, 'trash': 977, 'liter': 978, 'caught': 979, 'commun': 980, 'reveng': 981, 'creatur': 982, 'approach': 983, 'trip': 984, 'intrigu': 985, 'fashion': 986, 'skill': 987, 'introduc': 988, 'paint': 989, 'channel': 990, 'complex': 991, 'camp': 992, 'christian': 993, 'hole': 994, 'extra': 995, 'limit': 996, 'immedi': 997, 'mental': 998, 'ann': 999, 'slightli': 1000, 'comput': 1001, '6': 1002, 'mere': 1003, 'million': 1004, 'conclus': 1005, 'slasher': 1006, 'imposs': 1007, 'suddenli': 1008, 'neither': 1009, 'crimin': 1010, 'teen': 1011, 'spent': 1012, 'physic': 1013, 'nation': 1014, 'respons': 1015, 'planet': 1016, 'receiv': 1017, 'fake': 1018, 'blue': 1019, 'sick': 1020, 'bizarr': 1021, 'embarrass': 1022, 'indian': 1023, '15': 1024, 'ring': 1025, 'drop': 1026, 'pop': 1027, 'drag': 1028, 'haunt': 1029, 'pointless': 1030, 'suspect': 1031, 'search': 1032, 'edg': 1033, 'handl': 1034, 'common': 1035, 'biggest': 1036, 'hurt': 1037, 'faith': 1038, 'arriv': 1039, 'technic': 1040, 'angel': 1041, 'dad': 1042, 'genuin': 1043, 'f': 1044, 'awesom': 1045, 'solid': 1046, 'van': 1047, 'focu': 1048, 'former': 1049, 'colleg': 1050, 'count': 1051, 'heavi': 1052, 'tear': 1053, 'rais': 1054, 'wall': 1055, 'visit': 1056, 'younger': 1057, 'laughabl': 1058, 'excus': 1059, 'sign': 1060, 'fair': 1061, 'cult': 1062, 'tough': 1063, 'motion': 1064, 'key': 1065, 'desir': 1066, 'super': 1067, 'addit': 1068, 'stun': 1069, 'cloth': 1070, 'exploit': 1071, 'tortur': 1072, 'smith': 1073, 'race': 1074, 'davi': 1075, 'author': 1076, 'cross': 1077, 'jim': 1078, 'focus': 1079, 'consist': 1080, 'minor': 1081, 'compel': 1082, 'commit': 1083, 'chemistri': 1084, 'pathet': 1085, 'park': 1086, 'frank': 1087, 'obsess': 1088, 'tradit': 1089, 'grade': 1090, 'asid': 1091, '60': 1092, 'brutal': 1093, 'steve': 1094, 'somewher': 1095, 'u': 1096, 'opportun': 1097, 'grant': 1098, 'rule': 1099, 'explor': 1100, 'depress': 1101, 'honest': 1102, 'besid': 1103, 'dub': 1104, 'anti': 1105, 'trailer': 1106, 'intend': 1107, 'bar': 1108, 'regard': 1109, 'west': 1110, 'longer': 1111, 'scientist': 1112, 'judg': 1113, 'decad': 1114, 'silent': 1115, 'armi': 1116, 'creativ': 1117, 'wild': 1118, 'stewart': 1119, 'south': 1120, 'g': 1121, 'draw': 1122, 'road': 1123, 'govern': 1124, 'boss': 1125, 'ex': 1126, 'practic': 1127, 'motiv': 1128, 'festiv': 1129, 'surprisingli': 1130, 'club': 1131, 'gang': 1132, 'london': 1133, 'green': 1134, 'redeem': 1135, 'page': 1136, 'display': 1137, 'idiot': 1138, 'aliv': 1139, 'machin': 1140, 'militari': 1141, 'repeat': 1142, 'thrill': 1143, 'folk': 1144, 'yeah': 1145, '100': 1146, 'nobodi': 1147, '40': 1148, 'garbag': 1149, 'journey': 1150, 'tire': 1151, 'ground': 1152, 'smile': 1153, 'bought': 1154, 'mood': 1155, 'sam': 1156, 'stone': 1157, 'cost': 1158, 'mouth': 1159, 'noir': 1160, 'terrif': 1161, 'agent': 1162, 'utterli': 1163, 'requir': 1164, 'sexi': 1165, 'area': 1166, 'honestli': 1167, 'report': 1168, 'geniu': 1169, 'humour': 1170, 'enter': 1171, 'investig': 1172, 'glad': 1173, 'serial': 1174, 'passion': 1175, 'narr': 1176, 'occasion': 1177, 'climax': 1178, 'marriag': 1179, 'studi': 1180, 'industri': 1181, 'ship': 1182, 'center': 1183, 'demon': 1184, 'nowher': 1185, 'charli': 1186, 'loos': 1187, 'hors': 1188, 'bear': 1189, 'wow': 1190, 'hang': 1191, 'graphic': 1192, 'admir': 1193, 'giant': 1194, 'send': 1195, 'loud': 1196, 'damn': 1197, 'rel': 1198, 'profession': 1199, 'nake': 1200, 'subtl': 1201, 'blow': 1202, 'bottom': 1203, 'insult': 1204, 'batman': 1205, 'doubl': 1206, 'r': 1207, 'boyfriend': 1208, 'kelli': 1209, 'initi': 1210, 'frame': 1211, 'gem': 1212, 'opera': 1213, 'affect': 1214, 'church': 1215, 'drawn': 1216, 'cinemat': 1217, 'challeng': 1218, 'l': 1219, 'evid': 1220, 'nightmar': 1221, 'seek': 1222, 'fulli': 1223, 'j': 1224, 'essenti': 1225, 'arm': 1226, 'conflict': 1227, 'christoph': 1228, 'henri': 1229, 'grace': 1230, 'wind': 1231, 'narrat': 1232, 'assum': 1233, 'witch': 1234, 'push': 1235, 'hunt': 1236, 'wise': 1237, 'chri': 1238, 'month': 1239, 'nomin': 1240, 'repres': 1241, 'affair': 1242, 'avail': 1243, 'sceneri': 1244, 'hide': 1245, 'smart': 1246, 'bond': 1247, 'justic': 1248, 'thu': 1249, 'interview': 1250, 'flashback': 1251, 'outstand': 1252, 'presenc': 1253, 'satisfi': 1254, 'constantli': 1255, 'central': 1256, 'bed': 1257, 'sell': 1258, 'iron': 1259, 'content': 1260, 'everybodi': 1261, 'gag': 1262, 'hotel': 1263, 'slowli': 1264, 'hire': 1265, 'system': 1266, 'charl': 1267, 'thrown': 1268, 'individu': 1269, 'hey': 1270, 'adam': 1271, 'jone': 1272, 'mediocr': 1273, 'allen': 1274, 'lesson': 1275, 'billi': 1276, 'ray': 1277, 'cameo': 1278, 'photographi': 1279, 'fellow': 1280, 'pari': 1281, 'strike': 1282, 'independ': 1283, 'brief': 1284, 'absurd': 1285, 'rise': 1286, 'neg': 1287, 'phone': 1288, 'impact': 1289, 'ill': 1290, 'born': 1291, 'model': 1292, 'spoil': 1293, 'angl': 1294, 'fresh': 1295, 'abus': 1296, 'likabl': 1297, 'discuss': 1298, 'hill': 1299, 'sight': 1300, 'ahead': 1301, 'sent': 1302, 'photograph': 1303, 'occur': 1304, 'logic': 1305, 'blame': 1306, 'shine': 1307, 'mainli': 1308, 'bruce': 1309, 'skip': 1310, 'forev': 1311, 'commerci': 1312, 'teacher': 1313, 'surround': 1314, 'held': 1315, 'segment': 1316, 'blond': 1317, 'zero': 1318, 'summer': 1319, 'resembl': 1320, 'trap': 1321, 'satir': 1322, 'ball': 1323, 'fool': 1324, 'six': 1325, 'queen': 1326, 'tragedi': 1327, 'twice': 1328, 'sub': 1329, 'reaction': 1330, 'pack': 1331, 'bomb': 1332, 'hospit': 1333, 'protagonist': 1334, 'will': 1335, 'sport': 1336, 'mile': 1337, 'drink': 1338, 'trust': 1339, 'vote': 1340, 'mom': 1341, 'jerri': 1342, 'encount': 1343, 'plane': 1344, 'station': 1345, 'current': 1346, 'program': 1347, 'al': 1348, 'celebr': 1349, 'choos': 1350, 'martin': 1351, 'join': 1352, 'favourit': 1353, 'tragic': 1354, 'round': 1355, 'lord': 1356, 'field': 1357, 'vision': 1358, 'jean': 1359, 'robot': 1360, 'arthur': 1361, 'tie': 1362, 'fortun': 1363, 'random': 1364, 'roger': 1365, 'psycholog': 1366, 'intern': 1367, 'dread': 1368, 'prefer': 1369, 'improv': 1370, 'epic': 1371, 'nonsens': 1372, 'pleasur': 1373, 'legend': 1374, 'highlight': 1375, 'formula': 1376, 'dollar': 1377, '11': 1378, 'tape': 1379, 'porn': 1380, 'fox': 1381, 'gorgeou': 1382, 'object': 1383, 'wide': 1384, 'thin': 1385, 'ugli': 1386, 'buddi': 1387, 'influenc': 1388, 'ii': 1389, 'prepar': 1390, 'nasti': 1391, 'warm': 1392, 'supposedli': 1393, 'progress': 1394, 'reflect': 1395, 'worthi': 1396, 'youth': 1397, 'length': 1398, 'unusu': 1399, 'latter': 1400, 'crash': 1401, 'childhood': 1402, 'shop': 1403, 'superior': 1404, 'seven': 1405, 'theatr': 1406, 'remot': 1407, 'funniest': 1408, 'pilot': 1409, 'paid': 1410, 'disgust': 1411, 'trick': 1412, 'convers': 1413, 'fell': 1414, 'castl': 1415, 'disast': 1416, 'gangster': 1417, 'rob': 1418, 'establish': 1419, 'disappear': 1420, 'suicid': 1421, 'mine': 1422, 'heaven': 1423, 'ident': 1424, 'forgotten': 1425, 'mask': 1426, 'tend': 1427, 'singer': 1428, 'decis': 1429, 'heroin': 1430, 'partner': 1431, 'brian': 1432, 'recogn': 1433, 'desert': 1434, 'alan': 1435, 'stuck': 1436, 'sky': 1437, 'thoroughli': 1438, 'p': 1439, 'ms': 1440, 'accur': 1441, 'replac': 1442, 'market': 1443, 'commentari': 1444, 'andi': 1445, 'seemingli': 1446, 'eddi': 1447, 'clue': 1448, 'uncl': 1449, 'danni': 1450, 'devil': 1451, 'jackson': 1452, 'refus': 1453, 'that': 1454, 'pair': 1455, 'therefor': 1456, 'fate': 1457, 'fault': 1458, 'ed': 1459, 'unit': 1460, 'river': 1461, 'accid': 1462, 'afraid': 1463, 'tune': 1464, 'hidden': 1465, 'russian': 1466, 'stephen': 1467, 'clean': 1468, 'instanc': 1469, 'captain': 1470, 'test': 1471, 'readi': 1472, 'irrit': 1473, 'convey': 1474, 'quick': 1475, 'european': 1476, 'frustrat': 1477, 'daniel': 1478, 'insan': 1479, 'rescu': 1480, 'chines': 1481, 'wed': 1482, 'food': 1483, '1950': 1484, 'angri': 1485, 'lock': 1486, 'dirti': 1487, 'joy': 1488, 'price': 1489, 'steven': 1490, 'cage': 1491, 'bland': 1492, 'rang': 1493, 'anymor': 1494, 'wooden': 1495, 'rush': 1496, 'news': 1497, 'n': 1498, 'jason': 1499, '12': 1500, 'twenti': 1501, 'martial': 1502, 'board': 1503, 'led': 1504, 'worri': 1505, 'transform': 1506, 'cgi': 1507, 'symbol': 1508, 'hunter': 1509, 'sentiment': 1510, 'johnni': 1511, 'invent': 1512, 'onto': 1513, 'piti': 1514, 'x': 1515, 'process': 1516, 'explan': 1517, 'attitud': 1518, 'owner': 1519, 'awar': 1520, 'aim': 1521, 'necessari': 1522, 'favor': 1523, 'floor': 1524, 'energi': 1525, 'target': 1526, 'opposit': 1527, 'religi': 1528, 'blind': 1529, 'insight': 1530, 'chick': 1531, 'window': 1532, 'movement': 1533, 'comparison': 1534, 'research': 1535, 'possess': 1536, 'mountain': 1537, 'deepli': 1538, 'comed': 1539, 'whatsoev': 1540, 'grand': 1541, 'rain': 1542, 'began': 1543, 'bank': 1544, 'shadow': 1545, 'mid': 1546, 'princ': 1547, 'parodi': 1548, 'taylor': 1549, 'friendship': 1550, 'weapon': 1551, 'credibl': 1552, 'pre': 1553, 'teach': 1554, 'flesh': 1555, 'dougla': 1556, 'protect': 1557, 'terror': 1558, 'hint': 1559, 'bloodi': 1560, 'marvel': 1561, 'drunk': 1562, 'accord': 1563, 'anybodi': 1564, 'watchabl': 1565, 'leader': 1566, 'load': 1567, 'superman': 1568, 'brown': 1569, 'freddi': 1570, 'jeff': 1571, 'tim': 1572, 'hitler': 1573, 'seat': 1574, 'appropri': 1575, 'unknown': 1576, 'villag': 1577, 'charg': 1578, 'knock': 1579, 'keaton': 1580, 'media': 1581, 'england': 1582, 'unnecessari': 1583, 'empti': 1584, 'enemi': 1585, 'perspect': 1586, 'utter': 1587, 'buck': 1588, 'craft': 1589, 'dare': 1590, 'strength': 1591, 'wave': 1592, 'kiss': 1593, 'ford': 1594, 'correct': 1595, 'contrast': 1596, 'nativ': 1597, 'anywher': 1598, 'soap': 1599, 'distract': 1600, 'knowledg': 1601, 'magnific': 1602, 'chill': 1603, 'speed': 1604, 'nazi': 1605, 'breath': 1606, 'ice': 1607, 'mission': 1608, 'fred': 1609, '1980': 1610, 'jr': 1611, 'joan': 1612, 'crowd': 1613, 'moon': 1614, 'soft': 1615, 'kate': 1616, 'frighten': 1617, '000': 1618, 'hundr': 1619, 'dick': 1620, 'nick': 1621, 'dan': 1622, 'radio': 1623, 'somebodi': 1624, 'dozen': 1625, 'simon': 1626, 'andrew': 1627, 'thousand': 1628, 'academi': 1629, 'loss': 1630, 'shakespear': 1631, 'root': 1632, 'sum': 1633, 'quot': 1634, 'vehicl': 1635, 'account': 1636, 'leg': 1637, 'behavior': 1638, '1970': 1639, 'convent': 1640, 'regular': 1641, 'gold': 1642, 'compet': 1643, 'pretenti': 1644, 'worker': 1645, 'demand': 1646, 'candi': 1647, 'notabl': 1648, 'lynch': 1649, 'stretch': 1650, 'interpret': 1651, 'explos': 1652, 'privat': 1653, 'japan': 1654, 'debut': 1655, 'constant': 1656, 'tarzan': 1657, 'sea': 1658, 'prais': 1659, 'translat': 1660, 'revolv': 1661, 'spi': 1662, 'franc': 1663, 'quiet': 1664, 'threaten': 1665, 'failur': 1666, 'sat': 1667, 'technolog': 1668, 'ass': 1669, 'jesu': 1670, 'punch': 1671, 'toy': 1672, 'aid': 1673, 'met': 1674, 'higher': 1675, 'kevin': 1676, 'mike': 1677, 'vh': 1678, 'interact': 1679, 'abandon': 1680, 'confront': 1681, 'bet': 1682, 'command': 1683, 'separ': 1684, 'site': 1685, 'recal': 1686, 'techniqu': 1687, 'belong': 1688, 'gotten': 1689, 'stunt': 1690, 'servic': 1691, 'cabl': 1692, 'foot': 1693, 'bug': 1694, 'freak': 1695, 'capabl': 1696, 'fu': 1697, 'african': 1698, 'bright': 1699, 'jimmi': 1700, 'stock': 1701, 'boat': 1702, 'fat': 1703, 'presid': 1704, 'succeed': 1705, 'clark': 1706, 'gene': 1707, 'spanish': 1708, 'structur': 1709, 'kidnap': 1710, 'paper': 1711, 'belief': 1712, 'factor': 1713, 'whilst': 1714, 'educ': 1715, 'realism': 1716, 'attend': 1717, 'witti': 1718, 'tree': 1719, 'bob': 1720, 'complic': 1721, 'realis': 1722, 'broken': 1723, 'finest': 1724, 'assist': 1725, 'santa': 1726, 'up': 1727, 'v': 1728, 'smoke': 1729, 'depart': 1730, 'determin': 1731, 'observ': 1732, 'domin': 1733, 'fame': 1734, 'rubbish': 1735, 'routin': 1736, 'hat': 1737, 'oper': 1738, 'lewi': 1739, 'morgan': 1740, 'kinda': 1741, 'foreign': 1742, 'lone': 1743, 'hook': 1744, 'advanc': 1745, 'safe': 1746, 'numer': 1747, 'rank': 1748, 'vs': 1749, 'civil': 1750, 'rose': 1751, 'washington': 1752, 'shallow': 1753, 'shape': 1754, 'werewolf': 1755, 'gari': 1756, 'morn': 1757, 'winner': 1758, 'kong': 1759, 'ordinari': 1760, 'accomplish': 1761, 'whenev': 1762, 'virtual': 1763, 'peac': 1764, 'grab': 1765, 'offens': 1766, 'luck': 1767, 'h': 1768, 'bigger': 1769, 'complain': 1770, 'contriv': 1771, 'activ': 1772, 'unfunni': 1773, 'patient': 1774, 'welcom': 1775, 'pretend': 1776, 'trek': 1777, 'dimension': 1778, 'con': 1779, 'eric': 1780, 'dri': 1781, 'lesbian': 1782, 'wake': 1783, 'flash': 1784, 'code': 1785, 'cain': 1786, 'manipul': 1787, 'statu': 1788, 'dancer': 1789, 'corrupt': 1790, 'albert': 1791, 'guard': 1792, 'signific': 1793, 'context': 1794, 'awkward': 1795, 'gain': 1796, 'speech': 1797, 'sourc': 1798, 'clip': 1799, '13': 1800, 'anthoni': 1801, 'psycho': 1802, 'sean': 1803, 'corni': 1804, 'advic': 1805, 'religion': 1806, 'priest': 1807, 'curiou': 1808, 'theatric': 1809, 'reli': 1810, 'w': 1811, 'addict': 1812, 'flow': 1813, 'howard': 1814, 'jennif': 1815, 'asian': 1816, 'secur': 1817, 'skin': 1818, 'specif': 1819, 'luke': 1820, 'golden': 1821, 'core': 1822, 'promot': 1823, 'comfort': 1824, 'organ': 1825, 'cheat': 1826, 'cash': 1827, 'lucki': 1828, 'dislik': 1829, 'associ': 1830, 'lower': 1831, 'frankli': 1832, 'degre': 1833, 'regret': 1834, 'frequent': 1835, 'spell': 1836, 'balanc': 1837, 'contribut': 1838, 'wing': 1839, 'devic': 1840, 'print': 1841, 'lake': 1842, 'forgiv': 1843, 'sake': 1844, 'thoma': 1845, 'mass': 1846, 'betti': 1847, 'unexpect': 1848, 'crack': 1849, 'gordon': 1850, 'categori': 1851, 'amateur': 1852, 'construct': 1853, 'grown': 1854, 'invit': 1855, 'depend': 1856, 'unfold': 1857, 'anna': 1858, 'grew': 1859, 'matur': 1860, 'honor': 1861, 'walter': 1862, 'intellectu': 1863, 'condit': 1864, 'sudden': 1865, 'spectacular': 1866, 'mirror': 1867, 'veteran': 1868, 'sole': 1869, 'gift': 1870, 'meanwhil': 1871, 'card': 1872, 'overli': 1873, 'freedom': 1874, 'robin': 1875, 'experienc': 1876, 'demonstr': 1877, 'grip': 1878, 'liner': 1879, 'crappi': 1880, 'sheriff': 1881, 'brilliantli': 1882, 'unabl': 1883, 'colour': 1884, 'drew': 1885, 'section': 1886, 'theori': 1887, 'subtitl': 1888, 'oliv': 1889, 'circumst': 1890, 'sheer': 1891, 'matt': 1892, 'altern': 1893, 'laughter': 1894, 'pile': 1895, 'parker': 1896, 'path': 1897, 'cook': 1898, 'hall': 1899, 'accident': 1900, 'defin': 1901, 'sinatra': 1902, 'relief': 1903, 'lawyer': 1904, 'treatment': 1905, 'wander': 1906, 'captiv': 1907, 'hank': 1908, 'dragon': 1909, 'gratuit': 1910, 'moor': 1911, 'halloween': 1912, 'unintent': 1913, 'kung': 1914, 'barbara': 1915, 'broadway': 1916, 'wayn': 1917, 'jacki': 1918, 'cowboy': 1919, 'wound': 1920, 'k': 1921, 'surreal': 1922, 'statement': 1923, 'canadian': 1924, 'winter': 1925, 'spoof': 1926, 'gonna': 1927, 'fish': 1928, 'cheer': 1929, 'treasur': 1930, 'compos': 1931, 'fare': 1932, 'victor': 1933, 'woodi': 1934, 'sensit': 1935, 'emerg': 1936, 'unrealist': 1937, 'ran': 1938, 'neighbor': 1939, 'driven': 1940, 'sympathet': 1941, 'expos': 1942, 'authent': 1943, 'menac': 1944, 'topic': 1945, 'overlook': 1946, 'glass': 1947, 'ancient': 1948, 'handsom': 1949, 'chief': 1950, 'michel': 1951, 'gross': 1952, 'network': 1953, 'nevertheless': 1954, 'russel': 1955, 'built': 1956, 'comedian': 1957, 'pleasant': 1958, 'contemporari': 1959, 'feet': 1960, 'stranger': 1961, 'cinderella': 1962, 'earn': 1963, 'blockbust': 1964, 'miser': 1965, 'consider': 1966, 'endless': 1967, 'gori': 1968, 'underr': 1969, 'letter': 1970, 'brook': 1971, 'switch': 1972, 'solv': 1973, 'convict': 1974, 'virgin': 1975, 'victoria': 1976, 'edward': 1977, 'joseph': 1978, 'bullet': 1979, 'chosen': 1980, 'scenario': 1981, 'scale': 1982, 'cynic': 1983, '0': 1984, 'alex': 1985, 'curs': 1986, 'outrag': 1987, 'com': 1988, 'gut': 1989, 'sword': 1990, 'uk': 1991, 'monkey': 1992, 'proper': 1993, 'substanc': 1994, 'wrap': 1995, 'driver': 1996, 'juli': 1997, 'screenwrit': 1998, 'par': 1999, 'court': 2000, 'remov': 2001, 'indic': 2002, 'bird': 2003, 'loser': 2004, 'advertis': 2005, 'consequ': 2006, 'roy': 2007, 'nanci': 2008, 'inevit': 2009, 'naiv': 2010, 'rental': 2011, 'grave': 2012, 'bridg': 2013, 'germani': 2014, 'brave': 2015, 'slap': 2016, 'invis': 2017, 'fatal': 2018, 'le': 2019, 'ador': 2020, 'footbal': 2021, 'provok': 2022, 'anger': 2023, 'loui': 2024, 'anderson': 2025, 'chan': 2026, 'alcohol': 2027, 'willi': 2028, 'stumbl': 2029, 'professor': 2030, 'ryan': 2031, 'australian': 2032, 'patrick': 2033, 'assassin': 2034, 'sharp': 2035, '1930': 2036, 'bat': 2037, 'cell': 2038, 'lousi': 2039, 'liber': 2040, 'heck': 2041, 'eight': 2042, 'refresh': 2043, 'saturday': 2044, 'amateurish': 2045, 'trilog': 2046, 'ape': 2047, 'deni': 2048, 'strongli': 2049, 'sin': 2050, 'vagu': 2051, 'resid': 2052, 'justifi': 2053, 'san': 2054, 'creator': 2055, 'sympathi': 2056, 'defeat': 2057, 'reput': 2058, 'mini': 2059, 'terrifi': 2060, 'indi': 2061, 'tediou': 2062, 'expert': 2063, 'endur': 2064, 'task': 2065, 'tabl': 2066, 'prevent': 2067, 'imit': 2068, 'rival': 2069, 'employ': 2070, 'trial': 2071, 'che': 2072, 'offend': 2073, 'basebal': 2074, 'fairi': 2075, 'weekend': 2076, 'beach': 2077, 'max': 2078, 'dig': 2079, 'pitch': 2080, 'complaint': 2081, 'europ': 2082, 'purchas': 2083, 'format': 2084, 'risk': 2085, 'murphi': 2086, 'hype': 2087, 'nois': 2088, 'tini': 2089, 'bite': 2090, 'glimps': 2091, 'titan': 2092, 'reminisc': 2093, 'powel': 2094, 'harsh': 2095, 'fals': 2096, 'till': 2097, 'prime': 2098, '14': 2099, 'north': 2100, 'strip': 2101, 'asleep': 2102, 'africa': 2103, 'descript': 2104, 'revel': 2105, 'destruct': 2106, 'texa': 2107, 'uninterest': 2108, 'surfac': 2109, 'arrest': 2110, 'semi': 2111, 'excess': 2112, 'inner': 2113, 'sitcom': 2114, 'spin': 2115, 'massiv': 2116, 'controversi': 2117, 'argu': 2118, 'hitchcock': 2119, 'makeup': 2120, 'dinosaur': 2121, 'maintain': 2122, 'twin': 2123, 'insist': 2124, 'stare': 2125, 'reject': 2126, 'melodrama': 2127, 'expens': 2128, 'ludicr': 2129, 'ideal': 2130, 'kim': 2131, 'erot': 2132, 'nail': 2133, 'ga': 2134, 'ala': 2135, 'press': 2136, 'host': 2137, 'supernatur': 2138, 'subplot': 2139, 'columbo': 2140, 'atroci': 2141, 'forest': 2142, 'notch': 2143, 'cant': 2144, 'dude': 2145, 'presum': 2146, 'identifi': 2147, 'forgett': 2148, 'plagu': 2149, 'method': 2150, 'closer': 2151, 'guest': 2152, 'crude': 2153, 'character': 2154, 'lion': 2155, 'landscap': 2156, 'beast': 2157, 'border': 2158, 'princess': 2159, 'ear': 2160, 'foster': 2161, 'bound': 2162, 'accus': 2163, 'damag': 2164, 'previous': 2165, 'urban': 2166, 'aunt': 2167, 'storytel': 2168, 'birth': 2169, 'jungl': 2170, 'pacino': 2171, 'nude': 2172, 'thirti': 2173, 'guid': 2174, 'chose': 2175, 'doll': 2176, 'emma': 2177, 'propaganda': 2178, 'jess': 2179, 'mate': 2180, 'mainstream': 2181, '25': 2182, 'warrior': 2183, 'whoever': 2184, 'pet': 2185, 'upset': 2186, 'poster': 2187, 'size': 2188, 'latest': 2189, 'cooper': 2190, 'exact': 2191, 'friday': 2192, 'merit': 2193, 'deadli': 2194, 'gritti': 2195, 'popul': 2196, 'sun': 2197, 'ton': 2198, 'warner': 2199, 'buff': 2200, 'settl': 2201, 'contest': 2202, 'contact': 2203, 'blend': 2204, 'rough': 2205, 'citizen': 2206, 'wilson': 2207, 'corps': 2208, '1990': 2209, 'select': 2210, 'bu': 2211, 'alic': 2212, 'environ': 2213, 'pitt': 2214, 'overcom': 2215, 'rat': 2216, 'metal': 2217, 'widow': 2218, 'mgm': 2219, 'link': 2220, 'lift': 2221, 'particip': 2222, 'guilti': 2223, 'ted': 2224, 'revolut': 2225, 'moron': 2226, 'accompani': 2227, 'johnson': 2228, 'exagger': 2229, 'corner': 2230, 'prostitut': 2231, 'corpor': 2232, 'matrix': 2233, 'afternoon': 2234, '1960': 2235, 'clair': 2236, 'multipl': 2237, 'sincer': 2238, 'holm': 2239, 'friendli': 2240, 'instal': 2241, 'leagu': 2242, 'hood': 2243, 'doom': 2244, 'lugosi': 2245, 'advis': 2246, 'examin': 2247, 'string': 2248, 'sunday': 2249, 'grim': 2250, 'blah': 2251, 'irish': 2252, 'hip': 2253, 'campi': 2254, 'junk': 2255, 'defend': 2256, 'aka': 2257, 'tight': 2258, 'shut': 2259, 'icon': 2260, 'pro': 2261, 'varieti': 2262, 'shake': 2263, 'rachel': 2264, 'confid': 2265, 'directli': 2266, 'attach': 2267, 'medic': 2268, 'jaw': 2269, 'goal': 2270, 'mexican': 2271, 'denni': 2272, 'sullivan': 2273, 'duke': 2274, 'sentenc': 2275, 'courag': 2276, 'prior': 2277, 'legendari': 2278, 'terrorist': 2279, 'breast': 2280, 'truck': 2281, 'vietnam': 2282, 'sarah': 2283, 'dean': 2284, 'bourn': 2285, 'nose': 2286, 'entri': 2287, 'hong': 2288, 'split': 2289, 'proceed': 2290, 'yell': 2291, 'donald': 2292, 'un': 2293, 'behav': 2294, 'confess': 2295, 'borrow': 2296, 'stolen': 2297, 'crush': 2298, 'gather': 2299, 'jerk': 2300, 'buri': 2301, 'forth': 2302, 'lifetim': 2303, 'concentr': 2304, 'everywher': 2305, 'swim': 2306, 'unconvinc': 2307, 'julia': 2308, 'lip': 2309, 'deliveri': 2310, 'turkey': 2311, 'california': 2312, 'spite': 2313, 'pan': 2314, 'quest': 2315, 'reward': 2316, 'downright': 2317, 'china': 2318, 'offici': 2319, 'freeman': 2320, 'flight': 2321, 'proud': 2322, 'hoffman': 2323, 'worthwhil': 2324, 'jail': 2325, 'sir': 2326, 'sink': 2327, 'encourag': 2328, 'fade': 2329, 'inept': 2330, 'jon': 2331, 'notori': 2332, 'lazi': 2333, 'fabul': 2334, 'betray': 2335, 'storm': 2336, 'bell': 2337, 'susan': 2338, 'cousin': 2339, 'survivor': 2340, 'shower': 2341, 'teeth': 2342, 'relev': 2343, 'bag': 2344, 'imageri': 2345, 'lisa': 2346, 'retard': 2347, 'branagh': 2348, 'toler': 2349, 'shark': 2350, 'facial': 2351, 'tremend': 2352, 'finger': 2353, 'alright': 2354, 'hugh': 2355, 'stab': 2356, 'summari': 2357, 'bride': 2358, 'mexico': 2359, 'trade': 2360, 'quirki': 2361, 'bitter': 2362, 'blown': 2363, 'hyster': 2364, 'von': 2365, 'pose': 2366, 'ha': 2367, 'afterward': 2368, 'ron': 2369, 'address': 2370, 'ned': 2371, 'larri': 2372, 'scheme': 2373, 'cruel': 2374, 'christ': 2375, 'bone': 2376, 'tour': 2377, 'swear': 2378, 'feed': 2379, 'pursu': 2380, 'distinct': 2381, 'thumb': 2382, 'beg': 2383, 'screw': 2384, 'snake': 2385, 'traci': 2386, 'mechan': 2387, 'occas': 2388, 'stomach': 2389, 'obscur': 2390, 'photo': 2391, 'raw': 2392, 'chair': 2393, 'holiday': 2394, 'necessarili': 2395, 'southern': 2396, 'hardi': 2397, 'gruesom': 2398, 'render': 2399, 'chain': 2400, 'resist': 2401, 'argument': 2402, 'cabin': 2403, 'heavili': 2404, 'sidney': 2405, 'indulg': 2406, 'india': 2407, 'racist': 2408, 'understood': 2409, 'philip': 2410, 'satan': 2411, 'forgot': 2412, 'outfit': 2413, 'obnoxi': 2414, 'lay': 2415, 'tongu': 2416, 'pregnant': 2417, 'fourth': 2418, 'midnight': 2419, 'integr': 2420, 'belov': 2421, 'stalk': 2422, 'slapstick': 2423, 'ticket': 2424, 'magazin': 2425, 'inhabit': 2426, 'carol': 2427, 'deeper': 2428, '17': 2429, 'garden': 2430, 'restor': 2431, 'incid': 2432, 'lincoln': 2433, 'brad': 2434, 'devot': 2435, 'shoe': 2436, 'anticip': 2437, 'lili': 2438, 'disbelief': 2439, 'benefit': 2440, 'underground': 2441, 'guarante': 2442, 'maria': 2443, 'divorc': 2444, 'elizabeth': 2445, 'sandler': 2446, 'greater': 2447, 'mildli': 2448, 'cring': 2449, 'bbc': 2450, 'creation': 2451, 'amazingli': 2452, 'capit': 2453, 'princip': 2454, 'explod': 2455, 'slave': 2456, 'halfway': 2457, 'extraordinari': 2458, 'lesli': 2459, 'introduct': 2460, 'funnier': 2461, 'extent': 2462, 'wreck': 2463, 'advantag': 2464, 'punish': 2465, 'text': 2466, 'tap': 2467, 'enhanc': 2468, 'overwhelm': 2469, 'transfer': 2470, 'jessica': 2471, 'horrif': 2472, 'error': 2473, 'deliber': 2474, 'east': 2475, 'plant': 2476, 'dynam': 2477, 'lo': 2478, 'preview': 2479, 'lane': 2480, 'vacat': 2481, 'appli': 2482, 'miller': 2483, '2000': 2484, 'basi': 2485, 'sophist': 2486, 'miscast': 2487, 'ensu': 2488, 'vincent': 2489, 'homosexu': 2490, 'via': 2491, 'sleazi': 2492, 'bollywood': 2493, 'uncomfort': 2494, 'extend': 2495, 'mansion': 2496, 'measur': 2497, 'spoken': 2498, 'elev': 2499, 'reed': 2500, 'steel': 2501, 'overact': 2502, 'alter': 2503, 'cathol': 2504, 'conceiv': 2505, 'assign': 2506, 'daili': 2507, 'beer': 2508, 'breathtak': 2509, 'mous': 2510, 'hippi': 2511, 'goofi': 2512, 'dentist': 2513, 'fix': 2514, 'savag': 2515, 'melt': 2516, 'blair': 2517, 'stanley': 2518, 'everyday': 2519, 'carpent': 2520, 'oppos': 2521, 'burt': 2522, 'nowaday': 2523, 'subsequ': 2524, 'properli': 2525, 'succe': 2526, 'inspector': 2527, 'sacrific': 2528, 'block': 2529, 'laura': 2530, 'neck': 2531, 'circl': 2532, 'massacr': 2533, 'fay': 2534, 'concert': 2535, 'lesser': 2536, 'mob': 2537, 'grey': 2538, 'fallen': 2539, 'access': 2540, 'seagal': 2541, 'portrait': 2542, 'pool': 2543, 'christi': 2544, 'usa': 2545, 'react': 2546, 'jewish': 2547, 'chees': 2548, 'isol': 2549, 'relax': 2550, 'sinist': 2551, 'jake': 2552, 'competit': 2553, 'suitabl': 2554, 'stink': 2555, 'appal': 2556, '2006': 2557, 'nine': 2558, 'lyric': 2559, 'chop': 2560, 'nonetheless': 2561, 'ironi': 2562, 'creep': 2563, 'spiritu': 2564, 'immens': 2565, 'luci': 2566, 'showcas': 2567, 'user': 2568, 'adopt': 2569, 'rage': 2570, 'sold': 2571, 'franchis': 2572, 'reduc': 2573, 'retir': 2574, 'nut': 2575, 'navi': 2576, 'needless': 2577, 'spring': 2578, 'shirt': 2579, 'digit': 2580, 'bath': 2581, 'stanwyck': 2582, 'per': 2583, 'jay': 2584, 'bulli': 2585, 'uninspir': 2586, 'asham': 2587, 'zone': 2588, 'nurs': 2589, 'oddli': 2590, 'amongst': 2591, 'broadcast': 2592, 'laid': 2593, '2001': 2594, 'upper': 2595, '1940': 2596, 'sutherland': 2597, 'illustr': 2598, 'disguis': 2599, 'throat': 2600, 'aspir': 2601, 'stylish': 2602, 'baker': 2603, 'brando': 2604, 'fulfil': 2605, 'endear': 2606, '18': 2607, 'wanna': 2608, 'pound': 2609, 'em': 2610, 'pride': 2611, 'nobl': 2612, 'impli': 2613, 'neighborhood': 2614, 'wwii': 2615, 'thief': 2616, 'bo': 2617, 'coher': 2618, 'dinner': 2619, 'dawn': 2620, 'shift': 2621, 'prop': 2622, 'albeit': 2623, 'shoulder': 2624, 'tens': 2625, 'bett': 2626, 'rochest': 2627, 'distribut': 2628, '16': 2629, 'diseas': 2630, 'cinematograph': 2631, 'shout': 2632, 'snow': 2633, 'surf': 2634, 'forti': 2635, 'poignant': 2636, 'contract': 2637, 'silenc': 2638, 'wash': 2639, 'matthau': 2640, 'knife': 2641, 'function': 2642, 'rebel': 2643, 'horrend': 2644, 'chuck': 2645, 'height': 2646, 'mindless': 2647, 'henc': 2648, 'proof': 2649, 'internet': 2650, 'heat': 2651, 'eeri': 2652, 'cancel': 2653, 'reunion': 2654, 'duti': 2655, 'silver': 2656, 'cannib': 2657, 'instinct': 2658, 'widmark': 2659, 'derek': 2660, 'elvira': 2661, 'absorb': 2662, 'premier': 2663, 'musician': 2664, 'alik': 2665, 'spielberg': 2666, 'innov': 2667, 'incoher': 2668, 'torn': 2669, 'pie': 2670, 'glori': 2671, 'greatli': 2672, 'mill': 2673, 'elvi': 2674, 'repetit': 2675, 'etern': 2676, 'neat': 2677, 'burton': 2678, 'nelson': 2679, 'blank': 2680, 'racism': 2681, 'trite': 2682, 'announc': 2683, 'diamond': 2684, 'bang': 2685, 'lovabl': 2686, 'wealthi': 2687, 'infam': 2688, 'precis': 2689, 'redempt': 2690, 'crisi': 2691, 'horrifi': 2692, 'homag': 2693, 'fbi': 2694, 'itali': 2695, 'britain': 2696, 'resolut': 2697, 'happili': 2698, 'streisand': 2699, 'wilder': 2700, 'flop': 2701, 'chaplin': 2702, 'helen': 2703, 'ensembl': 2704, 'parallel': 2705, 'dedic': 2706, 'pat': 2707, 'hammer': 2708, 'triumph': 2709, 'cube': 2710, 'st': 2711, 'factori': 2712, 'conclud': 2713, 'plastic': 2714, 'disagre': 2715, 'broke': 2716, 'carter': 2717, 'mar': 2718, 'oil': 2719, 'chuckl': 2720, 'rocket': 2721, 'own': 2722, 'weight': 2723, 'climb': 2724, 'fighter': 2725, 'march': 2726, 'bush': 2727, 'row': 2728, 'vega': 2729, 'dane': 2730, 'luca': 2731, 'dump': 2732, 'enorm': 2733, 'lust': 2734, 'mst3k': 2735, 'kurt': 2736, 'thug': 2737, 'boot': 2738, 'spare': 2739, 'unforgett': 2740, 'sensibl': 2741, 'meaning': 2742, 'wherea': 2743, 'engin': 2744, 'difficulti': 2745, 'butt': 2746, 'adequ': 2747, 'arnold': 2748, 'stress': 2749, 'karloff': 2750, 'fifti': 2751, 'caricatur': 2752, 'dear': 2753, 'rap': 2754, 'brand': 2755, 'threat': 2756, 'bobbi': 2757, 'arrog': 2758, 'fest': 2759, 'secretari': 2760, 'ego': 2761, 'homeless': 2762, 'polish': 2763, 'ralph': 2764, 'journalist': 2765, 'swing': 2766, 'elabor': 2767, 'barri': 2768, 'hamlet': 2769, 'flynn': 2770, 'simpson': 2771, 'arrang': 2772, 'puppet': 2773, 'spike': 2774, 'induc': 2775, 'resort': 2776, 'unbear': 2777, 'grate': 2778, 'fanci': 2779, 'float': 2780, 'tool': 2781, 'conspiraci': 2782, 'tribut': 2783, 'choreograph': 2784, 'pig': 2785, 'exercis': 2786, 'phillip': 2787, 'cruis': 2788, 'basement': 2789, 'guilt': 2790, 'boll': 2791, 'muppet': 2792, 'ward': 2793, 'korean': 2794, 'tower': 2795, 'fianc': 2796, 'item': 2797, 'toilet': 2798, '24': 2799, 'file': 2800, 'document': 2801, 'editor': 2802, 'layer': 2803, 'scarecrow': 2804, 'medium': 2805, 'ham': 2806, 'slip': 2807, 'puzzl': 2808, 'babe': 2809, 'stan': 2810, 'portion': 2811, 'larger': 2812, 'philosoph': 2813, 'librari': 2814, 'spark': 2815, 'catherin': 2816, 'transit': 2817, 'orient': 2818, 'assur': 2819, 'slaughter': 2820, 'territori': 2821, 'denzel': 2822, 'inexplic': 2823, 'minim': 2824, 'persona': 2825, 'superfici': 2826, 'doc': 2827, 'glover': 2828, 'pg': 2829, 'jeremi': 2830, 'dorothi': 2831, 'sneak': 2832, 'boredom': 2833, 'wolf': 2834, 'shi': 2835, 'ban': 2836, 'owe': 2837, 'curti': 2838, 'walken': 2839, 'jet': 2840, 'financi': 2841, 'profound': 2842, 'metaphor': 2843, 'multi': 2844, 'eleph': 2845, 'ambigu': 2846, 'backdrop': 2847, 'hudson': 2848, 'whale': 2849, 'cusack': 2850, 'viru': 2851, '2005': 2852, 'notion': 2853, 'union': 2854, 'elsewher': 2855, 'implaus': 2856, 'hack': 2857, 'birthday': 2858, 'rave': 2859, 'ultra': 2860, 'gadget': 2861, 'stiff': 2862, 'bibl': 2863, 'canada': 2864, 'distanc': 2865, 'afford': 2866, 'poison': 2867, 'urg': 2868, 'squar': 2869, 'disc': 2870, 'slight': 2871, 'reader': 2872, 'newspap': 2873, 'hawk': 2874, 'deriv': 2875, '1st': 2876, 'pad': 2877, 'eastwood': 2878, 'lloyd': 2879, 'eva': 2880, 'superhero': 2881, 'skit': 2882, 'heston': 2883, 'cure': 2884, 'huh': 2885, 'spread': 2886, 'charisma': 2887, 'montag': 2888, 'sadist': 2889, 'essenc': 2890, 'drown': 2891, 'restaur': 2892, 'button': 2893, 'health': 2894, 'gradual': 2895, 'peak': 2896, 'lab': 2897, 'maniac': 2898, 'companion': 2899, 'fetch': 2900, 'invest': 2901, 'godfath': 2902, 'dealt': 2903, 'muslim': 2904, 'scoobi': 2905, 'estat': 2906, 'gothic': 2907, 'alli': 2908, 'countless': 2909, 'miik': 2910, 'cup': 2911, 'tea': 2912, 'kane': 2913, 'ritter': 2914, 'servant': 2915, 'subtleti': 2916, 'briefli': 2917, 'elect': 2918, 'heroic': 2919, 'iii': 2920, 'charismat': 2921, 'electr': 2922, 'salli': 2923, 'nuanc': 2924, 'tender': 2925, 'cole': 2926, 'admittedli': 2927, 'wannab': 2928, 'neil': 2929, 'reel': 2930, 'ingredi': 2931, 'toss': 2932, 'grandmoth': 2933, 'resourc': 2934, 'bud': 2935, 'label': 2936, 'carrey': 2937, 'stood': 2938, 'pit': 2939, 'poverti': 2940, 'punk': 2941, 'mafia': 2942, 'pauli': 2943, 'shall': 2944, 'mild': 2945, 'dawson': 2946, 'stronger': 2947, 'reev': 2948, 'gate': 2949, 'kubrick': 2950, 'fond': 2951, 'smash': 2952, 'burst': 2953, 'easier': 2954, 'terri': 2955, 'assault': 2956, 'updat': 2957, 'tag': 2958, 'outcom': 2959, 'cox': 2960, 'smooth': 2961, 'ian': 2962, 'useless': 2963, 'cardboard': 2964, 'bakshi': 2965, 'astair': 2966, 'qualifi': 2967, 'sketch': 2968, 'melodramat': 2969, 'increasingli': 2970, 'rex': 2971, 'exchang': 2972, 'resolv': 2973, 'vulner': 2974, 'fist': 2975, 'samurai': 2976, 'divers': 2977, '2002': 2978, 'vari': 2979, 'coincid': 2980, 'luckili': 2981, 'blast': 2982, 'brillianc': 2983, 'scratch': 2984, 'suspend': 2985, 'templ': 2986, 'tame': 2987, 'conveni': 2988, 'insert': 2989, 'reynold': 2990, 'be': 2991, 'farm': 2992, 'nuclear': 2993, 'ambiti': 2994, 'fisher': 2995, 'walker': 2996, 'seventi': 2997, 'pin': 2998, 'soprano': 2999, 'matthew': 3000, 'meat': 3001, 'gotta': 3002, 'jami': 3003, 'strictli': 3004, 'coach': 3005, 'hamilton': 3006, 'kudo': 3007, 'spooki': 3008, 'butcher': 3009, 'empir': 3010, 'struck': 3011, 'timeless': 3012, 'recreat': 3013, 'monk': 3014, 'revers': 3015, 'joey': 3016, 'instantli': 3017, 'clock': 3018, 'worthless': 3019, 'eccentr': 3020, 'cave': 3021, 'convolut': 3022, 'closet': 3023, 'ninja': 3024, 'discoveri': 3025, 'grasp': 3026, 'brosnan': 3027, 'wipe': 3028, 'pal': 3029, 'importantli': 3030, 'cliff': 3031, 'bleak': 3032, 'evok': 3033, 'sidekick': 3034, 'eighti': 3035, 'miracl': 3036, 'inconsist': 3037, 'communist': 3038, 'clown': 3039, 'partli': 3040, 'gray': 3041, 'fifteen': 3042, 'mitchel': 3043, 'selfish': 3044, 'declar': 3045, 'norman': 3046, 'seller': 3047, 'sloppi': 3048, 'lifestyl': 3049, 'seed': 3050, 'farc': 3051, 'piano': 3052, '45': 3053, 'debat': 3054, 'cheek': 3055, 'flawless': 3056, 'enthusiast': 3057, 'websit': 3058, 'destin': 3059, 'australia': 3060, 'ho': 3061, 'superbl': 3062, 'aforement': 3063, 'psychiatrist': 3064, 'chew': 3065, 'stoog': 3066, 'splatter': 3067, 'slice': 3068, 'kitchen': 3069, 'anni': 3070, 'bash': 3071, 'emili': 3072, 'dash': 3073, 'wrestl': 3074, 'abc': 3075, 'regardless': 3076, 'akshay': 3077, 'soviet': 3078, 'directori': 3079, 'pressur': 3080, 'drivel': 3081, 'incompet': 3082, 'wick': 3083, 'dire': 3084, 'curios': 3085, 'distant': 3086, 'doo': 3087, 'beaten': 3088, 'lou': 3089, 'chapter': 3090, 'pleasantli': 3091, 'suppli': 3092, 'prize': 3093, 'judi': 3094, 'duo': 3095, 'flower': 3096, 'ken': 3097, 'glow': 3098, 'helicopt': 3099, 'artifici': 3100, 'mann': 3101, 'jar': 3102, 'recov': 3103, 'seduc': 3104, 'cameron': 3105, 'increas': 3106, 'boil': 3107, 'cia': 3108, 'cagney': 3109, 'dave': 3110, 'blob': 3111, 'favour': 3112, 'laurel': 3113, 'craig': 3114, 'drunken': 3115, 'web': 3116, 'psychot': 3117, 'panic': 3118, 'turner': 3119, 'craven': 3120, 'ranger': 3121, 'perri': 3122, 'splendid': 3123, 'francisco': 3124, 'eleg': 3125, 'hop': 3126, 'glenn': 3127, 'ellen': 3128, 'goldberg': 3129, 'combat': 3130, 'slightest': 3131, 'shortli': 3132, 'wizard': 3133, 'rid': 3134, 'gentl': 3135, '20th': 3136, 'ruth': 3137, 'greek': 3138, 'philosophi': 3139, 'plausibl': 3140, 'graduat': 3141, 'fx': 3142, 'flip': 3143, 'falk': 3144, 'hatr': 3145, 'modesti': 3146, 'alexand': 3147, 'min': 3148, 'gandhi': 3149, 'lend': 3150, 'jealou': 3151, 'legal': 3152, 'manhattan': 3153, 'we': 3154, 'tall': 3155, 'unpleas': 3156, 'knight': 3157, 'preciou': 3158, 'felix': 3159, 'fund': 3160, 'ocean': 3161, 'futurist': 3162, 'holi': 3163, 'harm': 3164, 'dracula': 3165, 'bless': 3166, 'forbidden': 3167, 'thread': 3168, 'digniti': 3169, 'explicit': 3170, 'nod': 3171, 'scientif': 3172, 'tank': 3173, 'mock': 3174, 'reviv': 3175, 'overdon': 3176, 'childish': 3177, 'ami': 3178, 'giallo': 3179, 'margaret': 3180, 'eve': 3181, 'yesterday': 3182, 'pirat': 3183, 'mel': 3184, 'nerv': 3185, '2004': 3186, 'unwatch': 3187, 'torment': 3188, '99': 3189, 'awaken': 3190, 'thick': 3191, 'fever': 3192, 'awe': 3193, 'elderli': 3194, 'broad': 3195, 'repeatedli': 3196, 'verhoeven': 3197, 'automat': 3198, 'roman': 3199, 'uniform': 3200, 'launch': 3201, 'custom': 3202, 'lean': 3203, 'ah': 3204, 'acclaim': 3205, 'absenc': 3206, 'eas': 3207, 'griffith': 3208, 'royal': 3209, 'rivet': 3210, 'ambit': 3211, 'kay': 3212, 'bin': 3213, 'publish': 3214, 'politician': 3215, 'stiller': 3216, 'timothi': 3217, 'romero': 3218, 'stinker': 3219, 'phrase': 3220, 'antic': 3221, 'foul': 3222, 'crook': 3223, 'wallac': 3224, 'warren': 3225, 'termin': 3226, 'sunshin': 3227, 'transport': 3228, 'pierc': 3229, 'darker': 3230, 'homicid': 3231, 'pulp': 3232, 'purpl': 3233, 'bathroom': 3234, 'gabriel': 3235, 'tomato': 3236, 'juvenil': 3237, 'kenneth': 3238, 'revolutionari': 3239, 'hollow': 3240, 'donna': 3241, 'sixti': 3242, 'horrid': 3243, 'ought': 3244, 'rambo': 3245, 'saint': 3246, 'evolv': 3247, 'pray': 3248, '2003': 3249, 'marin': 3250, 'contrari': 3251, 'coloni': 3252, 'awak': 3253, 'packag': 3254, 'li': 3255, 'brazil': 3256, 'karen': 3257, 'eyr': 3258, 'q': 3259, 'album': 3260, 'prom': 3261, 'viciou': 3262, 'choreographi': 3263, 'kapoor': 3264, 'mummi': 3265, 'dose': 3266, 'blade': 3267, 'stole': 3268, 'boast': 3269, 'candid': 3270, 'twelv': 3271, 'defi': 3272, 'option': 3273, 'mildr': 3274, 'conserv': 3275, 'nerd': 3276, 'overr': 3277, 'beatti': 3278, 'ramon': 3279, 'ireland': 3280, 'astonish': 3281, 'jazz': 3282, 'kirk': 3283, 'confirm': 3284, 'flame': 3285, 'global': 3286, 'collabor': 3287, 'trio': 3288, 'fulci': 3289, 'protest': 3290, 'detract': 3291, 'natali': 3292, 'funer': 3293, 'altman': 3294, 'spit': 3295, 'racial': 3296, 'delici': 3297, 'enterpris': 3298, 'mystic': 3299, 'tommi': 3300, 'bull': 3301, 'whip': 3302, 'blake': 3303, 'leap': 3304, 'yellow': 3305, 'bottl': 3306, 'audio': 3307, 'nicholson': 3308, 'shade': 3309, 'destini': 3310, 'adolesc': 3311, 'pseudo': 3312, 'harder': 3313, 'reunit': 3314, 'fonda': 3315, 'meaningless': 3316, 'staff': 3317, 'swedish': 3318, 'popcorn': 3319, 'threw': 3320, 'altogeth': 3321, 'todd': 3322, 'bedroom': 3323, 'inherit': 3324, 'enchant': 3325, 'merci': 3326, 'neo': 3327, 'vivid': 3328, 'visibl': 3329, 'respond': 3330, 'moodi': 3331, 'suspici': 3332, 'roommat': 3333, 'crocodil': 3334, 'wire': 3335, 'leonard': 3336, 'tip': 3337, 'reserv': 3338, 'fanat': 3339, 'edi': 3340, 'await': 3341, 'decor': 3342, 'ruthless': 3343, 'jew': 3344, 'kennedi': 3345, 'madonna': 3346, 'synopsi': 3347, 'bust': 3348, 'lawrenc': 3349, 'atlanti': 3350, 'voight': 3351, 'exhibit': 3352, 'uneven': 3353, 'lemmon': 3354, 'befriend': 3355, 'abysm': 3356, 'audit': 3357, 'rural': 3358, 'bradi': 3359, 'garner': 3360, 'chao': 3361, 'incident': 3362, 'carl': 3363, 'palma': 3364, 'dimens': 3365, '2007': 3366, 'holli': 3367, 'bargain': 3368, 'clumsi': 3369, 'bold': 3370, 'centr': 3371, 'clint': 3372, 'ventur': 3373, 'voyag': 3374, 'unsettl': 3375, 'characterist': 3376, 'imperson': 3377, 'lit': 3378, 'tiger': 3379, 'nearbi': 3380, 'cari': 3381, 'trail': 3382, 'versu': 3383, 'mall': 3384, 'cd': 3385, 'poetic': 3386, 'acknowledg': 3387, 'daddi': 3388, 'ant': 3389, 'neglect': 3390, '2nd': 3391, 'echo': 3392, 'humili': 3393, 'cuba': 3394, 'hart': 3395, 'timon': 3396, 'wealth': 3397, 'troop': 3398, 'immigr': 3399, 'elimin': 3400, 'paus': 3401, 'mistaken': 3402, 'saga': 3403, 'pun': 3404, 'domest': 3405, 'prejudic': 3406, 'repuls': 3407, 'solo': 3408, 'marshal': 3409, 'celluloid': 3410, 'homer': 3411, 'mickey': 3412, 'infect': 3413, 'jeffrey': 3414, 'collaps': 3415, 'chest': 3416, 'interrupt': 3417, 'gear': 3418, 'coffe': 3419, 'leon': 3420, 'cake': 3421, 'apolog': 3422, 'assembl': 3423, 'coat': 3424, 'hbo': 3425, 'sore': 3426, 'olivi': 3427, 'inappropri': 3428, '1996': 3429, 'tribe': 3430, 'promin': 3431, 'inan': 3432, 'undoubtedli': 3433, 'harvey': 3434, 'equip': 3435, 'pant': 3436, 'milk': 3437, 'ginger': 3438, 'florida': 3439, 'instant': 3440, 'embrac': 3441, 'vulgar': 3442, 'jenni': 3443, 'retain': 3444, 'consum': 3445, 'exot': 3446, 'pot': 3447, 'maggi': 3448, 'furthermor': 3449, 'airplan': 3450, 'humbl': 3451, 'aveng': 3452, 'primari': 3453, 'polanski': 3454, 'devast': 3455, 'pen': 3456, 'solut': 3457, 'colleagu': 3458, 'trace': 3459, 'brooklyn': 3460, 'highest': 3461, 'institut': 3462, 'colonel': 3463, 'poke': 3464, 'sale': 3465, 'illog': 3466, 'dian': 3467, 'outer': 3468, 'principl': 3469, 'disabl': 3470, 'godzilla': 3471, 'ya': 3472, 'strain': 3473, 'cope': 3474, 'linda': 3475, 'gender': 3476, 'descend': 3477, 'wive': 3478, 'dutch': 3479, 'rick': 3480, 'bowl': 3481, 'seduct': 3482, '3rd': 3483, 'smaller': 3484, '1999': 3485, 'lol': 3486, 'predecessor': 3487, 'dive': 3488, 'hal': 3489, 'cue': 3490, 'scope': 3491, 'beneath': 3492, 'yard': 3493, 'devoid': 3494, 'dud': 3495, 'mixtur': 3496, 'blatant': 3497, 'gloriou': 3498, 'inferior': 3499, 'rabbit': 3500, 'vast': 3501, 'glamor': 3502, 'primarili': 3503, 'bubbl': 3504, 'secondli': 3505, 'gundam': 3506, 'grinch': 3507, 'disjoint': 3508, 'senseless': 3509, 'alert': 3510, 'casual': 3511, 'simplist': 3512, 'invas': 3513, 'pearl': 3514, 'alfr': 3515, 'z': 3516, 'museum': 3517, 'shelf': 3518, 'hideou': 3519, 'myer': 3520, 'breed': 3521, 'countrysid': 3522, 'april': 3523, 'streep': 3524, 'shirley': 3525, 'talki': 3526, 'trademark': 3527, 'aggress': 3528, 'arab': 3529, 'domino': 3530, 'et': 3531, 'garbo': 3532, 'oz': 3533, 'khan': 3534, 'mail': 3535, 'unhappi': 3536, 'obtain': 3537, 'slide': 3538, 'hopeless': 3539, 'vanish': 3540, 'mayor': 3541, 'robinson': 3542, 'experiment': 3543, 'applaud': 3544, 'boom': 3545, 'loyal': 3546, 'hardcor': 3547, 'stellar': 3548, 'robberi': 3549, 'maci': 3550, 'defens': 3551, 'acid': 3552, 'stack': 3553, 'sh': 3554, 'stir': 3555, 'illeg': 3556, 'uwe': 3557, 'disgrac': 3558, 'rendit': 3559, 'dismiss': 3560, 'craze': 3561, 'fri': 3562, 'blew': 3563, 'wont': 3564, 'dicken': 3565, 'scroog': 3566, 'incomprehens': 3567, 'emphasi': 3568, 'berlin': 3569, 'amanda': 3570, 'declin': 3571, 'grandfath': 3572, 'psychic': 3573, 'recruit': 3574, 'soccer': 3575, 'tenant': 3576, 'tempt': 3577, 'counter': 3578, 'diana': 3579, 'topless': 3580, 'span': 3581, 'rifl': 3582, 'hartley': 3583, 'spider': 3584, 'revolt': 3585, 'bitch': 3586, 'intim': 3587, 'parad': 3588, 'trashi': 3589, 'niro': 3590, 'sibl': 3591, 'sympath': 3592, 'ethnic': 3593, 'woo': 3594, 'resurrect': 3595, 'goer': 3596, 'wet': 3597, 'lumet': 3598, 'shaw': 3599, 'riot': 3600, 'shed': 3601, 'justin': 3602, 'porno': 3603, 'faster': 3604, 'ration': 3605, 'wendi': 3606, '00': 3607, 'immort': 3608, 'nephew': 3609, 'dealer': 3610, 'eager': 3611, 'region': 3612, 'unreal': 3613, 'biographi': 3614, 'enlighten': 3615, 'weakest': 3616, 'ensur': 3617, 'patriot': 3618, 'feminist': 3619, 'farmer': 3620, 'hopper': 3621, 'rider': 3622, 'partial': 3623, 'slick': 3624, 'wheel': 3625, 'hesit': 3626, 'steam': 3627, 'choru': 3628, 'ballet': 3629, 'honesti': 3630, 'lena': 3631, 'gap': 3632, 'andr': 3633, 'jonathan': 3634, 'mario': 3635, 'commend': 3636, 'worm': 3637, 'util': 3638, 'nostalg': 3639, 'confin': 3640, 'owen': 3641, 'sappi': 3642, 'kingdom': 3643, 'composit': 3644, 'psychopath': 3645, 'mutant': 3646, 'blunt': 3647, 'prequel': 3648, 'wore': 3649, 'macarthur': 3650, 'charlott': 3651, 'properti': 3652, 'vice': 3653, 'repress': 3654, 'skull': 3655, 'sandra': 3656, 'victori': 3657, 'franco': 3658, 'hung': 3659, 'morri': 3660, 'snap': 3661, 'safeti': 3662, 'similarli': 3663, 'leo': 3664, 'cg': 3665, 'bergman': 3666, 'snl': 3667, 'montana': 3668, 'recycl': 3669, 'drain': 3670, 'hyde': 3671, 'deed': 3672, 'rocki': 3673, 'compass': 3674, 'nervou': 3675, 'emperor': 3676, 'strand': 3677, 'bow': 3678, 'bonu': 3679, 'tad': 3680, 'heartbreak': 3681, 'drum': 3682, 'acquir': 3683, 'exit': 3684, 'tail': 3685, 'campbel': 3686, 'repli': 3687, 'despair': 3688, 'del': 3689, 'pattern': 3690, 'rambl': 3691, 'speci': 3692, 'miseri': 3693, 'dalton': 3694, 'valuabl': 3695, 'dust': 3696, 'farrel': 3697, 'compens': 3698, 'bumbl': 3699, 'whoopi': 3700, 'thru': 3701, 'kyle': 3702, 'latin': 3703, 'rope': 3704, '1972': 3705, 'radic': 3706, 'wacki': 3707, 'rapist': 3708, 'downhil': 3709, 'oppress': 3710, 'carradin': 3711, 'romp': 3712, 'mistress': 3713, 'chess': 3714, '35': 3715, 'bleed': 3716, 'airport': 3717, 'tonight': 3718, 'orson': 3719, 'gimmick': 3720, 'martian': 3721, 'roth': 3722, 'rotten': 3723, 'percept': 3724, 'contempl': 3725, 'gal': 3726, 'olli': 3727, 'pour': 3728, 'slug': 3729, 'da': 3730, 'belt': 3731, 'unpredict': 3732, 'heal': 3733, 'pervers': 3734, 'programm': 3735, 'paltrow': 3736, 'arc': 3737, 'dazzl': 3738, 'taught': 3739, 'pervert': 3740, 'edgar': 3741, 'mislead': 3742, 'preach': 3743, 'pursuit': 3744, '1983': 3745, 'arguabl': 3746, 'attorney': 3747, 'champion': 3748, 'slash': 3749, 'shelley': 3750, 'tooth': 3751, 'banal': 3752, 'stilt': 3753, 'melodi': 3754, 'tackl': 3755, 'chicken': 3756, 'virginia': 3757, 'franki': 3758, 'dixon': 3759, 'mesmer': 3760, 'orang': 3761, 'gambl': 3762, 'closest': 3763, 'employe': 3764, 'vocal': 3765, 'raymond': 3766, 'rubi': 3767, 'tiresom': 3768, 'uplift': 3769, 'bela': 3770, 'cleverli': 3771, 'poem': 3772, 'sensat': 3773, 'passeng': 3774, 'vengeanc': 3775, 'plight': 3776, 'conneri': 3777, 'marti': 3778, 'graham': 3779, 'duval': 3780, 'maid': 3781, 'suffic': 3782, 'engross': 3783, 'mute': 3784, 'convincingli': 3785, 'tube': 3786, 'calm': 3787, 'scottish': 3788, 'clone': 3789, 'lundgren': 3790, 'profan': 3791, '1968': 3792, 'paranoia': 3793, 'amitabh': 3794, 'secretli': 3795, 'iran': 3796, 'inject': 3797, 'pokemon': 3798, 'crystal': 3799, 'yawn': 3800, 'extens': 3801, 'climact': 3802, 'whine': 3803, 'giggl': 3804, 'numb': 3805, 'bay': 3806, 'volum': 3807, 'abraham': 3808, 'outing': 3809, 'quarter': 3810, 'swallow': 3811, 'monologu': 3812, 'habit': 3813, 'gerard': 3814, 'sirk': 3815, 'plod': 3816, 'im': 3817, 'lowest': 3818, 'junior': 3819, 'dispos': 3820, 'spock': 3821, 'fed': 3822, 'trend': 3823, 'underst': 3824, 'linger': 3825, 'surpass': 3826, 'austen': 3827, 'franci': 3828, 'taxi': 3829, 'meander': 3830, 'expand': 3831, 'grotesqu': 3832, 'poetri': 3833, 'abort': 3834, 'ethan': 3835, 'backward': 3836, 'earl': 3837, 'profess': 3838, 'frankenstein': 3839, 'septemb': 3840, 'chicago': 3841, 'bend': 3842, 'nichola': 3843, 'richardson': 3844, 'mundan': 3845, 'greedi': 3846, 'eugen': 3847, 'myth': 3848, 'household': 3849, 'literatur': 3850, 'lure': 3851, 'tourist': 3852, 'econom': 3853, 'hum': 3854, 'descent': 3855, 'rubber': 3856, 'sue': 3857, 'stallon': 3858, 'waitress': 3859, 'simplic': 3860, 'instrument': 3861, 'catchi': 3862, 'muddl': 3863, 'compliment': 3864, 'rant': 3865, 'nostalgia': 3866, 'der': 3867, 'spoke': 3868, 'cannon': 3869, 'dysfunct': 3870, 'eaten': 3871, 'phoni': 3872, 'coast': 3873, 'carel': 3874, 'louis': 3875, 'lang': 3876, 'molli': 3877, 'cent': 3878, 'furi': 3879, 'damon': 3880, 'randi': 3881, 'bacal': 3882, 'irrelev': 3883, 'insur': 3884, 'alongsid': 3885, 'crucial': 3886, 'recognis': 3887, 'mortal': 3888, 'stale': 3889, 'june': 3890, 'flee': 3891, 'dement': 3892, 'sissi': 3893, 'dictat': 3894, 'occupi': 3895, 'mankind': 3896, 'equival': 3897, 'deaf': 3898, 'map': 3899, 'recognit': 3900, 'phantom': 3901, 'omen': 3902, 'hello': 3903, 'firstli': 3904, 'duck': 3905, 'wisdom': 3906, 'newli': 3907, 'onlin': 3908, 'dreari': 3909, 'loyalti': 3910, 'likewis': 3911, 'freez': 3912, 'reign': 3913, 'bike': 3914, 'labor': 3915, '1973': 3916, 'twilight': 3917, 'rude': 3918, 'damm': 3919, 'bump': 3920, 'rooney': 3921, 'ashley': 3922, 'grayson': 3923, 'drake': 3924, 'heel': 3925, 'blackmail': 3926, 'daisi': 3927, 'distinguish': 3928, 'buffalo': 3929, 'biko': 3930, 'lengthi': 3931, 'cyborg': 3932, 'antwon': 3933, 'exposur': 3934, 'emphas': 3935, 'tunnel': 3936, 'approv': 3937, 'boxer': 3938, 'butler': 3939, 'vein': 3940, 'worn': 3941, 'barrymor': 3942, 'nineti': 3943, 'provoc': 3944, 'proce': 3945, 'attribut': 3946, 'interior': 3947, 'basketbal': 3948, 'unorigin': 3949, 'pink': 3950, 'ridden': 3951, 'chronicl': 3952, 'prey': 3953, 'sailor': 3954, 'keith': 3955, 'baddi': 3956, 'analysi': 3957, 'startl': 3958, 'incorpor': 3959, 'inher': 3960, 'underli': 3961, 'indiffer': 3962, 'improvis': 3963, 'condemn': 3964, 'hypnot': 3965, 'degrad': 3966, 'julian': 3967, 'elm': 3968, 'er': 3969, 'undeni': 3970, 'drift': 3971, 'fleet': 3972, 'robbin': 3973, 'mormon': 3974, 'walsh': 3975, 'millionair': 3976, 'mighti': 3977, 'substitut': 3978, 'meg': 3979, 'othello': 3980, 'predat': 3981, 'belushi': 3982, 'simmon': 3983, 'meyer': 3984, 'nicol': 3985, 'carla': 3986, 'barrel': 3987, 'unrel': 3988, 'stalker': 3989, 'bunni': 3990, 'rukh': 3991, 'palac': 3992, 'hay': 3993, 'mtv': 3994, 'priceless': 3995, 'warmth': 3996, 'nyc': 3997, 'shove': 3998, 'dolph': 3999, 'lampoon': 4000, 'roof': 4001, 'vital': 4002, 'exquisit': 4003, 'firm': 4004, 'unawar': 4005, 'watson': 4006, 'greed': 4007, 'disord': 4008, 'agenda': 4009, 'edgi': 4010, 'alarm': 4011, 'marion': 4012, 'alison': 4013, 'enthusiasm': 4014, 'reid': 4015, 'errol': 4016, '3d': 4017, 'novak': 4018, 'ponder': 4019, 'valentin': 4020, 'unleash': 4021, 'showdown': 4022, 'testament': 4023, 'gestur': 4024, 'session': 4025, 'spain': 4026, 'cassidi': 4027, 'simultan': 4028, 'coup': 4029, 'sergeant': 4030, 'eastern': 4031, 'glanc': 4032, 'profit': 4033, 'crown': 4034, 'campaign': 4035, 'peril': 4036, 'peck': 4037, '13th': 4038, 'what': 4039, 'nun': 4040, 'randomli': 4041, 'orlean': 4042, 'petti': 4043, 'angela': 4044, 'iraq': 4045, 'drip': 4046, 'thompson': 4047, 'distort': 4048, '1933': 4049, 'pamela': 4050, 'beatl': 4051, 'championship': 4052, 'israel': 4053, 'zizek': 4054, 'preserv': 4055, 'minimum': 4056, '1984': 4057, 'empathi': 4058, 'climat': 4059, 'wig': 4060, 'crawl': 4061, 'reson': 4062, 'stroke': 4063, 'exposit': 4064, 'quinn': 4065, 'crow': 4066, 'calib': 4067, 'jan': 4068, 'rout': 4069, 'mon': 4070, 'han': 4071, 'scotland': 4072, 'regist': 4073, 'contradict': 4074, 'perpetu': 4075, 'cream': 4076, 'stake': 4077, 'kurosawa': 4078, 'valley': 4079, 'represent': 4080, 'cooki': 4081, 'restrain': 4082, 'travesti': 4083, 'unimagin': 4084, 'buster': 4085, 'brenda': 4086, 'shootout': 4087, 'gentleman': 4088, 'bro': 4089, 'realm': 4090, 'sabrina': 4091, 'din': 4092, 'miyazaki': 4093, 'fido': 4094, 'businessman': 4095, 'cloud': 4096, 'crawford': 4097, 'passabl': 4098, 'shaki': 4099, 'perceiv': 4100, 'censor': 4101, 'distress': 4102, 'ross': 4103, 'demis': 4104, 'tacki': 4105, 'painter': 4106, 'dana': 4107, 'greg': 4108, 'baldwin': 4109, 'absent': 4110, 'traumat': 4111, 'unseen': 4112, 'femm': 4113, 'meryl': 4114, 'pole': 4115, 'darren': 4116, 'soderbergh': 4117, '1997': 4118, 'sucker': 4119, '1987': 4120, 'ustinov': 4121, 'derang': 4122, 'delic': 4123, 'monoton': 4124, 'stargat': 4125, 'compromis': 4126, 'sammi': 4127, 'josh': 4128, 'abomin': 4129, 'unsatisfi': 4130, 'spacey': 4131, 'geek': 4132, 'shoddi': 4133, 'wax': 4134, 'fuller': 4135, 'pretens': 4136, 'warrant': 4137, 'mclaglen': 4138, 'norm': 4139, 'tarantino': 4140, 'click': 4141, 'verbal': 4142, 'reluct': 4143, 'clash': 4144, 'deceas': 4145, 'accuraci': 4146, 'deniro': 4147, 'austin': 4148, 'kumar': 4149, 'correctli': 4150, 'furiou': 4151, 'fenc': 4152, 'unravel': 4153, '1993': 4154, 'primit': 4155, 'wholli': 4156, 'seal': 4157, 'sid': 4158, 'uncov': 4159, 'exclus': 4160, 'jewel': 4161, 'polici': 4162, 'anchor': 4163, 'valid': 4164, 'nathan': 4165, 'expedit': 4166, 'dee': 4167, 'antonioni': 4168, 'fog': 4169, 'judgment': 4170, 'tech': 4171, 'darn': 4172, 'joel': 4173, 'seldom': 4174, 'pocket': 4175, 'bake': 4176, 'crippl': 4177, 'fought': 4178, '1971': 4179, 'dreck': 4180, 'fabric': 4181, 'alec': 4182, 'hallucin': 4183, 'trait': 4184, 'temper': 4185, 'debt': 4186, '1995': 4187, 'enforc': 4188, 'unfair': 4189, 'nicola': 4190, 'clerk': 4191, 'conduct': 4192, 'sunni': 4193, '2008': 4194, 'sheet': 4195, 'tax': 4196, 'slam': 4197, 'mode': 4198, '3000': 4199, 'fart': 4200, 'malon': 4201, 'shanghai': 4202, 'sand': 4203, 'sustain': 4204, 'patienc': 4205, 'roller': 4206, 'wretch': 4207, 'murray': 4208, 'logan': 4209, 'wang': 4210, 'behold': 4211, 'ritual': 4212, 'vanc': 4213, 'phil': 4214, 'guitar': 4215, 'helpless': 4216, 'pete': 4217, 'soup': 4218, 'runner': 4219, 'tactic': 4220, 'critiqu': 4221, 'shell': 4222, 'fundament': 4223, 'canyon': 4224, 'sweep': 4225, 'isabel': 4226, 'bridget': 4227, 'despis': 4228, 'penni': 4229, 'grief': 4230, 'schedul': 4231, 'stark': 4232, 'stuart': 4233, 'rita': 4234, 'robber': 4235, 'legaci': 4236, 'exhaust': 4237, 'preposter': 4238, 'conscious': 4239, 'clau': 4240, 'outlin': 4241, 'scriptwrit': 4242, 'preston': 4243, 'bias': 4244, 'divid': 4245, 'squad': 4246, 'technicolor': 4247, 'passag': 4248, 'consciou': 4249, 'vomit': 4250, 'invad': 4251, 'cigarett': 4252, 'gregori': 4253, 'rehash': 4254, 'culmin': 4255, 'rear': 4256, 'russia': 4257, 'lacklust': 4258, 'bloom': 4259, 'inabl': 4260, 'drove': 4261, 'restrict': 4262, 'kansa': 4263, 'implic': 4264, 'palanc': 4265, 'sugar': 4266, 'jacket': 4267, 'marc': 4268, 'delv': 4269, 'flair': 4270, 'unexpectedli': 4271, 'sentinel': 4272, 'alley': 4273, 'agenc': 4274, 'jodi': 4275, 'newman': 4276, 'alicia': 4277, 'propos': 4278, 'boyl': 4279, 'liberti': 4280, 'downey': 4281, 'connor': 4282, 'sniper': 4283, 'feat': 4284, 'awhil': 4285, 'aesthet': 4286, 'mccoy': 4287, 'tendenc': 4288, 'rehears': 4289, 'wrench': 4290, 'behaviour': 4291, 'improb': 4292, 'cap': 4293, 'lush': 4294, 'rampag': 4295, 'kolchak': 4296, '22': 4297, 'vet': 4298, 'pale': 4299, 'foxx': 4300, 'horn': 4301, 'karl': 4302, 'asylum': 4303, 'tripe': 4304, 'bacon': 4305, 'arrow': 4306, 'delet': 4307, '1936': 4308, 'rod': 4309, 'ladder': 4310, 'chainsaw': 4311, 'sharon': 4312, 'yeti': 4313, 'paradis': 4314, 'minu': 4315, 'weav': 4316, '19th': 4317, '1988': 4318, 'amazon': 4319, 'el': 4320, 'newcom': 4321, 'lurk': 4322, 'stream': 4323, 'suspicion': 4324, 'coaster': 4325, 'underneath': 4326, 'paramount': 4327, 'wagner': 4328, 'rhythm': 4329, 'rumor': 4330, 'hungri': 4331, 'suffici': 4332, 'sung': 4333, 'tasteless': 4334, 'fright': 4335, 'aristocrat': 4336, 'shortcom': 4337, 'tomorrow': 4338, 'spice': 4339, 'conscienc': 4340, 'visitor': 4341, 'scoop': 4342, 'loneli': 4343, 'hackney': 4344, 'filler': 4345, 'globe': 4346, '1978': 4347, 'elit': 4348, 'prank': 4349, 'hulk': 4350, 'financ': 4351, 'wildli': 4352, '1920': 4353, 'thunderbird': 4354, 'basing': 4355, 'smell': 4356, 'impos': 4357, 'secondari': 4358, 'abrupt': 4359, 'leigh': 4360, 'entranc': 4361, 'curli': 4362, 'ram': 4363, 'iv': 4364, 'counterpart': 4365, 'en': 4366, 'cancer': 4367, 'dirt': 4368, 'choppi': 4369, 'hopkin': 4370, 'literari': 4371, 'paxton': 4372, 'penn': 4373, '1939': 4374, 'chavez': 4375, 'worship': 4376, 'ingeni': 4377, 'brit': 4378, 'couch': 4379, 'quietli': 4380, 'naughti': 4381, 'rub': 4382, 'straightforward': 4383, 'teas': 4384, 'chamberlain': 4385, '1989': 4386, 'beverli': 4387, 'tierney': 4388, 'minist': 4389, 'standout': 4390, 'inmat': 4391, 'posey': 4392, '75': 4393, 'springer': 4394, 'atroc': 4395, 'grudg': 4396, 'bread': 4397, 'recogniz': 4398, 'immers': 4399, 'wwe': 4400, 'heist': 4401, 'lectur': 4402, 'bernard': 4403, 'moreov': 4404, 'heartfelt': 4405, 'variat': 4406, 'yearn': 4407, 'nemesi': 4408, 'sublim': 4409, 'missil': 4410, 'misguid': 4411, 'esther': 4412, 'policeman': 4413, 'transcend': 4414, 'watcher': 4415, 'convert': 4416, 'cattl': 4417, 'injuri': 4418, 'geni': 4419, 'lindsay': 4420, '1986': 4421, 'clan': 4422, 'duel': 4423, 'morbid': 4424, 'laurenc': 4425, 'sassi': 4426, 'attenborough': 4427, 'quaid': 4428, 'skeptic': 4429, 'nolan': 4430, 'entitl': 4431, 'ace': 4432, 'enthral': 4433, 'net': 4434, 'ratso': 4435, 'artsi': 4436, 'egg': 4437, 'spiral': 4438, 'enabl': 4439, 'cruelti': 4440, 'mytholog': 4441, 'characteris': 4442, 'dont': 4443, 'poe': 4444, 'unexplain': 4445, 'hk': 4446, 'graini': 4447, 'kitti': 4448, 'tyler': 4449, 'bean': 4450, 'out': 4451, 'grin': 4452, 'bye': 4453, 'diari': 4454, 'hopelessli': 4455, '1979': 4456, 'rosemari': 4457, 'setup': 4458, 'brood': 4459, 'steadi': 4460, 'reliabl': 4461, 'youngest': 4462, 'obstacl': 4463, 'uncut': 4464, 'facil': 4465, 'buzz': 4466, 'moder': 4467, 'kidman': 4468, 'carlito': 4469, 'puppi': 4470, 'vader': 4471, 'heap': 4472, 'bounc': 4473, 'narrow': 4474, 'martha': 4475, 'acquaint': 4476, 'preming': 4477, 'christin': 4478, '1969': 4479, 'underworld': 4480, 'baffl': 4481, 'bronson': 4482, 'fuel': 4483, 'spontan': 4484, 'disastr': 4485, 'weather': 4486, 'gina': 4487, 'sweat': 4488, 'niec': 4489, 'bewar': 4490, 'athlet': 4491, 'decept': 4492, 'clueless': 4493, 'oblig': 4494, 'despic': 4495, 'hammi': 4496, 'hain': 4497, 'patricia': 4498, 'effici': 4499, 'brendan': 4500, 'gillian': 4501, 'kline': 4502, 'exterior': 4503, 'shatter': 4504, 'dilemma': 4505, 'renaiss': 4506, 'tick': 4507, '19': 4508, 'loath': 4509, 'scar': 4510, '73': 4511, 'circu': 4512, 'angst': 4513, 'goof': 4514, 'virtu': 4515, 'enlist': 4516, 'mermaid': 4517, 'taboo': 4518, 'viewpoint': 4519, 'analyz': 4520, 'sleepwalk': 4521, 'biker': 4522, 'insipid': 4523, 'preachi': 4524, 'astound': 4525, 'lester': 4526, 'sooner': 4527, 'hepburn': 4528, 'candl': 4529, 'loi': 4530, 'mayhem': 4531, 'uh': 4532, 'dandi': 4533, 'harmless': 4534, 'suprem': 4535, 'outlaw': 4536, 'trigger': 4537, 'injur': 4538, 'rome': 4539, 'fontain': 4540, 'housewif': 4541, 'headach': 4542, 'intric': 4543, 'foolish': 4544, 'immatur': 4545, 'steer': 4546, 'dismal': 4547, 'spade': 4548, 'contempt': 4549, 'hokey': 4550, 'dish': 4551, 'guin': 4552, 'slimi': 4553, 'surgeri': 4554, 'boston': 4555, 'amor': 4556, 'redund': 4557, 'overlong': 4558, 'scorses': 4559, 'hooker': 4560, 'bent': 4561, 'phenomenon': 4562, 'claustrophob': 4563, 'zoom': 4564, 'idol': 4565, 'oldest': 4566, 'filth': 4567, 'sox': 4568, 'fluff': 4569, 'macho': 4570, 'gere': 4571, 'camcord': 4572, 'ebert': 4573, 'stimul': 4574, 'glorifi': 4575, 'hostag': 4576, 'cassavet': 4577, 'tripl': 4578, 'stair': 4579, 'whore': 4580, 'corbett': 4581, 'ariel': 4582, 'salt': 4583, 'cow': 4584, 'frantic': 4585, 'trivia': 4586, 'rhyme': 4587, 'cohen': 4588, '1981': 4589, 'flirt': 4590, 'messi': 4591, 'strongest': 4592, 'muscl': 4593, 'keen': 4594, 'preced': 4595, 'proport': 4596, 'flag': 4597, 'spree': 4598, 'schlock': 4599, 'remad': 4600, 'shield': 4601, 'flashi': 4602, 'fascist': 4603, '1976': 4604, 'spinal': 4605, 'joker': 4606, 'harold': 4607, 'shred': 4608, 'corman': 4609, 'radiat': 4610, 'perman': 4611, 'alvin': 4612, 'cush': 4613, 'transplant': 4614, 'gasp': 4615, 'astronaut': 4616, 'dwarf': 4617, 'down': 4618, 'assert': 4619, 'conquer': 4620, 'obligatori': 4621, 'mount': 4622, 'faint': 4623, 'antagonist': 4624, 'beard': 4625, 'widescreen': 4626, 'mutual': 4627, 'naschi': 4628, 'margin': 4629, 'nolt': 4630, 'gabl': 4631, 'zane': 4632, '28': 4633, 'danish': 4634, 'neurot': 4635, 'carey': 4636, '95': 4637, 'deer': 4638, 'bitten': 4639, 'barn': 4640, 'off': 4641, 'someday': 4642, 'mobil': 4643, 'aborigin': 4644, 'divin': 4645, 'brush': 4646, 'discern': 4647, 'triangl': 4648, 'raj': 4649, 'boob': 4650, 'persuad': 4651, 'ritchi': 4652, 'inflict': 4653, 'www': 4654, 'sensual': 4655, '1945': 4656, 'wield': 4657, 'strive': 4658, 'claud': 4659, 'hara': 4660, 'vaniti': 4661, 'repris': 4662, 'bachelor': 4663, 'archiv': 4664, 'scandal': 4665, 'resum': 4666, 'fishburn': 4667, 'interestingli': 4668, 'instruct': 4669, 'departur': 4670, 'flock': 4671, 'info': 4672, 'mol': 4673, 'heartwarm': 4674, 'melissa': 4675, 'pixar': 4676, 'prophet': 4677, 'senior': 4678, 'undermin': 4679, 'biblic': 4680, 'carlo': 4681, 'submit': 4682, 'miracul': 4683, 'cliffhang': 4684, 'ish': 4685, 'mobster': 4686, 'hilar': 4687, 'hug': 4688, 'helm': 4689, 'vibrant': 4690, 'cycl': 4691, 'dame': 4692, 'artwork': 4693, 'cb': 4694, 'wendigo': 4695, 'pacif': 4696, 'fragil': 4697, 'traffic': 4698, 'dylan': 4699, 'kathryn': 4700, 'loretta': 4701, 'pickford': 4702, 'banter': 4703, 'bate': 4704, 'recit': 4705, 'dim': 4706, 'clad': 4707, 'axe': 4708, 'rot': 4709, 'timberlak': 4710, 'frontier': 4711, 'hapless': 4712, 'casino': 4713, 'parson': 4714, 'colin': 4715, 'neill': 4716, 'cher': 4717, 'harrison': 4718, 'luka': 4719, 'anton': 4720, 'jade': 4721, 'earnest': 4722, 'proclaim': 4723, 'europa': 4724, 'electron': 4725, 'articl': 4726, 'blatantli': 4727, 'flavor': 4728, 'wardrob': 4729, 'cerebr': 4730, 'northern': 4731, 'pc': 4732, 'token': 4733, 'alexandr': 4734, 'sicken': 4735, 'redneck': 4736, 'mason': 4737, 'jo': 4738, 'feast': 4739, 'foil': 4740, 'toronto': 4741, 'holocaust': 4742, 'static': 4743, 'shepherd': 4744, 'estrang': 4745, 'legitim': 4746, 'mathieu': 4747, 'seedi': 4748, 'bikini': 4749, 'aris': 4750, 'nope': 4751, 'vile': 4752, 'akin': 4753, 'http': 4754, 'venom': 4755, 'misfortun': 4756, 'isra': 4757, 'illus': 4758, 'breakfast': 4759, 'choke': 4760, 'jordan': 4761, 'lucil': 4762, 'orphan': 4763, 'lui': 4764, 'antholog': 4765, 'marlon': 4766, 'eli': 4767, 'vanessa': 4768, 'bondag': 4769, 'razor': 4770, 'winchest': 4771, 'uma': 4772, 'milo': 4773, 'rooki': 4774, 'trier': 4775, 'frog': 4776, 'smack': 4777, 'deem': 4778, 'retriev': 4779, 'comprehend': 4780, 'glare': 4781, 'highway': 4782, 'ceremoni': 4783, 'feminin': 4784, 'wrestler': 4785, 'oppon': 4786, 'dudley': 4787, 'clinic': 4788, 'charlton': 4789, 'ideolog': 4790, 'outdat': 4791, 'abund': 4792, 'swept': 4793, 'cartoonish': 4794, 'disregard': 4795, 'leather': 4796, 'fifth': 4797, 'turd': 4798, 'shorter': 4799, 'gilbert': 4800, 'peer': 4801, 'styliz': 4802, 'psych': 4803, 'affleck': 4804, 'knightley': 4805, 'howl': 4806, 'linear': 4807, 'magician': 4808, 'audrey': 4809, 'boyer': 4810, 'huston': 4811, 'tack': 4812, 'nightclub': 4813, 'gunga': 4814, 'btw': 4815, 'boo': 4816, 'greet': 4817, 'tara': 4818, 'moe': 4819, 'durat': 4820, 'lifeless': 4821, 'deliver': 4822, 'whack': 4823, 'chip': 4824, 'spine': 4825, 'toe': 4826, 'phenomen': 4827, '1991': 4828, 'breakdown': 4829, 'monument': 4830, '4th': 4831, 'potter': 4832, 'energet': 4833, '1994': 4834, 'sleaz': 4835, 'goldsworthi': 4836, 'lighter': 4837, 'lavish': 4838, 'newer': 4839, 'compris': 4840, 'summar': 4841, 'cuban': 4842, 'einstein': 4843, 'uniformli': 4844, 'client': 4845, 'corn': 4846, 'braveheart': 4847, 'plate': 4848, 'salman': 4849, 'evolut': 4850, 'bogu': 4851, 'bastard': 4852, 'snatch': 4853, 'collector': 4854, 'cemeteri': 4855, 'mitch': 4856, 'senat': 4857, 'conrad': 4858, 'spawn': 4859, 'ie': 4860, 'eleven': 4861, 'embark': 4862, 'jedi': 4863, 'occup': 4864, 'alleg': 4865, 'cecil': 4866, 'healthi': 4867, 'outright': 4868, 'appl': 4869, 'inaccuraci': 4870, 'belli': 4871, 'bulk': 4872, 'capot': 4873, 'jam': 4874, 'neatli': 4875, 'spectacl': 4876, 'signal': 4877, 'replay': 4878, 'creek': 4879, 'nina': 4880, 'trauma': 4881, 'fluid': 4882, 'kent': 4883, 'wtf': 4884, 'judd': 4885, 'historian': 4886, 'constitut': 4887, 'luxuri': 4888, '1974': 4889, 'sorrow': 4890, 'jare': 4891, 'undead': 4892, 'mcqueen': 4893, 'ol': 4894, 'clara': 4895, 'kazan': 4896, 'jule': 4897, 'undertak': 4898, 'lex': 4899, '1977': 4900, 'firmli': 4901, 'randolph': 4902, 'pronounc': 4903, 'bori': 4904, 'armstrong': 4905, 'liu': 4906, 'evelyn': 4907, 'gilliam': 4908, 'aussi': 4909, 'goldblum': 4910, 'antonio': 4911, 'bait': 4912, 'blur': 4913, 'kiddi': 4914, 'decapit': 4915, 'carmen': 4916, 'spray': 4917, 'sidewalk': 4918, 'curtain': 4919, 'relentless': 4920, 'cape': 4921, 'galaxi': 4922, 'tokyo': 4923, 'lauren': 4924, 'congratul': 4925, 'ash': 4926, 'truman': 4927, 'poker': 4928, 'conan': 4929, 'unattract': 4930, 'roar': 4931, 'palm': 4932, 'comprehens': 4933, 'vignett': 4934, 'forgiven': 4935, 'inclus': 4936, 'unsuspect': 4937, 'inaccur': 4938, 'lanc': 4939, 'miniseri': 4940, 'comb': 4941, 'knee': 4942, 'basket': 4943, '1985': 4944, 'genet': 4945, 'paula': 4946, 'meal': 4947, 'id': 4948, 'porter': 4949, 'mum': 4950, 'subtli': 4951, 'fruit': 4952, 'propheci': 4953, 'vain': 4954, 'pepper': 4955, 'pioneer': 4956, 'sacrif': 4957, 'bsg': 4958, 'groan': 4959, 'abound': 4960, 'miami': 4961, 'walt': 4962, 'rosario': 4963, 'incorrect': 4964, 'ingrid': 4965, 'detach': 4966, 'motorcycl': 4967, 'drone': 4968, 'ghetto': 4969, 'dubiou': 4970, 'monti': 4971, 'playboy': 4972, 'sparkl': 4973, 'victorian': 4974, 'reincarn': 4975, 'profil': 4976, 'evan': 4977, 'weaker': 4978, 'substanti': 4979, 'bravo': 4980, '21st': 4981, 'weari': 4982, 'turtl': 4983, 'asset': 4984, 'bach': 4985, 'vastli': 4986, 'macabr': 4987, 'hackman': 4988, 'mice': 4989, 'growth': 4990, 'assort': 4991, 'frontal': 4992, 'jill': 4993, 'omin': 4994, 'epitom': 4995, 'rapidli': 4996, 'spill': 4997, 'orchestr': 4998, 'hostil': 4999}\n"
     ]
    }
   ],
   "source": [
    "# TODO: Use this space to determine the five most frequently appearing words in the training set.\n",
    "counts = Counter(np.concatenate( train_X, axis=0 ))\n",
    "sorted_words = sorted(counts, key=counts.get, reverse=True)\n",
    "print(sorted_words[:5])\n",
    "print(counts['movi'])\n",
    "print(word_dict)"
   ]
  },
  {
   "cell_type": "markdown",
   "metadata": {},
   "source": [
    "### Save `word_dict`\n",
    "\n",
    "Later on when we construct an endpoint which processes a submitted review we will need to make use of the `word_dict` which we have created. As such, we will save it to a file now for future use."
   ]
  },
  {
   "cell_type": "code",
   "execution_count": 16,
   "metadata": {},
   "outputs": [],
   "source": [
    "data_dir = '../data/pytorch' # The folder we will use for storing data\n",
    "if not os.path.exists(data_dir): # Make sure that the folder exists\n",
    "    os.makedirs(data_dir)"
   ]
  },
  {
   "cell_type": "code",
   "execution_count": 17,
   "metadata": {},
   "outputs": [],
   "source": [
    "with open(os.path.join(data_dir, 'word_dict.pkl'), \"wb\") as f:\n",
    "    pickle.dump(word_dict, f)"
   ]
  },
  {
   "cell_type": "markdown",
   "metadata": {},
   "source": [
    "### Transform the reviews\n",
    "\n",
    "Now that we have our word dictionary which allows us to transform the words appearing in the reviews into integers, it is time to make use of it and convert our reviews to their integer sequence representation, making sure to pad or truncate to a fixed length, which in our case is `500`."
   ]
  },
  {
   "cell_type": "code",
   "execution_count": 18,
   "metadata": {},
   "outputs": [],
   "source": [
    "def convert_and_pad(word_dict, sentence, pad=500):\n",
    "    NOWORD = 0 # We will use 0 to represent the 'no word' category\n",
    "    INFREQ = 1 # and we use 1 to represent the infrequent words, i.e., words not appearing in word_dict\n",
    "    \n",
    "    working_sentence = [NOWORD] * pad\n",
    "    \n",
    "    for word_index, word in enumerate(sentence[:pad]):\n",
    "        if word in word_dict:\n",
    "            working_sentence[word_index] = word_dict[word]\n",
    "        else:\n",
    "            working_sentence[word_index] = INFREQ\n",
    "            \n",
    "    return working_sentence, min(len(sentence), pad)\n",
    "\n",
    "def convert_and_pad_data(word_dict, data, pad=500):\n",
    "    result = []\n",
    "    lengths = []\n",
    "    \n",
    "    for sentence in data:\n",
    "        converted, leng = convert_and_pad(word_dict, sentence, pad)\n",
    "        result.append(converted)\n",
    "        lengths.append(leng)\n",
    "        \n",
    "    return np.array(result), np.array(lengths)"
   ]
  },
  {
   "cell_type": "code",
   "execution_count": 19,
   "metadata": {},
   "outputs": [],
   "source": [
    "train_X, train_X_len = convert_and_pad_data(word_dict, train_X)\n",
    "test_X, test_X_len = convert_and_pad_data(word_dict, test_X)"
   ]
  },
  {
   "cell_type": "markdown",
   "metadata": {},
   "source": [
    "As a quick check to make sure that things are working as intended, check to see what one of the reviews in the training set looks like after having been processeed. Does this look reasonable? What is the length of a review in the training set?"
   ]
  },
  {
   "cell_type": "code",
   "execution_count": 20,
   "metadata": {},
   "outputs": [
    {
     "name": "stdout",
     "output_type": "stream",
     "text": [
      "[   3  281   16   19  782   99    1   26  213  236  121  734  573   28\n",
      "    7   35   19   26   60  546   24   35  207  265   13  284   37    1\n",
      "   25 1928  665  458  437   61 2192  472 1928  137 1168 2249   10   64\n",
      " 4643 2038 1288 1493  115    3   48    6  237   48    6   10 1256  429\n",
      " 2704    9 1625    4   39    5   79    4  278 1080  601  385 1477 1666\n",
      " 2747  533    9  765  667   22    2   36 2051 1853  118 1719  178   30\n",
      "    3   97    1 2250 1666 1709   13    9   75   39   24 1928  984   88\n",
      " 1108  238  178  261  226 1083 1421  582    1 1305  327 2732  458 1842\n",
      "  740 3971 1337    1 1537    1  413 2249 1757  134    1   10  271  424\n",
      "  212  243  743 1257   28   35  323 1757  602 2685  975   10   45 1345\n",
      "    1  487    1 1345 1581   37  144   13  264 2799  239 1168  458  274\n",
      "  240   13 3054    1  142   61  458  397  226  381   36  179  381  416\n",
      " 3054  458 1065   18 4822   37  562  462  201  122  413  378  648 4643\n",
      " 1493  167  602  401 2174   64  789  348  401  992 1928  246   70   39\n",
      " 2096   35    1  205   89  247  535 4644    1    1  104 2408  143  364\n",
      "   89  412 1808 3962  156  103   89   30  596  367  397  179   11  327\n",
      "  249   18  438 4028  186  584  437   41  430 1008  128 1664 3169    1\n",
      " 4644  177 2129   22 2668  465  247  364    1 2885 2032    3 1724 1563\n",
      "  322    0    0    0    0    0    0    0    0    0    0    0    0    0\n",
      "    0    0    0    0    0    0    0    0    0    0    0    0    0    0\n",
      "    0    0    0    0    0    0    0    0    0    0    0    0    0    0\n",
      "    0    0    0    0    0    0    0    0    0    0    0    0    0    0\n",
      "    0    0    0    0    0    0    0    0    0    0    0    0    0    0\n",
      "    0    0    0    0    0    0    0    0    0    0    0    0    0    0\n",
      "    0    0    0    0    0    0    0    0    0    0    0    0    0    0\n",
      "    0    0    0    0    0    0    0    0    0    0    0    0    0    0\n",
      "    0    0    0    0    0    0    0    0    0    0    0    0    0    0\n",
      "    0    0    0    0    0    0    0    0    0    0    0    0    0    0\n",
      "    0    0    0    0    0    0    0    0    0    0    0    0    0    0\n",
      "    0    0    0    0    0    0    0    0    0    0    0    0    0    0\n",
      "    0    0    0    0    0    0    0    0    0    0    0    0    0    0\n",
      "    0    0    0    0    0    0    0    0    0    0    0    0    0    0\n",
      "    0    0    0    0    0    0    0    0    0    0    0    0    0    0\n",
      "    0    0    0    0    0    0    0    0    0    0    0    0    0    0\n",
      "    0    0    0    0    0    0    0    0    0    0    0    0    0    0\n",
      "    0    0    0    0    0    0    0    0    0    0]\n",
      "Length of review: 500\n"
     ]
    }
   ],
   "source": [
    "# Use this cell to examine one of the processed reviews to make sure everything is working as intended.\n",
    "print(train_X[100])\n",
    "print(\"Length of review:\",len(train_X[100]))"
   ]
  },
  {
   "cell_type": "markdown",
   "metadata": {},
   "source": [
    "**Question:** In the cells above we use the `preprocess_data` and `convert_and_pad_data` methods to process both the training and testing set. Why or why not might this be a problem?"
   ]
  },
  {
   "cell_type": "markdown",
   "metadata": {},
   "source": [
    "**Answer:**\n",
    "I think this is not a problem. This is because: 1. The training and testing set undergo same preprocessing and data transformation 2. I think 500-words review is enough to judge if the review is positive or negative."
   ]
  },
  {
   "cell_type": "markdown",
   "metadata": {},
   "source": [
    "## Step 3: Upload the data to S3\n",
    "\n",
    "As in the XGBoost notebook, we will need to upload the training dataset to S3 in order for our training code to access it. For now we will save it locally and we will upload to S3 later on.\n",
    "\n",
    "### Save the processed training dataset locally\n",
    "\n",
    "It is important to note the format of the data that we are saving as we will need to know it when we write the training code. In our case, each row of the dataset has the form `label`, `length`, `review[500]` where `review[500]` is a sequence of `500` integers representing the words in the review."
   ]
  },
  {
   "cell_type": "code",
   "execution_count": 21,
   "metadata": {},
   "outputs": [],
   "source": [
    "import pandas as pd\n",
    "    \n",
    "pd.concat([pd.DataFrame(train_y), pd.DataFrame(train_X_len), pd.DataFrame(train_X)], axis=1) \\\n",
    "        .to_csv(os.path.join(data_dir, 'train.csv'), header=False, index=False)"
   ]
  },
  {
   "cell_type": "markdown",
   "metadata": {},
   "source": [
    "### Uploading the training data\n",
    "\n",
    "\n",
    "Next, we need to upload the training data to the SageMaker default S3 bucket so that we can provide access to it while training our model."
   ]
  },
  {
   "cell_type": "code",
   "execution_count": 22,
   "metadata": {},
   "outputs": [],
   "source": [
    "import sagemaker\n",
    "\n",
    "sagemaker_session = sagemaker.Session()\n",
    "\n",
    "bucket = sagemaker_session.default_bucket()\n",
    "prefix = 'sagemaker/sentiment_rnn'\n",
    "\n",
    "role = sagemaker.get_execution_role()"
   ]
  },
  {
   "cell_type": "code",
   "execution_count": 23,
   "metadata": {},
   "outputs": [],
   "source": [
    "input_data = sagemaker_session.upload_data(path=data_dir, bucket=bucket, key_prefix=prefix)"
   ]
  },
  {
   "cell_type": "markdown",
   "metadata": {},
   "source": [
    "**NOTE:** The cell above uploads the entire contents of our data directory. This includes the `word_dict.pkl` file. This is fortunate as we will need this later on when we create an endpoint that accepts an arbitrary review. For now, we will just take note of the fact that it resides in the data directory (and so also in the S3 training bucket) and that we will need to make sure it gets saved in the model directory."
   ]
  },
  {
   "cell_type": "markdown",
   "metadata": {},
   "source": [
    "## Step 4: Build and Train the PyTorch Model\n",
    "\n",
    "In the XGBoost notebook we discussed what a model is in the SageMaker framework. In particular, a model comprises three objects\n",
    "\n",
    " - Model Artifacts,\n",
    " - Training Code, and\n",
    " - Inference Code,\n",
    " \n",
    "each of which interact with one another. In the XGBoost example we used training and inference code that was provided by Amazon. Here we will still be using containers provided by Amazon with the added benefit of being able to include our own custom code.\n",
    "\n",
    "We will start by implementing our own neural network in PyTorch along with a training script. For the purposes of this project we have provided the necessary model object in the `model.py` file, inside of the `train` folder. You can see the provided implementation by running the cell below."
   ]
  },
  {
   "cell_type": "code",
   "execution_count": 24,
   "metadata": {},
   "outputs": [
    {
     "name": "stdout",
     "output_type": "stream",
     "text": [
      "\u001b[34mimport\u001b[39;49;00m \u001b[04m\u001b[36mtorch\u001b[39;49;00m\u001b[04m\u001b[36m.\u001b[39;49;00m\u001b[04m\u001b[36mnn\u001b[39;49;00m \u001b[34mas\u001b[39;49;00m \u001b[04m\u001b[36mnn\u001b[39;49;00m\r\n",
      "\r\n",
      "\u001b[34mclass\u001b[39;49;00m \u001b[04m\u001b[32mLSTMClassifier\u001b[39;49;00m(nn.Module):\r\n",
      "    \u001b[33m\"\"\"\u001b[39;49;00m\r\n",
      "\u001b[33m    This is the simple RNN model we will be using to perform Sentiment Analysis.\u001b[39;49;00m\r\n",
      "\u001b[33m    \"\"\"\u001b[39;49;00m\r\n",
      "\r\n",
      "    \u001b[34mdef\u001b[39;49;00m \u001b[32m__init__\u001b[39;49;00m(\u001b[36mself\u001b[39;49;00m, embedding_dim, hidden_dim, vocab_size):\r\n",
      "        \u001b[33m\"\"\"\u001b[39;49;00m\r\n",
      "\u001b[33m        Initialize the model by settingg up the various layers.\u001b[39;49;00m\r\n",
      "\u001b[33m        \"\"\"\u001b[39;49;00m\r\n",
      "        \u001b[36msuper\u001b[39;49;00m(LSTMClassifier, \u001b[36mself\u001b[39;49;00m).\u001b[32m__init__\u001b[39;49;00m()\r\n",
      "\r\n",
      "        \u001b[36mself\u001b[39;49;00m.embedding = nn.Embedding(vocab_size, embedding_dim, padding_idx=\u001b[34m0\u001b[39;49;00m)\r\n",
      "        \u001b[36mself\u001b[39;49;00m.lstm = nn.LSTM(embedding_dim, hidden_dim)\r\n",
      "        \u001b[36mself\u001b[39;49;00m.dense = nn.Linear(in_features=hidden_dim, out_features=\u001b[34m1\u001b[39;49;00m)\r\n",
      "        \u001b[36mself\u001b[39;49;00m.sig = nn.Sigmoid()\r\n",
      "        \r\n",
      "        \u001b[36mself\u001b[39;49;00m.word_dict = \u001b[34mNone\u001b[39;49;00m\r\n",
      "\r\n",
      "    \u001b[34mdef\u001b[39;49;00m \u001b[32mforward\u001b[39;49;00m(\u001b[36mself\u001b[39;49;00m, x):\r\n",
      "        \u001b[33m\"\"\"\u001b[39;49;00m\r\n",
      "\u001b[33m        Perform a forward pass of our model on some input.\u001b[39;49;00m\r\n",
      "\u001b[33m        \"\"\"\u001b[39;49;00m\r\n",
      "        x = x.t()\r\n",
      "        lengths = x[\u001b[34m0\u001b[39;49;00m,:]\r\n",
      "        reviews = x[\u001b[34m1\u001b[39;49;00m:,:]\r\n",
      "        embeds = \u001b[36mself\u001b[39;49;00m.embedding(reviews)\r\n",
      "        lstm_out, _ = \u001b[36mself\u001b[39;49;00m.lstm(embeds)\r\n",
      "        out = \u001b[36mself\u001b[39;49;00m.dense(lstm_out)\r\n",
      "        out = out[lengths - \u001b[34m1\u001b[39;49;00m, \u001b[36mrange\u001b[39;49;00m(\u001b[36mlen\u001b[39;49;00m(lengths))]\r\n",
      "        \u001b[34mreturn\u001b[39;49;00m \u001b[36mself\u001b[39;49;00m.sig(out.squeeze())\r\n"
     ]
    }
   ],
   "source": [
    "!pygmentize train/model.py"
   ]
  },
  {
   "cell_type": "markdown",
   "metadata": {},
   "source": [
    "The important takeaway from the implementation provided is that there are three parameters that we may wish to tweak to improve the performance of our model. These are the embedding dimension, the hidden dimension and the size of the vocabulary. We will likely want to make these parameters configurable in the training script so that if we wish to modify them we do not need to modify the script itself. We will see how to do this later on. To start we will write some of the training code in the notebook so that we can more easily diagnose any issues that arise.\n",
    "\n",
    "First we will load a small portion of the training data set to use as a sample. It would be very time consuming to try and train the model completely in the notebook as we do not have access to a gpu and the compute instance that we are using is not particularly powerful. However, we can work on a small bit of the data to get a feel for how our training script is behaving."
   ]
  },
  {
   "cell_type": "code",
   "execution_count": 25,
   "metadata": {},
   "outputs": [],
   "source": [
    "import torch\n",
    "import torch.utils.data\n",
    "\n",
    "# Read in only the first 250 rows\n",
    "train_sample = pd.read_csv(os.path.join(data_dir, 'train.csv'), header=None, names=None, nrows=250)\n",
    "\n",
    "# Turn the input pandas dataframe into tensors\n",
    "train_sample_y = torch.from_numpy(train_sample[[0]].values).float().squeeze()\n",
    "train_sample_X = torch.from_numpy(train_sample.drop([0], axis=1).values).long()\n",
    "\n",
    "# Build the dataset\n",
    "train_sample_ds = torch.utils.data.TensorDataset(train_sample_X, train_sample_y)\n",
    "# Build the dataloader\n",
    "train_sample_dl = torch.utils.data.DataLoader(train_sample_ds, batch_size=50)"
   ]
  },
  {
   "cell_type": "markdown",
   "metadata": {},
   "source": [
    "### (TODO) Writing the training method\n",
    "\n",
    "Next we need to write the training code itself. This should be very similar to training methods that you have written before to train PyTorch models. We will leave any difficult aspects such as model saving / loading and parameter loading until a little later."
   ]
  },
  {
   "cell_type": "code",
   "execution_count": 26,
   "metadata": {},
   "outputs": [],
   "source": [
    "def train(model, train_loader, epochs, optimizer, loss_fn, device):\n",
    "    for epoch in range(1, epochs + 1):\n",
    "        model.train()\n",
    "        total_loss = 0\n",
    "        for batch in train_loader:         \n",
    "            batch_X, batch_y = batch\n",
    "            \n",
    "            batch_X = batch_X.to(device)\n",
    "            batch_y = batch_y.to(device)\n",
    "            \n",
    "            # TODO: Complete this train method to train the model provided.\n",
    "            optimizer.zero_grad()\n",
    "            out = model.forward(batch_X)\n",
    "            loss = loss_fn(out, batch_y)\n",
    "            loss.backward()\n",
    "            optimizer.step()\n",
    "            \n",
    "            total_loss += loss.data.item()\n",
    "        print(\"Epoch: {}, BCELoss: {}\".format(epoch, total_loss / len(train_loader)))"
   ]
  },
  {
   "cell_type": "markdown",
   "metadata": {},
   "source": [
    "Supposing we have the training method above, we will test that it is working by writing a bit of code in the notebook that executes our training method on the small sample training set that we loaded earlier. The reason for doing this in the notebook is so that we have an opportunity to fix any errors that arise early when they are easier to diagnose."
   ]
  },
  {
   "cell_type": "code",
   "execution_count": 27,
   "metadata": {},
   "outputs": [
    {
     "name": "stdout",
     "output_type": "stream",
     "text": [
      "Epoch: 1, BCELoss: 0.696512770652771\n",
      "Epoch: 2, BCELoss: 0.6874871253967285\n",
      "Epoch: 3, BCELoss: 0.6807518601417542\n",
      "Epoch: 4, BCELoss: 0.6735556364059448\n",
      "Epoch: 5, BCELoss: 0.6649706125259399\n"
     ]
    }
   ],
   "source": [
    "import torch.optim as optim\n",
    "from train.model import LSTMClassifier\n",
    "\n",
    "device = torch.device(\"cuda\" if torch.cuda.is_available() else \"cpu\")\n",
    "model = LSTMClassifier(32, 100, 5000).to(device)\n",
    "optimizer = optim.Adam(model.parameters())\n",
    "loss_fn = torch.nn.BCELoss()\n",
    "\n",
    "train(model, train_sample_dl, 5, optimizer, loss_fn, device)"
   ]
  },
  {
   "cell_type": "markdown",
   "metadata": {},
   "source": [
    "In order to construct a PyTorch model using SageMaker we must provide SageMaker with a training script. We may optionally include a directory which will be copied to the container and from which our training code will be run. When the training container is executed it will check the uploaded directory (if there is one) for a `requirements.txt` file and install any required Python libraries, after which the training script will be run."
   ]
  },
  {
   "cell_type": "markdown",
   "metadata": {},
   "source": [
    "### (TODO) Training the model\n",
    "\n",
    "When a PyTorch model is constructed in SageMaker, an entry point must be specified. This is the Python file which will be executed when the model is trained. Inside of the `train` directory is a file called `train.py` which has been provided and which contains most of the necessary code to train our model. The only thing that is missing is the implementation of the `train()` method which you wrote earlier in this notebook.\n",
    "\n",
    "**TODO**: Copy the `train()` method written above and paste it into the `train/train.py` file where required.\n",
    "\n",
    "The way that SageMaker passes hyperparameters to the training script is by way of arguments. These arguments can then be parsed and used in the training script. To see how this is done take a look at the provided `train/train.py` file."
   ]
  },
  {
   "cell_type": "code",
   "execution_count": 28,
   "metadata": {},
   "outputs": [],
   "source": [
    "from sagemaker.pytorch import PyTorch\n",
    "\n",
    "estimator = PyTorch(entry_point=\"train.py\",\n",
    "                    source_dir=\"train\",\n",
    "                    role=role,\n",
    "                    framework_version='0.4.0',\n",
    "                    train_instance_count=1,\n",
    "                    train_instance_type='ml.p2.xlarge',\n",
    "                    hyperparameters={\n",
    "                        'epochs': 10,\n",
    "                        'hidden_dim': 200,\n",
    "                    })"
   ]
  },
  {
   "cell_type": "code",
   "execution_count": 29,
   "metadata": {},
   "outputs": [
    {
     "name": "stderr",
     "output_type": "stream",
     "text": [
      "'create_image_uri' will be deprecated in favor of 'ImageURIProvider' class in SageMaker Python SDK v2.\n",
      "'s3_input' class will be renamed to 'TrainingInput' in SageMaker Python SDK v2.\n",
      "'create_image_uri' will be deprecated in favor of 'ImageURIProvider' class in SageMaker Python SDK v2.\n"
     ]
    },
    {
     "name": "stdout",
     "output_type": "stream",
     "text": [
      "2020-09-12 22:45:22 Starting - Starting the training job...\n",
      "2020-09-12 22:45:24 Starting - Launching requested ML instances......\n",
      "2020-09-12 22:46:29 Starting - Preparing the instances for training.........\n",
      "2020-09-12 22:47:56 Downloading - Downloading input data...\n",
      "2020-09-12 22:48:32 Training - Downloading the training image..\u001b[34mbash: cannot set terminal process group (-1): Inappropriate ioctl for device\u001b[0m\n",
      "\u001b[34mbash: no job control in this shell\u001b[0m\n",
      "\u001b[34m2020-09-12 22:49:03,924 sagemaker-containers INFO     Imported framework sagemaker_pytorch_container.training\u001b[0m\n",
      "\u001b[34m2020-09-12 22:49:03,950 sagemaker_pytorch_container.training INFO     Block until all host DNS lookups succeed.\u001b[0m\n",
      "\u001b[34m2020-09-12 22:49:04,564 sagemaker_pytorch_container.training INFO     Invoking user training script.\u001b[0m\n",
      "\u001b[34m2020-09-12 22:49:04,765 sagemaker-containers INFO     Module train does not provide a setup.py. \u001b[0m\n",
      "\u001b[34mGenerating setup.py\u001b[0m\n",
      "\u001b[34m2020-09-12 22:49:04,766 sagemaker-containers INFO     Generating setup.cfg\u001b[0m\n",
      "\u001b[34m2020-09-12 22:49:04,766 sagemaker-containers INFO     Generating MANIFEST.in\u001b[0m\n",
      "\u001b[34m2020-09-12 22:49:04,766 sagemaker-containers INFO     Installing module with the following command:\u001b[0m\n",
      "\u001b[34m/usr/bin/python -m pip install -U . -r requirements.txt\u001b[0m\n",
      "\u001b[34mProcessing /opt/ml/code\u001b[0m\n",
      "\u001b[34mCollecting pandas (from -r requirements.txt (line 1))\n",
      "  Downloading https://files.pythonhosted.org/packages/74/24/0cdbf8907e1e3bc5a8da03345c23cbed7044330bb8f73bb12e711a640a00/pandas-0.24.2-cp35-cp35m-manylinux1_x86_64.whl (10.0MB)\u001b[0m\n",
      "\u001b[34mCollecting numpy (from -r requirements.txt (line 2))\u001b[0m\n",
      "\u001b[34m  Downloading https://files.pythonhosted.org/packages/b5/36/88723426b4ff576809fec7d73594fe17a35c27f8d01f93637637a29ae25b/numpy-1.18.5-cp35-cp35m-manylinux1_x86_64.whl (19.9MB)\u001b[0m\n",
      "\u001b[34mCollecting nltk (from -r requirements.txt (line 3))\n",
      "  Downloading https://files.pythonhosted.org/packages/92/75/ce35194d8e3022203cca0d2f896dbb88689f9b3fce8e9f9cff942913519d/nltk-3.5.zip (1.4MB)\u001b[0m\n",
      "\u001b[34mCollecting beautifulsoup4 (from -r requirements.txt (line 4))\n",
      "  Downloading https://files.pythonhosted.org/packages/66/25/ff030e2437265616a1e9b25ccc864e0371a0bc3adb7c5a404fd661c6f4f6/beautifulsoup4-4.9.1-py3-none-any.whl (115kB)\u001b[0m\n",
      "\u001b[34mCollecting html5lib (from -r requirements.txt (line 5))\n",
      "  Downloading https://files.pythonhosted.org/packages/6c/dd/a834df6482147d48e225a49515aabc28974ad5a4ca3215c18a882565b028/html5lib-1.1-py2.py3-none-any.whl (112kB)\u001b[0m\n",
      "\u001b[34mRequirement already satisfied, skipping upgrade: python-dateutil>=2.5.0 in /usr/local/lib/python3.5/dist-packages (from pandas->-r requirements.txt (line 1)) (2.7.5)\u001b[0m\n",
      "\u001b[34mCollecting pytz>=2011k (from pandas->-r requirements.txt (line 1))\u001b[0m\n",
      "\n",
      "2020-09-12 22:49:03 Training - Training image download completed. Training in progress.\u001b[34m  Downloading https://files.pythonhosted.org/packages/4f/a4/879454d49688e2fad93e59d7d4efda580b783c745fd2ec2a3adf87b0808d/pytz-2020.1-py2.py3-none-any.whl (510kB)\u001b[0m\n",
      "\u001b[34mRequirement already satisfied, skipping upgrade: click in /usr/local/lib/python3.5/dist-packages (from nltk->-r requirements.txt (line 3)) (7.0)\u001b[0m\n",
      "\u001b[34mCollecting joblib (from nltk->-r requirements.txt (line 3))\n",
      "  Downloading https://files.pythonhosted.org/packages/28/5c/cf6a2b65a321c4a209efcdf64c2689efae2cb62661f8f6f4bb28547cf1bf/joblib-0.14.1-py2.py3-none-any.whl (294kB)\u001b[0m\n",
      "\u001b[34mCollecting regex (from nltk->-r requirements.txt (line 3))\n",
      "  Downloading https://files.pythonhosted.org/packages/09/c3/ddaa87500f31ed86290e3d014c0302a51fde28d7139eda0b5f33733726db/regex-2020.7.14.tar.gz (690kB)\u001b[0m\n",
      "\u001b[34mCollecting tqdm (from nltk->-r requirements.txt (line 3))\n",
      "  Downloading https://files.pythonhosted.org/packages/28/7e/281edb5bc3274dfb894d90f4dbacfceaca381c2435ec6187a2c6f329aed7/tqdm-4.48.2-py2.py3-none-any.whl (68kB)\u001b[0m\n",
      "\u001b[34mCollecting soupsieve>1.2 (from beautifulsoup4->-r requirements.txt (line 4))\n",
      "  Downloading https://files.pythonhosted.org/packages/6f/8f/457f4a5390eeae1cc3aeab89deb7724c965be841ffca6cfca9197482e470/soupsieve-2.0.1-py3-none-any.whl\u001b[0m\n",
      "\u001b[34mCollecting webencodings (from html5lib->-r requirements.txt (line 5))\n",
      "  Downloading https://files.pythonhosted.org/packages/f4/24/2a3e3df732393fed8b3ebf2ec078f05546de641fe1b667ee316ec1dcf3b7/webencodings-0.5.1-py2.py3-none-any.whl\u001b[0m\n",
      "\u001b[34mRequirement already satisfied, skipping upgrade: six>=1.9 in /usr/local/lib/python3.5/dist-packages (from html5lib->-r requirements.txt (line 5)) (1.11.0)\u001b[0m\n",
      "\u001b[34mBuilding wheels for collected packages: nltk, train, regex\n",
      "  Running setup.py bdist_wheel for nltk: started\u001b[0m\n",
      "\u001b[34m  Running setup.py bdist_wheel for nltk: finished with status 'done'\n",
      "  Stored in directory: /root/.cache/pip/wheels/ae/8c/3f/b1fe0ba04555b08b57ab52ab7f86023639a526d8bc8d384306\n",
      "  Running setup.py bdist_wheel for train: started\n",
      "  Running setup.py bdist_wheel for train: finished with status 'done'\n",
      "  Stored in directory: /tmp/pip-ephem-wheel-cache-65idzbll/wheels/35/24/16/37574d11bf9bde50616c67372a334f94fa8356bc7164af8ca3\n",
      "  Running setup.py bdist_wheel for regex: started\u001b[0m\n",
      "\u001b[34m  Running setup.py bdist_wheel for regex: finished with status 'done'\n",
      "  Stored in directory: /root/.cache/pip/wheels/53/55/dc/e17fa4568958f4c53be34b65e474a1327b64641f65df379ec3\u001b[0m\n",
      "\u001b[34mSuccessfully built nltk train regex\u001b[0m\n",
      "\u001b[34mInstalling collected packages: pytz, numpy, pandas, joblib, regex, tqdm, nltk, soupsieve, beautifulsoup4, webencodings, html5lib, train\u001b[0m\n",
      "\u001b[34m  Found existing installation: numpy 1.15.4\n",
      "    Uninstalling numpy-1.15.4:\n",
      "      Successfully uninstalled numpy-1.15.4\u001b[0m\n",
      "\u001b[34mSuccessfully installed beautifulsoup4-4.9.1 html5lib-1.1 joblib-0.14.1 nltk-3.5 numpy-1.18.5 pandas-0.24.2 pytz-2020.1 regex-2020.7.14 soupsieve-2.0.1 tqdm-4.48.2 train-1.0.0 webencodings-0.5.1\u001b[0m\n",
      "\u001b[34mYou are using pip version 18.1, however version 20.2.3 is available.\u001b[0m\n",
      "\u001b[34mYou should consider upgrading via the 'pip install --upgrade pip' command.\u001b[0m\n",
      "\u001b[34m2020-09-12 22:49:26,586 sagemaker-containers INFO     Invoking user script\n",
      "\u001b[0m\n",
      "\u001b[34mTraining Env:\n",
      "\u001b[0m\n",
      "\u001b[34m{\n",
      "    \"current_host\": \"algo-1\",\n",
      "    \"hosts\": [\n",
      "        \"algo-1\"\n",
      "    ],\n",
      "    \"num_cpus\": 4,\n",
      "    \"output_data_dir\": \"/opt/ml/output/data\",\n",
      "    \"module_name\": \"train\",\n",
      "    \"input_dir\": \"/opt/ml/input\",\n",
      "    \"output_dir\": \"/opt/ml/output\",\n",
      "    \"input_data_config\": {\n",
      "        \"training\": {\n",
      "            \"TrainingInputMode\": \"File\",\n",
      "            \"S3DistributionType\": \"FullyReplicated\",\n",
      "            \"RecordWrapperType\": \"None\"\n",
      "        }\n",
      "    },\n",
      "    \"num_gpus\": 1,\n",
      "    \"additional_framework_parameters\": {},\n",
      "    \"log_level\": 20,\n",
      "    \"framework_module\": \"sagemaker_pytorch_container.training:main\",\n",
      "    \"job_name\": \"sagemaker-pytorch-2020-09-12-22-45-21-423\",\n",
      "    \"user_entry_point\": \"train.py\",\n",
      "    \"input_config_dir\": \"/opt/ml/input/config\",\n",
      "    \"resource_config\": {\n",
      "        \"current_host\": \"algo-1\",\n",
      "        \"hosts\": [\n",
      "            \"algo-1\"\n",
      "        ],\n",
      "        \"network_interface_name\": \"eth0\"\n",
      "    },\n",
      "    \"network_interface_name\": \"eth0\",\n",
      "    \"module_dir\": \"s3://sagemaker-ap-southeast-2-142262344077/sagemaker-pytorch-2020-09-12-22-45-21-423/source/sourcedir.tar.gz\",\n",
      "    \"channel_input_dirs\": {\n",
      "        \"training\": \"/opt/ml/input/data/training\"\n",
      "    },\n",
      "    \"output_intermediate_dir\": \"/opt/ml/output/intermediate\",\n",
      "    \"model_dir\": \"/opt/ml/model\",\n",
      "    \"hyperparameters\": {\n",
      "        \"hidden_dim\": 200,\n",
      "        \"epochs\": 10\n",
      "    }\u001b[0m\n",
      "\u001b[34m}\n",
      "\u001b[0m\n",
      "\u001b[34mEnvironment variables:\n",
      "\u001b[0m\n",
      "\u001b[34mSM_MODULE_DIR=s3://sagemaker-ap-southeast-2-142262344077/sagemaker-pytorch-2020-09-12-22-45-21-423/source/sourcedir.tar.gz\u001b[0m\n",
      "\u001b[34mSM_HPS={\"epochs\":10,\"hidden_dim\":200}\u001b[0m\n",
      "\u001b[34mSM_USER_ENTRY_POINT=train.py\u001b[0m\n",
      "\u001b[34mSM_RESOURCE_CONFIG={\"current_host\":\"algo-1\",\"hosts\":[\"algo-1\"],\"network_interface_name\":\"eth0\"}\u001b[0m\n",
      "\u001b[34mSM_INPUT_DIR=/opt/ml/input\u001b[0m\n",
      "\u001b[34mSM_OUTPUT_DIR=/opt/ml/output\u001b[0m\n",
      "\u001b[34mSM_NETWORK_INTERFACE_NAME=eth0\u001b[0m\n",
      "\u001b[34mSM_CHANNEL_TRAINING=/opt/ml/input/data/training\u001b[0m\n",
      "\u001b[34mSM_MODULE_NAME=train\u001b[0m\n",
      "\u001b[34mSM_OUTPUT_DATA_DIR=/opt/ml/output/data\u001b[0m\n",
      "\u001b[34mSM_USER_ARGS=[\"--epochs\",\"10\",\"--hidden_dim\",\"200\"]\u001b[0m\n",
      "\u001b[34mSM_NUM_GPUS=1\u001b[0m\n",
      "\u001b[34mSM_TRAINING_ENV={\"additional_framework_parameters\":{},\"channel_input_dirs\":{\"training\":\"/opt/ml/input/data/training\"},\"current_host\":\"algo-1\",\"framework_module\":\"sagemaker_pytorch_container.training:main\",\"hosts\":[\"algo-1\"],\"hyperparameters\":{\"epochs\":10,\"hidden_dim\":200},\"input_config_dir\":\"/opt/ml/input/config\",\"input_data_config\":{\"training\":{\"RecordWrapperType\":\"None\",\"S3DistributionType\":\"FullyReplicated\",\"TrainingInputMode\":\"File\"}},\"input_dir\":\"/opt/ml/input\",\"job_name\":\"sagemaker-pytorch-2020-09-12-22-45-21-423\",\"log_level\":20,\"model_dir\":\"/opt/ml/model\",\"module_dir\":\"s3://sagemaker-ap-southeast-2-142262344077/sagemaker-pytorch-2020-09-12-22-45-21-423/source/sourcedir.tar.gz\",\"module_name\":\"train\",\"network_interface_name\":\"eth0\",\"num_cpus\":4,\"num_gpus\":1,\"output_data_dir\":\"/opt/ml/output/data\",\"output_dir\":\"/opt/ml/output\",\"output_intermediate_dir\":\"/opt/ml/output/intermediate\",\"resource_config\":{\"current_host\":\"algo-1\",\"hosts\":[\"algo-1\"],\"network_interface_name\":\"eth0\"},\"user_entry_point\":\"train.py\"}\u001b[0m\n",
      "\u001b[34mSM_HP_EPOCHS=10\u001b[0m\n",
      "\u001b[34mSM_FRAMEWORK_MODULE=sagemaker_pytorch_container.training:main\u001b[0m\n",
      "\u001b[34mSM_INPUT_DATA_CONFIG={\"training\":{\"RecordWrapperType\":\"None\",\"S3DistributionType\":\"FullyReplicated\",\"TrainingInputMode\":\"File\"}}\u001b[0m\n",
      "\u001b[34mSM_FRAMEWORK_PARAMS={}\u001b[0m\n",
      "\u001b[34mSM_HP_HIDDEN_DIM=200\u001b[0m\n",
      "\u001b[34mSM_HOSTS=[\"algo-1\"]\u001b[0m\n",
      "\u001b[34mSM_MODEL_DIR=/opt/ml/model\u001b[0m\n",
      "\u001b[34mSM_OUTPUT_INTERMEDIATE_DIR=/opt/ml/output/intermediate\u001b[0m\n",
      "\u001b[34mPYTHONPATH=/usr/local/bin:/usr/lib/python35.zip:/usr/lib/python3.5:/usr/lib/python3.5/plat-x86_64-linux-gnu:/usr/lib/python3.5/lib-dynload:/usr/local/lib/python3.5/dist-packages:/usr/lib/python3/dist-packages\u001b[0m\n",
      "\u001b[34mSM_CURRENT_HOST=algo-1\u001b[0m\n",
      "\u001b[34mSM_CHANNELS=[\"training\"]\u001b[0m\n",
      "\u001b[34mSM_NUM_CPUS=4\u001b[0m\n",
      "\u001b[34mSM_INPUT_CONFIG_DIR=/opt/ml/input/config\u001b[0m\n",
      "\u001b[34mSM_LOG_LEVEL=20\n",
      "\u001b[0m\n",
      "\u001b[34mInvoking script with the following command:\n",
      "\u001b[0m\n",
      "\u001b[34m/usr/bin/python -m train --epochs 10 --hidden_dim 200\n",
      "\n",
      "\u001b[0m\n",
      "\u001b[34mUsing device cuda.\u001b[0m\n",
      "\u001b[34mGet train data loader.\u001b[0m\n",
      "\u001b[34mModel loaded with embedding_dim 32, hidden_dim 200, vocab_size 5000.\u001b[0m\n",
      "\u001b[34mEpoch: 1, BCELoss: 0.673010524438352\u001b[0m\n",
      "\u001b[34mEpoch: 2, BCELoss: 0.590062930875895\u001b[0m\n",
      "\u001b[34mEpoch: 3, BCELoss: 0.5368794950903678\u001b[0m\n",
      "\u001b[34mEpoch: 4, BCELoss: 0.5484801281471642\u001b[0m\n",
      "\u001b[34mEpoch: 5, BCELoss: 0.4304240467597027\u001b[0m\n",
      "\u001b[34mEpoch: 6, BCELoss: 0.38246458951307805\u001b[0m\n",
      "\u001b[34mEpoch: 7, BCELoss: 0.3472737031323569\u001b[0m\n",
      "\u001b[34mEpoch: 8, BCELoss: 0.33421031492097036\u001b[0m\n",
      "\u001b[34mEpoch: 9, BCELoss: 0.3271820453964934\u001b[0m\n",
      "\u001b[34mEpoch: 10, BCELoss: 0.34344911757780583\u001b[0m\n",
      "\u001b[34m2020-09-12 22:52:28,524 sagemaker-containers INFO     Reporting training SUCCESS\u001b[0m\n",
      "\n",
      "2020-09-12 22:52:38 Uploading - Uploading generated training model\n",
      "2020-09-12 22:52:38 Completed - Training job completed\n",
      "Training seconds: 282\n",
      "Billable seconds: 282\n"
     ]
    }
   ],
   "source": [
    "estimator.fit({'training': input_data})"
   ]
  },
  {
   "cell_type": "markdown",
   "metadata": {},
   "source": [
    "## Step 5: Testing the model\n",
    "\n",
    "As mentioned at the top of this notebook, we will be testing this model by first deploying it and then sending the testing data to the deployed endpoint. We will do this so that we can make sure that the deployed model is working correctly.\n",
    "\n",
    "## Step 6: Deploy the model for testing\n",
    "\n",
    "Now that we have trained our model, we would like to test it to see how it performs. Currently our model takes input of the form `review_length, review[500]` where `review[500]` is a sequence of `500` integers which describe the words present in the review, encoded using `word_dict`. Fortunately for us, SageMaker provides built-in inference code for models with simple inputs such as this.\n",
    "\n",
    "There is one thing that we need to provide, however, and that is a function which loads the saved model. This function must be called `model_fn()` and takes as its only parameter a path to the directory where the model artifacts are stored. This function must also be present in the python file which we specified as the entry point. In our case the model loading function has been provided and so no changes need to be made.\n",
    "\n",
    "**NOTE**: When the built-in inference code is run it must import the `model_fn()` method from the `train.py` file. This is why the training code is wrapped in a main guard ( ie, `if __name__ == '__main__':` )\n",
    "\n",
    "Since we don't need to change anything in the code that was uploaded during training, we can simply deploy the current model as-is.\n",
    "\n",
    "**NOTE:** When deploying a model you are asking SageMaker to launch an compute instance that will wait for data to be sent to it. As a result, this compute instance will continue to run until *you* shut it down. This is important to know since the cost of a deployed endpoint depends on how long it has been running for.\n",
    "\n",
    "In other words **If you are no longer using a deployed endpoint, shut it down!**\n",
    "\n",
    "**TODO:** Deploy the trained model."
   ]
  },
  {
   "cell_type": "code",
   "execution_count": 30,
   "metadata": {},
   "outputs": [
    {
     "name": "stderr",
     "output_type": "stream",
     "text": [
      "Parameter image will be renamed to image_uri in SageMaker Python SDK v2.\n",
      "'create_image_uri' will be deprecated in favor of 'ImageURIProvider' class in SageMaker Python SDK v2.\n"
     ]
    },
    {
     "name": "stdout",
     "output_type": "stream",
     "text": [
      "---------------!"
     ]
    }
   ],
   "source": [
    "# TODO: Deploy the trained model\n",
    "predictor = estimator.deploy(initial_instance_count = 1, instance_type = 'ml.m4.xlarge')"
   ]
  },
  {
   "cell_type": "markdown",
   "metadata": {},
   "source": [
    "## Step 7 - Use the model for testing\n",
    "\n",
    "Once deployed, we can read in the test data and send it off to our deployed model to get some results. Once we collect all of the results we can determine how accurate our model is."
   ]
  },
  {
   "cell_type": "code",
   "execution_count": 31,
   "metadata": {},
   "outputs": [],
   "source": [
    "test_X = pd.concat([pd.DataFrame(test_X_len), pd.DataFrame(test_X)], axis=1)"
   ]
  },
  {
   "cell_type": "code",
   "execution_count": 32,
   "metadata": {},
   "outputs": [],
   "source": [
    "# We split the data into chunks and send each chunk seperately, accumulating the results.\n",
    "\n",
    "def predict(data, rows=512):\n",
    "    split_array = np.array_split(data, int(data.shape[0] / float(rows) + 1))\n",
    "    predictions = np.array([])\n",
    "    for array in split_array:\n",
    "        predictions = np.append(predictions, predictor.predict(array))\n",
    "    \n",
    "    return predictions"
   ]
  },
  {
   "cell_type": "code",
   "execution_count": 33,
   "metadata": {},
   "outputs": [],
   "source": [
    "predictions = predict(test_X.values)\n",
    "predictions = [round(num) for num in predictions]"
   ]
  },
  {
   "cell_type": "code",
   "execution_count": 38,
   "metadata": {},
   "outputs": [
    {
     "data": {
      "text/plain": [
       "0.8502"
      ]
     },
     "execution_count": 38,
     "metadata": {},
     "output_type": "execute_result"
    }
   ],
   "source": [
    "from sklearn.metrics import accuracy_score\n",
    "accuracy_score(test_y, predictions)"
   ]
  },
  {
   "cell_type": "markdown",
   "metadata": {},
   "source": [
    "**Question:** How does this model compare to the XGBoost model you created earlier? Why might these two models perform differently on this dataset? Which do *you* think is better for sentiment analysis?"
   ]
  },
  {
   "cell_type": "markdown",
   "metadata": {},
   "source": [
    "**Answer:**\n",
    "This model is comparable to the XGBoost model. These two models perform differently on this dataset due to different model architecture and hyperparameters used. I think the XGBoost model is better than this model because the XGBoost model achieved 86% accuracy while this model only reached 85% accuracy. However, this model can be improved by testing different hyperparameters and training for more epochs. Over-all, I am still satisfied with the model's current performance."
   ]
  },
  {
   "cell_type": "markdown",
   "metadata": {},
   "source": [
    "### (TODO) More testing\n",
    "\n",
    "We now have a trained model which has been deployed and which we can send processed reviews to and which returns the predicted sentiment. However, ultimately we would like to be able to send our model an unprocessed review. That is, we would like to send the review itself as a string. For example, suppose we wish to send the following review to our model."
   ]
  },
  {
   "cell_type": "code",
   "execution_count": 35,
   "metadata": {},
   "outputs": [],
   "source": [
    "test_review = 'The simplest pleasures in life are the best, and this film is one of them. Combining a rather basic storyline of love and adventure this movie transcends the usual weekend fair with wit and unmitigated charm.'"
   ]
  },
  {
   "cell_type": "markdown",
   "metadata": {},
   "source": [
    "The question we now need to answer is, how do we send this review to our model?\n",
    "\n",
    "Recall in the first section of this notebook we did a bunch of data processing to the IMDb dataset. In particular, we did two specific things to the provided reviews.\n",
    " - Removed any html tags and stemmed the input\n",
    " - Encoded the review as a sequence of integers using `word_dict`\n",
    " \n",
    "In order process the review we will need to repeat these two steps.\n",
    "\n",
    "**TODO**: Using the `review_to_words` and `convert_and_pad` methods from section one, convert `test_review` into a numpy array `test_data` suitable to send to our model. Remember that our model expects input of the form `review_length, review[500]`."
   ]
  },
  {
   "cell_type": "code",
   "execution_count": 36,
   "metadata": {},
   "outputs": [],
   "source": [
    "# TODO: Convert test_review into a form usable by the model and save the results in test_data\n",
    "test_data = review_to_words(test_review)\n",
    "test_data = [np.array(convert_and_pad(word_dict, test_data)[0])]"
   ]
  },
  {
   "cell_type": "markdown",
   "metadata": {},
   "source": [
    "Now that we have processed the review, we can send the resulting array to our model to predict the sentiment of the review."
   ]
  },
  {
   "cell_type": "code",
   "execution_count": 37,
   "metadata": {},
   "outputs": [
    {
     "data": {
      "text/plain": [
       "array(0.64357615, dtype=float32)"
      ]
     },
     "execution_count": 37,
     "metadata": {},
     "output_type": "execute_result"
    }
   ],
   "source": [
    "predictor.predict(test_data)"
   ]
  },
  {
   "cell_type": "markdown",
   "metadata": {},
   "source": [
    "Since the return value of our model is close to `1`, we can be certain that the review we submitted is positive."
   ]
  },
  {
   "cell_type": "markdown",
   "metadata": {},
   "source": [
    "### Delete the endpoint\n",
    "\n",
    "Of course, just like in the XGBoost notebook, once we've deployed an endpoint it continues to run until we tell it to shut down. Since we are done using our endpoint for now, we can delete it."
   ]
  },
  {
   "cell_type": "code",
   "execution_count": 38,
   "metadata": {},
   "outputs": [
    {
     "name": "stderr",
     "output_type": "stream",
     "text": [
      "estimator.delete_endpoint() will be deprecated in SageMaker Python SDK v2. Please use the delete_endpoint() function on your predictor instead.\n"
     ]
    }
   ],
   "source": [
    "estimator.delete_endpoint()"
   ]
  },
  {
   "cell_type": "markdown",
   "metadata": {},
   "source": [
    "## Step 6 (again) - Deploy the model for the web app\n",
    "\n",
    "Now that we know that our model is working, it's time to create some custom inference code so that we can send the model a review which has not been processed and have it determine the sentiment of the review.\n",
    "\n",
    "As we saw above, by default the estimator which we created, when deployed, will use the entry script and directory which we provided when creating the model. However, since we now wish to accept a string as input and our model expects a processed review, we need to write some custom inference code.\n",
    "\n",
    "We will store the code that we write in the `serve` directory. Provided in this directory is the `model.py` file that we used to construct our model, a `utils.py` file which contains the `review_to_words` and `convert_and_pad` pre-processing functions which we used during the initial data processing, and `predict.py`, the file which will contain our custom inference code. Note also that `requirements.txt` is present which will tell SageMaker what Python libraries are required by our custom inference code.\n",
    "\n",
    "When deploying a PyTorch model in SageMaker, you are expected to provide four functions which the SageMaker inference container will use.\n",
    " - `model_fn`: This function is the same function that we used in the training script and it tells SageMaker how to load our model.\n",
    " - `input_fn`: This function receives the raw serialized input that has been sent to the model's endpoint and its job is to de-serialize and make the input available for the inference code.\n",
    " - `output_fn`: This function takes the output of the inference code and its job is to serialize this output and return it to the caller of the model's endpoint.\n",
    " - `predict_fn`: The heart of the inference script, this is where the actual prediction is done and is the function which you will need to complete.\n",
    "\n",
    "For the simple website that we are constructing during this project, the `input_fn` and `output_fn` methods are relatively straightforward. We only require being able to accept a string as input and we expect to return a single value as output. You might imagine though that in a more complex application the input or output may be image data or some other binary data which would require some effort to serialize.\n",
    "\n",
    "### (TODO) Writing inference code\n",
    "\n",
    "Before writing our custom inference code, we will begin by taking a look at the code which has been provided."
   ]
  },
  {
   "cell_type": "code",
   "execution_count": 48,
   "metadata": {},
   "outputs": [
    {
     "name": "stdout",
     "output_type": "stream",
     "text": [
      "\u001b[34mimport\u001b[39;49;00m \u001b[04m\u001b[36margparse\u001b[39;49;00m\r\n",
      "\u001b[34mimport\u001b[39;49;00m \u001b[04m\u001b[36mjson\u001b[39;49;00m\r\n",
      "\u001b[34mimport\u001b[39;49;00m \u001b[04m\u001b[36mos\u001b[39;49;00m\r\n",
      "\u001b[34mimport\u001b[39;49;00m \u001b[04m\u001b[36mpickle\u001b[39;49;00m\r\n",
      "\u001b[34mimport\u001b[39;49;00m \u001b[04m\u001b[36msys\u001b[39;49;00m\r\n",
      "\u001b[34mimport\u001b[39;49;00m \u001b[04m\u001b[36msagemaker_containers\u001b[39;49;00m\r\n",
      "\u001b[34mimport\u001b[39;49;00m \u001b[04m\u001b[36mpandas\u001b[39;49;00m \u001b[34mas\u001b[39;49;00m \u001b[04m\u001b[36mpd\u001b[39;49;00m\r\n",
      "\u001b[34mimport\u001b[39;49;00m \u001b[04m\u001b[36mnumpy\u001b[39;49;00m \u001b[34mas\u001b[39;49;00m \u001b[04m\u001b[36mnp\u001b[39;49;00m\r\n",
      "\u001b[34mimport\u001b[39;49;00m \u001b[04m\u001b[36mtorch\u001b[39;49;00m\r\n",
      "\u001b[34mimport\u001b[39;49;00m \u001b[04m\u001b[36mtorch\u001b[39;49;00m\u001b[04m\u001b[36m.\u001b[39;49;00m\u001b[04m\u001b[36mnn\u001b[39;49;00m \u001b[34mas\u001b[39;49;00m \u001b[04m\u001b[36mnn\u001b[39;49;00m\r\n",
      "\u001b[34mimport\u001b[39;49;00m \u001b[04m\u001b[36mtorch\u001b[39;49;00m\u001b[04m\u001b[36m.\u001b[39;49;00m\u001b[04m\u001b[36moptim\u001b[39;49;00m \u001b[34mas\u001b[39;49;00m \u001b[04m\u001b[36moptim\u001b[39;49;00m\r\n",
      "\u001b[34mimport\u001b[39;49;00m \u001b[04m\u001b[36mtorch\u001b[39;49;00m\u001b[04m\u001b[36m.\u001b[39;49;00m\u001b[04m\u001b[36mutils\u001b[39;49;00m\u001b[04m\u001b[36m.\u001b[39;49;00m\u001b[04m\u001b[36mdata\u001b[39;49;00m\r\n",
      "\r\n",
      "\u001b[34mfrom\u001b[39;49;00m \u001b[04m\u001b[36mmodel\u001b[39;49;00m \u001b[34mimport\u001b[39;49;00m LSTMClassifier\r\n",
      "\r\n",
      "\u001b[34mfrom\u001b[39;49;00m \u001b[04m\u001b[36mutils\u001b[39;49;00m \u001b[34mimport\u001b[39;49;00m review_to_words, convert_and_pad\r\n",
      "\r\n",
      "\u001b[34mdef\u001b[39;49;00m \u001b[32mmodel_fn\u001b[39;49;00m(model_dir):\r\n",
      "    \u001b[33m\"\"\"Load the PyTorch model from the `model_dir` directory.\"\"\"\u001b[39;49;00m\r\n",
      "    \u001b[36mprint\u001b[39;49;00m(\u001b[33m\"\u001b[39;49;00m\u001b[33mLoading model.\u001b[39;49;00m\u001b[33m\"\u001b[39;49;00m)\r\n",
      "\r\n",
      "    \u001b[37m# First, load the parameters used to create the model.\u001b[39;49;00m\r\n",
      "    model_info = {}\r\n",
      "    model_info_path = os.path.join(model_dir, \u001b[33m'\u001b[39;49;00m\u001b[33mmodel_info.pth\u001b[39;49;00m\u001b[33m'\u001b[39;49;00m)\r\n",
      "    \u001b[34mwith\u001b[39;49;00m \u001b[36mopen\u001b[39;49;00m(model_info_path, \u001b[33m'\u001b[39;49;00m\u001b[33mrb\u001b[39;49;00m\u001b[33m'\u001b[39;49;00m) \u001b[34mas\u001b[39;49;00m f:\r\n",
      "        model_info = torch.load(f)\r\n",
      "\r\n",
      "    \u001b[36mprint\u001b[39;49;00m(\u001b[33m\"\u001b[39;49;00m\u001b[33mmodel_info: \u001b[39;49;00m\u001b[33m{}\u001b[39;49;00m\u001b[33m\"\u001b[39;49;00m.format(model_info))\r\n",
      "\r\n",
      "    \u001b[37m# Determine the device and construct the model.\u001b[39;49;00m\r\n",
      "    device = torch.device(\u001b[33m\"\u001b[39;49;00m\u001b[33mcuda\u001b[39;49;00m\u001b[33m\"\u001b[39;49;00m \u001b[34mif\u001b[39;49;00m torch.cuda.is_available() \u001b[34melse\u001b[39;49;00m \u001b[33m\"\u001b[39;49;00m\u001b[33mcpu\u001b[39;49;00m\u001b[33m\"\u001b[39;49;00m)\r\n",
      "    model = LSTMClassifier(model_info[\u001b[33m'\u001b[39;49;00m\u001b[33membedding_dim\u001b[39;49;00m\u001b[33m'\u001b[39;49;00m], model_info[\u001b[33m'\u001b[39;49;00m\u001b[33mhidden_dim\u001b[39;49;00m\u001b[33m'\u001b[39;49;00m], model_info[\u001b[33m'\u001b[39;49;00m\u001b[33mvocab_size\u001b[39;49;00m\u001b[33m'\u001b[39;49;00m])\r\n",
      "\r\n",
      "    \u001b[37m# Load the store model parameters.\u001b[39;49;00m\r\n",
      "    model_path = os.path.join(model_dir, \u001b[33m'\u001b[39;49;00m\u001b[33mmodel.pth\u001b[39;49;00m\u001b[33m'\u001b[39;49;00m)\r\n",
      "    \u001b[34mwith\u001b[39;49;00m \u001b[36mopen\u001b[39;49;00m(model_path, \u001b[33m'\u001b[39;49;00m\u001b[33mrb\u001b[39;49;00m\u001b[33m'\u001b[39;49;00m) \u001b[34mas\u001b[39;49;00m f:\r\n",
      "        model.load_state_dict(torch.load(f))\r\n",
      "\r\n",
      "    \u001b[37m# Load the saved word_dict.\u001b[39;49;00m\r\n",
      "    word_dict_path = os.path.join(model_dir, \u001b[33m'\u001b[39;49;00m\u001b[33mword_dict.pkl\u001b[39;49;00m\u001b[33m'\u001b[39;49;00m)\r\n",
      "    \u001b[34mwith\u001b[39;49;00m \u001b[36mopen\u001b[39;49;00m(word_dict_path, \u001b[33m'\u001b[39;49;00m\u001b[33mrb\u001b[39;49;00m\u001b[33m'\u001b[39;49;00m) \u001b[34mas\u001b[39;49;00m f:\r\n",
      "        model.word_dict = pickle.load(f)\r\n",
      "\r\n",
      "    model.to(device).eval()\r\n",
      "\r\n",
      "    \u001b[36mprint\u001b[39;49;00m(\u001b[33m\"\u001b[39;49;00m\u001b[33mDone loading model.\u001b[39;49;00m\u001b[33m\"\u001b[39;49;00m)\r\n",
      "    \u001b[34mreturn\u001b[39;49;00m model\r\n",
      "\r\n",
      "\u001b[34mdef\u001b[39;49;00m \u001b[32minput_fn\u001b[39;49;00m(serialized_input_data, content_type):\r\n",
      "    \u001b[36mprint\u001b[39;49;00m(\u001b[33m'\u001b[39;49;00m\u001b[33mDeserializing the input data.\u001b[39;49;00m\u001b[33m'\u001b[39;49;00m)\r\n",
      "    \u001b[34mif\u001b[39;49;00m content_type == \u001b[33m'\u001b[39;49;00m\u001b[33mtext/plain\u001b[39;49;00m\u001b[33m'\u001b[39;49;00m:\r\n",
      "        data = serialized_input_data.decode(\u001b[33m'\u001b[39;49;00m\u001b[33mutf-8\u001b[39;49;00m\u001b[33m'\u001b[39;49;00m)\r\n",
      "        \u001b[34mreturn\u001b[39;49;00m data\r\n",
      "    \u001b[34mraise\u001b[39;49;00m \u001b[36mException\u001b[39;49;00m(\u001b[33m'\u001b[39;49;00m\u001b[33mRequested unsupported ContentType in content_type: \u001b[39;49;00m\u001b[33m'\u001b[39;49;00m + content_type)\r\n",
      "\r\n",
      "\u001b[34mdef\u001b[39;49;00m \u001b[32moutput_fn\u001b[39;49;00m(prediction_output, accept):\r\n",
      "    \u001b[36mprint\u001b[39;49;00m(\u001b[33m'\u001b[39;49;00m\u001b[33mSerializing the generated output.\u001b[39;49;00m\u001b[33m'\u001b[39;49;00m)\r\n",
      "    \u001b[34mreturn\u001b[39;49;00m \u001b[36mstr\u001b[39;49;00m(prediction_output)\r\n",
      "\r\n",
      "\u001b[34mdef\u001b[39;49;00m \u001b[32mpredict_fn\u001b[39;49;00m(input_data, model):\r\n",
      "    \u001b[36mprint\u001b[39;49;00m(\u001b[33m'\u001b[39;49;00m\u001b[33mInferring sentiment of input data.\u001b[39;49;00m\u001b[33m'\u001b[39;49;00m)\r\n",
      "\r\n",
      "    device = torch.device(\u001b[33m\"\u001b[39;49;00m\u001b[33mcuda\u001b[39;49;00m\u001b[33m\"\u001b[39;49;00m \u001b[34mif\u001b[39;49;00m torch.cuda.is_available() \u001b[34melse\u001b[39;49;00m \u001b[33m\"\u001b[39;49;00m\u001b[33mcpu\u001b[39;49;00m\u001b[33m\"\u001b[39;49;00m)\r\n",
      "    \r\n",
      "    \u001b[34mif\u001b[39;49;00m model.word_dict \u001b[35mis\u001b[39;49;00m \u001b[34mNone\u001b[39;49;00m:\r\n",
      "        \u001b[34mraise\u001b[39;49;00m \u001b[36mException\u001b[39;49;00m(\u001b[33m'\u001b[39;49;00m\u001b[33mModel has not been loaded properly, no word_dict.\u001b[39;49;00m\u001b[33m'\u001b[39;49;00m)\r\n",
      "    \r\n",
      "    \u001b[37m# TODO: Process input_data so that it is ready to be sent to our model.\u001b[39;49;00m\r\n",
      "    \u001b[37m#       You should produce two variables:\u001b[39;49;00m\r\n",
      "    \u001b[37m#         data_X   - A sequence of length 500 which represents the converted review\u001b[39;49;00m\r\n",
      "    \u001b[37m#         data_len - The length of the review\u001b[39;49;00m\r\n",
      "\r\n",
      "    data_X, data_len = convert_and_pad(model.word_dict, review_to_words(input_data))\r\n",
      "\r\n",
      "    \u001b[37m# Using data_X and data_len we construct an appropriate input tensor. Remember\u001b[39;49;00m\r\n",
      "    \u001b[37m# that our model expects input data of the form 'len, review[500]'.\u001b[39;49;00m\r\n",
      "    data_pack = np.hstack((data_len, data_X))\r\n",
      "    data_pack = data_pack.reshape(\u001b[34m1\u001b[39;49;00m, -\u001b[34m1\u001b[39;49;00m)\r\n",
      "    \r\n",
      "    data = torch.from_numpy(data_pack)\r\n",
      "    data = data.to(device)\r\n",
      "\r\n",
      "    \u001b[37m# Make sure to put the model into evaluation mode\u001b[39;49;00m\r\n",
      "    model.eval()\r\n",
      "\r\n",
      "    \u001b[37m# TODO: Compute the result of applying the model to the input data. The variable `result` should\u001b[39;49;00m\r\n",
      "    \u001b[37m#       be a numpy array which contains a single integer which is either 1 or 0\u001b[39;49;00m\r\n",
      "    \u001b[34mwith\u001b[39;49;00m torch.no_grad():\r\n",
      "        output = model.forward(data)\r\n",
      "        \r\n",
      "    result = np.round(output.numpy())\r\n",
      "\r\n",
      "    \u001b[34mreturn\u001b[39;49;00m result\r\n"
     ]
    }
   ],
   "source": [
    "!pygmentize serve/predict.py"
   ]
  },
  {
   "cell_type": "markdown",
   "metadata": {},
   "source": [
    "As mentioned earlier, the `model_fn` method is the same as the one provided in the training code and the `input_fn` and `output_fn` methods are very simple and your task will be to complete the `predict_fn` method. Make sure that you save the completed file as `predict.py` in the `serve` directory.\n",
    "\n",
    "**TODO**: Complete the `predict_fn()` method in the `serve/predict.py` file."
   ]
  },
  {
   "cell_type": "markdown",
   "metadata": {},
   "source": [
    "### Deploying the model\n",
    "\n",
    "Now that the custom inference code has been written, we will create and deploy our model. To begin with, we need to construct a new PyTorchModel object which points to the model artifacts created during training and also points to the inference code that we wish to use. Then we can call the deploy method to launch the deployment container.\n",
    "\n",
    "**NOTE**: The default behaviour for a deployed PyTorch model is to assume that any input passed to the predictor is a `numpy` array. In our case we want to send a string so we need to construct a simple wrapper around the `RealTimePredictor` class to accomodate simple strings. In a more complicated situation you may want to provide a serialization object, for example if you wanted to sent image data."
   ]
  },
  {
   "cell_type": "code",
   "execution_count": 49,
   "metadata": {},
   "outputs": [
    {
     "name": "stderr",
     "output_type": "stream",
     "text": [
      "Parameter image will be renamed to image_uri in SageMaker Python SDK v2.\n",
      "'create_image_uri' will be deprecated in favor of 'ImageURIProvider' class in SageMaker Python SDK v2.\n"
     ]
    },
    {
     "name": "stdout",
     "output_type": "stream",
     "text": [
      "---------------!"
     ]
    }
   ],
   "source": [
    "from sagemaker.predictor import RealTimePredictor\n",
    "from sagemaker.pytorch import PyTorchModel\n",
    "\n",
    "class StringPredictor(RealTimePredictor):\n",
    "    def __init__(self, endpoint_name, sagemaker_session):\n",
    "        super(StringPredictor, self).__init__(endpoint_name, sagemaker_session, content_type='text/plain')\n",
    "\n",
    "model = PyTorchModel(model_data=estimator.model_data,\n",
    "                     role = role,\n",
    "                     framework_version='0.4.0',\n",
    "                     entry_point='predict.py',\n",
    "                     source_dir='serve',\n",
    "                     predictor_cls=StringPredictor)\n",
    "predictor = model.deploy(initial_instance_count=1, instance_type='ml.m4.xlarge')"
   ]
  },
  {
   "cell_type": "markdown",
   "metadata": {},
   "source": [
    "### Testing the model\n",
    "\n",
    "Now that we have deployed our model with the custom inference code, we should test to see if everything is working. Here we test our model by loading the first `250` positive and negative reviews and send them to the endpoint, then collect the results. The reason for only sending some of the data is that the amount of time it takes for our model to process the input and then perform inference is quite long and so testing the entire data set would be prohibitive."
   ]
  },
  {
   "cell_type": "code",
   "execution_count": 52,
   "metadata": {},
   "outputs": [],
   "source": [
    "import glob\n",
    "\n",
    "def test_reviews(data_dir='../data/aclImdb', stop=250):\n",
    "    \n",
    "    results = []\n",
    "    ground = []\n",
    "    \n",
    "    # We make sure to test both positive and negative reviews    \n",
    "    for sentiment in ['pos', 'neg']:\n",
    "        \n",
    "        path = os.path.join(data_dir, 'test', sentiment, '*.txt')\n",
    "        files = glob.glob(path)\n",
    "        \n",
    "        files_read = 0\n",
    "        \n",
    "        print('Starting ', sentiment, ' files')\n",
    "        \n",
    "        # Iterate through the files and send them to the predictor\n",
    "        for f in files:\n",
    "            with open(f) as review:\n",
    "                # First, we store the ground truth (was the review positive or negative)\n",
    "                if sentiment == 'pos':\n",
    "                    ground.append(1)\n",
    "                else:\n",
    "                    ground.append(0)\n",
    "                # Read in the review and convert to 'utf-8' for transmission via HTTP\n",
    "                review_input = review.read().encode('utf-8')\n",
    "                # Send the review to the predictor and store the results\n",
    "                results.append(float(predictor.predict(review_input)))\n",
    "                \n",
    "            # Sending reviews to our endpoint one at a time takes a while so we\n",
    "            # only send a small number of reviews\n",
    "            files_read += 1\n",
    "            if files_read == stop:\n",
    "                break\n",
    "            \n",
    "    return ground, results"
   ]
  },
  {
   "cell_type": "code",
   "execution_count": 53,
   "metadata": {},
   "outputs": [
    {
     "name": "stdout",
     "output_type": "stream",
     "text": [
      "Starting  pos  files\n",
      "Starting  neg  files\n"
     ]
    }
   ],
   "source": [
    "ground, results = test_reviews()"
   ]
  },
  {
   "cell_type": "code",
   "execution_count": 54,
   "metadata": {},
   "outputs": [
    {
     "data": {
      "text/plain": [
       "0.826"
      ]
     },
     "execution_count": 54,
     "metadata": {},
     "output_type": "execute_result"
    }
   ],
   "source": [
    "from sklearn.metrics import accuracy_score\n",
    "accuracy_score(ground, results)"
   ]
  },
  {
   "cell_type": "markdown",
   "metadata": {},
   "source": [
    "As an additional test, we can try sending the `test_review` that we looked at earlier."
   ]
  },
  {
   "cell_type": "code",
   "execution_count": 55,
   "metadata": {},
   "outputs": [
    {
     "data": {
      "text/plain": [
       "b'1.0'"
      ]
     },
     "execution_count": 55,
     "metadata": {},
     "output_type": "execute_result"
    }
   ],
   "source": [
    "predictor.predict(test_review)"
   ]
  },
  {
   "cell_type": "markdown",
   "metadata": {},
   "source": [
    "Now that we know our endpoint is working as expected, we can set up the web page that will interact with it. If you don't have time to finish the project now, make sure to skip down to the end of this notebook and shut down your endpoint. You can deploy it again when you come back."
   ]
  },
  {
   "cell_type": "markdown",
   "metadata": {},
   "source": [
    "# Step 7 (again): Use the model for the web app\n",
    "\n",
    "> **TODO:** This entire section and the next contain tasks for you to complete, mostly using the AWS console.\n",
    "\n",
    "So far we have been accessing our model endpoint by constructing a predictor object which uses the endpoint and then just using the predictor object to perform inference. What if we wanted to create a web app which accessed our model? The way things are set up currently makes that not possible since in order to access a SageMaker endpoint the app would first have to authenticate with AWS using an IAM role which included access to SageMaker endpoints. However, there is an easier way! We just need to use some additional AWS services.\n",
    "\n",
    "<img src=\"Web App Diagram.svg\">\n",
    "\n",
    "The diagram above gives an overview of how the various services will work together. On the far right is the model which we trained above and which is deployed using SageMaker. On the far left is our web app that collects a user's movie review, sends it off and expects a positive or negative sentiment in return.\n",
    "\n",
    "In the middle is where some of the magic happens. We will construct a Lambda function, which you can think of as a straightforward Python function that can be executed whenever a specified event occurs. We will give this function permission to send and recieve data from a SageMaker endpoint.\n",
    "\n",
    "Lastly, the method we will use to execute the Lambda function is a new endpoint that we will create using API Gateway. This endpoint will be a url that listens for data to be sent to it. Once it gets some data it will pass that data on to the Lambda function and then return whatever the Lambda function returns. Essentially it will act as an interface that lets our web app communicate with the Lambda function.\n",
    "\n",
    "### Setting up a Lambda function\n",
    "\n",
    "The first thing we are going to do is set up a Lambda function. This Lambda function will be executed whenever our public API has data sent to it. When it is executed it will receive the data, perform any sort of processing that is required, send the data (the review) to the SageMaker endpoint we've created and then return the result.\n",
    "\n",
    "#### Part A: Create an IAM Role for the Lambda function\n",
    "\n",
    "Since we want the Lambda function to call a SageMaker endpoint, we need to make sure that it has permission to do so. To do this, we will construct a role that we can later give the Lambda function.\n",
    "\n",
    "Using the AWS Console, navigate to the **IAM** page and click on **Roles**. Then, click on **Create role**. Make sure that the **AWS service** is the type of trusted entity selected and choose **Lambda** as the service that will use this role, then click **Next: Permissions**.\n",
    "\n",
    "In the search box type `sagemaker` and select the check box next to the **AmazonSageMakerFullAccess** policy. Then, click on **Next: Review**.\n",
    "\n",
    "Lastly, give this role a name. Make sure you use a name that you will remember later on, for example `LambdaSageMakerRole`. Then, click on **Create role**.\n",
    "\n",
    "#### Part B: Create a Lambda function\n",
    "\n",
    "Now it is time to actually create the Lambda function.\n",
    "\n",
    "Using the AWS Console, navigate to the AWS Lambda page and click on **Create a function**. When you get to the next page, make sure that **Author from scratch** is selected. Now, name your Lambda function, using a name that you will remember later on, for example `sentiment_analysis_func`. Make sure that the **Python 3.6** runtime is selected and then choose the role that you created in the previous part. Then, click on **Create Function**.\n",
    "\n",
    "On the next page you will see some information about the Lambda function you've just created. If you scroll down you should see an editor in which you can write the code that will be executed when your Lambda function is triggered. In our example, we will use the code below. \n",
    "\n",
    "```python\n",
    "# We need to use the low-level library to interact with SageMaker since the SageMaker API\n",
    "# is not available natively through Lambda.\n",
    "import boto3\n",
    "\n",
    "def lambda_handler(event, context):\n",
    "\n",
    "    # The SageMaker runtime is what allows us to invoke the endpoint that we've created.\n",
    "    runtime = boto3.Session().client('sagemaker-runtime')\n",
    "\n",
    "    # Now we use the SageMaker runtime to invoke our endpoint, sending the review we were given\n",
    "    response = runtime.invoke_endpoint(EndpointName = '**ENDPOINT NAME HERE**',    # The name of the endpoint we created\n",
    "                                       ContentType = 'text/plain',                 # The data format that is expected\n",
    "                                       Body = event['body'])                       # The actual review\n",
    "\n",
    "    # The response is an HTTP response whose body contains the result of our inference\n",
    "    result = response['Body'].read().decode('utf-8')\n",
    "\n",
    "    return {\n",
    "        'statusCode' : 200,\n",
    "        'headers' : { 'Content-Type' : 'text/plain', 'Access-Control-Allow-Origin' : '*' },\n",
    "        'body' : result\n",
    "    }\n",
    "```\n",
    "\n",
    "Once you have copy and pasted the code above into the Lambda code editor, replace the `**ENDPOINT NAME HERE**` portion with the name of the endpoint that we deployed earlier. You can determine the name of the endpoint using the code cell below."
   ]
  },
  {
   "cell_type": "code",
   "execution_count": 56,
   "metadata": {},
   "outputs": [
    {
     "data": {
      "text/plain": [
       "'sagemaker-pytorch-2020-09-12-23-25-20-992'"
      ]
     },
     "execution_count": 56,
     "metadata": {},
     "output_type": "execute_result"
    }
   ],
   "source": [
    "predictor.endpoint"
   ]
  },
  {
   "cell_type": "markdown",
   "metadata": {},
   "source": [
    "Once you have added the endpoint name to the Lambda function, click on **Save**. Your Lambda function is now up and running. Next we need to create a way for our web app to execute the Lambda function.\n",
    "\n",
    "### Setting up API Gateway\n",
    "\n",
    "Now that our Lambda function is set up, it is time to create a new API using API Gateway that will trigger the Lambda function we have just created.\n",
    "\n",
    "Using AWS Console, navigate to **Amazon API Gateway** and then click on **Get started**.\n",
    "\n",
    "On the next page, make sure that **New API** is selected and give the new api a name, for example, `sentiment_analysis_api`. Then, click on **Create API**.\n",
    "\n",
    "Now we have created an API, however it doesn't currently do anything. What we want it to do is to trigger the Lambda function that we created earlier.\n",
    "\n",
    "Select the **Actions** dropdown menu and click **Create Method**. A new blank method will be created, select its dropdown menu and select **POST**, then click on the check mark beside it.\n",
    "\n",
    "For the integration point, make sure that **Lambda Function** is selected and click on the **Use Lambda Proxy integration**. This option makes sure that the data that is sent to the API is then sent directly to the Lambda function with no processing. It also means that the return value must be a proper response object as it will also not be processed by API Gateway.\n",
    "\n",
    "Type the name of the Lambda function you created earlier into the **Lambda Function** text entry box and then click on **Save**. Click on **OK** in the pop-up box that then appears, giving permission to API Gateway to invoke the Lambda function you created.\n",
    "\n",
    "The last step in creating the API Gateway is to select the **Actions** dropdown and click on **Deploy API**. You will need to create a new Deployment stage and name it anything you like, for example `prod`.\n",
    "\n",
    "You have now successfully set up a public API to access your SageMaker model. Make sure to copy or write down the URL provided to invoke your newly created public API as this will be needed in the next step. This URL can be found at the top of the page, highlighted in blue next to the text **Invoke URL**."
   ]
  },
  {
   "cell_type": "markdown",
   "metadata": {},
   "source": [
    "## Step 4: Deploying our web app\n",
    "\n",
    "Now that we have a publicly available API, we can start using it in a web app. For our purposes, we have provided a simple static html file which can make use of the public api you created earlier.\n",
    "\n",
    "In the `website` folder there should be a file called `index.html`. Download the file to your computer and open that file up in a text editor of your choice. There should be a line which contains **\\*\\*REPLACE WITH PUBLIC API URL\\*\\***. Replace this string with the url that you wrote down in the last step and then save the file.\n",
    "\n",
    "Now, if you open `index.html` on your local computer, your browser will behave as a local web server and you can use the provided site to interact with your SageMaker model.\n",
    "\n",
    "If you'd like to go further, you can host this html file anywhere you'd like, for example using github or hosting a static site on Amazon's S3. Once you have done this you can share the link with anyone you'd like and have them play with it too!\n",
    "\n",
    "> **Important Note** In order for the web app to communicate with the SageMaker endpoint, the endpoint has to actually be deployed and running. This means that you are paying for it. Make sure that the endpoint is running when you want to use the web app but that you shut it down when you don't need it, otherwise you will end up with a surprisingly large AWS bill.\n",
    "\n",
    "**TODO:** Make sure that you include the edited `index.html` file in your project submission."
   ]
  },
  {
   "cell_type": "markdown",
   "metadata": {},
   "source": [
    "Now that your web app is working, trying playing around with it and see how well it works.\n",
    "\n",
    "**Question**: Give an example of a review that you entered into your web app. What was the predicted sentiment of your example review?"
   ]
  },
  {
   "attachments": {},
   "cell_type": "markdown",
   "metadata": {},
   "source": [
    "**Answer:**\n",
    "1. Sample positive review: \"The movie has balanced all its features. The characters fit their role. It is a movie worth watching.\"\n",
    "Output: \"Your review was POSITIVE!\"\n",
    "\n",
    "2. Sample negative review: \"The movie is boring. Definitely a flop.\"\n",
    "Output: \"Your review was NEGATIVE!\"\n"
   ]
  },
  {
   "cell_type": "markdown",
   "metadata": {},
   "source": [
    "### Delete the endpoint\n",
    "\n",
    "Remember to always shut down your endpoint if you are no longer using it. You are charged for the length of time that the endpoint is running so if you forget and leave it on you could end up with an unexpectedly large bill."
   ]
  },
  {
   "cell_type": "code",
   "execution_count": 57,
   "metadata": {},
   "outputs": [],
   "source": [
    "predictor.delete_endpoint()"
   ]
  }
 ],
 "metadata": {
  "kernelspec": {
   "display_name": "conda_pytorch_p36",
   "language": "python",
   "name": "conda_pytorch_p36"
  },
  "language_info": {
   "codemirror_mode": {
    "name": "ipython",
    "version": 3
   },
   "file_extension": ".py",
   "mimetype": "text/x-python",
   "name": "python",
   "nbconvert_exporter": "python",
   "pygments_lexer": "ipython3",
   "version": "3.6.10"
  }
 },
 "nbformat": 4,
 "nbformat_minor": 2
}
